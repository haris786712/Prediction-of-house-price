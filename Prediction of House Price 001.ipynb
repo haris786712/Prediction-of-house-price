{
 "cells": [
  {
   "cell_type": "markdown",
   "metadata": {},
   "source": [
    "### Part I Introduction"
   ]
  },
  {
   "cell_type": "markdown",
   "metadata": {},
   "source": [
    "### About the data\n",
    " 1. To study on this project, we have collected the primary data of vallabh vidyanagar ,Anand . we     firstly\n",
    "    selected vallabh vidyanagar as prime location and then have sub location as nanabazar , motabazar\n",
    "    ,bakrol gate & karamsad road.\n",
    " 2. Columns:\n",
    "    - Price:Price of the to be sold\n",
    "    - Society:Name of the society\n",
    "    - location:In which area society is located\n",
    "    - OverallCondition:Condition of the house.\n",
    "     OverallCond: Rates the overall condition of the house\n",
    "\n",
    "       10--\tVery Excellent,\n",
    "       9--\tExcellent,\n",
    "       8--\tVery Good,\n",
    "       7--\tGood,\n",
    "       6--\tAbove Average,\t\n",
    "       5--\tAverage,\n",
    "       4--\tBelow Average,\t\n",
    "       3--\tFair,\n",
    "       2--\tPoor,\n",
    "       1--\tVery Poor\n",
    "    - YearBuilt:In which year house is built.\n",
    "    - area sqrtft:Squarefoot of living in the area.\n",
    "    - type of house:Which type of house is available(for e.g.2bhk,3bhk etc.)\n",
    "    \n",
    "    "
   ]
  },
  {
   "cell_type": "markdown",
   "metadata": {},
   "source": [
    "### Goal\n",
    "- Here our goal is to predict the price of house(dependent variable) located in vallabh vidyanagar,\n",
    "  with the help of other essential features(independent variable) available in our dataset. The predictive analysis using supervise learning is used for effective prediction and cost evaluated\n",
    "   on the area type, locality, availability of facilities etc."
   ]
  },
  {
   "cell_type": "markdown",
   "metadata": {},
   "source": [
    "### Part II Data Assessment"
   ]
  },
  {
   "cell_type": "markdown",
   "metadata": {},
   "source": [
    "#### import libraries"
   ]
  },
  {
   "cell_type": "code",
   "execution_count": 1,
   "metadata": {},
   "outputs": [],
   "source": [
    "import pandas as pd\n",
    "import numpy as np\n",
    "import seaborn as sns\n",
    "sns.set()\n",
    "import matplotlib.pyplot as plt\n",
    "%matplotlib inline"
   ]
  },
  {
   "cell_type": "markdown",
   "metadata": {},
   "source": [
    "#### Check out the data"
   ]
  },
  {
   "cell_type": "code",
   "execution_count": 2,
   "metadata": {},
   "outputs": [
    {
     "data": {
      "text/html": [
       "<div>\n",
       "<style scoped>\n",
       "    .dataframe tbody tr th:only-of-type {\n",
       "        vertical-align: middle;\n",
       "    }\n",
       "\n",
       "    .dataframe tbody tr th {\n",
       "        vertical-align: top;\n",
       "    }\n",
       "\n",
       "    .dataframe thead th {\n",
       "        text-align: right;\n",
       "    }\n",
       "</style>\n",
       "<table border=\"1\" class=\"dataframe\">\n",
       "  <thead>\n",
       "    <tr style=\"text-align: right;\">\n",
       "      <th></th>\n",
       "      <th>Id</th>\n",
       "      <th>area type</th>\n",
       "      <th>society</th>\n",
       "      <th>location</th>\n",
       "      <th>OverallCond</th>\n",
       "      <th>YearBuilt</th>\n",
       "      <th>area sqrtft</th>\n",
       "      <th>type of house</th>\n",
       "      <th>price</th>\n",
       "    </tr>\n",
       "  </thead>\n",
       "  <tbody>\n",
       "    <tr>\n",
       "      <th>0</th>\n",
       "      <td>maruti1</td>\n",
       "      <td>carpet area</td>\n",
       "      <td>maruti</td>\n",
       "      <td>arvind marg</td>\n",
       "      <td>9</td>\n",
       "      <td>2019</td>\n",
       "      <td>684</td>\n",
       "      <td>2 bhk</td>\n",
       "      <td>25.0</td>\n",
       "    </tr>\n",
       "    <tr>\n",
       "      <th>1</th>\n",
       "      <td>maruti2</td>\n",
       "      <td>carpet area</td>\n",
       "      <td>maruti</td>\n",
       "      <td>arvind marg</td>\n",
       "      <td>9</td>\n",
       "      <td>2019</td>\n",
       "      <td>450</td>\n",
       "      <td>1 bhk</td>\n",
       "      <td>17.0</td>\n",
       "    </tr>\n",
       "    <tr>\n",
       "      <th>2</th>\n",
       "      <td>maruti1</td>\n",
       "      <td>carpet area</td>\n",
       "      <td>maruti</td>\n",
       "      <td>arvind marg</td>\n",
       "      <td>9</td>\n",
       "      <td>2019</td>\n",
       "      <td>1364</td>\n",
       "      <td>3 bhk</td>\n",
       "      <td>40.0</td>\n",
       "    </tr>\n",
       "    <tr>\n",
       "      <th>3</th>\n",
       "      <td>maruti1</td>\n",
       "      <td>carpet area</td>\n",
       "      <td>maruti</td>\n",
       "      <td>arvind marg</td>\n",
       "      <td>9</td>\n",
       "      <td>2019</td>\n",
       "      <td>200</td>\n",
       "      <td>1 shop</td>\n",
       "      <td>25.0</td>\n",
       "    </tr>\n",
       "    <tr>\n",
       "      <th>4</th>\n",
       "      <td>ramkunj1</td>\n",
       "      <td>carpet area</td>\n",
       "      <td>ram kunj</td>\n",
       "      <td>arvind marg</td>\n",
       "      <td>8</td>\n",
       "      <td>2017</td>\n",
       "      <td>850</td>\n",
       "      <td>2 bhk</td>\n",
       "      <td>25.0</td>\n",
       "    </tr>\n",
       "  </tbody>\n",
       "</table>\n",
       "</div>"
      ],
      "text/plain": [
       "         Id    area type   society     location  OverallCond  YearBuilt  \\\n",
       "0   maruti1  carpet area    maruti  arvind marg            9       2019   \n",
       "1   maruti2  carpet area    maruti  arvind marg            9       2019   \n",
       "2   maruti1  carpet area    maruti  arvind marg            9       2019   \n",
       "3   maruti1  carpet area    maruti  arvind marg            9       2019   \n",
       "4  ramkunj1  carpet area  ram kunj  arvind marg            8       2017   \n",
       "\n",
       "   area sqrtft type of house  price  \n",
       "0          684         2 bhk   25.0  \n",
       "1          450         1 bhk   17.0  \n",
       "2         1364         3 bhk   40.0  \n",
       "3          200        1 shop   25.0  \n",
       "4          850         2 bhk   25.0  "
      ]
     },
     "execution_count": 2,
     "metadata": {},
     "output_type": "execute_result"
    }
   ],
   "source": [
    "data=pd.read_excel(\"C:\\\\Users\\\\hp\\\\Desktop\\\\Roll no.20&30\\\\project.xlsx\")\n",
    "data.head()"
   ]
  },
  {
   "cell_type": "markdown",
   "metadata": {},
   "source": [
    "#### Check Missing Data"
   ]
  },
  {
   "cell_type": "code",
   "execution_count": 3,
   "metadata": {},
   "outputs": [
    {
     "data": {
      "text/plain": [
       "Id               12\n",
       "area type         0\n",
       "society           0\n",
       "location          0\n",
       "OverallCond       0\n",
       "YearBuilt         0\n",
       "area sqrtft       0\n",
       "type of house     0\n",
       "price             0\n",
       "dtype: int64"
      ]
     },
     "execution_count": 3,
     "metadata": {},
     "output_type": "execute_result"
    }
   ],
   "source": [
    "data.isnull().sum()"
   ]
  },
  {
   "cell_type": "markdown",
   "metadata": {},
   "source": [
    "we can see here only 12 rows are nan in Id column.Now we will drop Id because\n",
    "Id column is not useful in modeling."
   ]
  },
  {
   "cell_type": "markdown",
   "metadata": {},
   "source": [
    "#### Calculating Statistics\n",
    "We will start with calculating some descriptive statistics about this house data."
   ]
  },
  {
   "cell_type": "code",
   "execution_count": 4,
   "metadata": {},
   "outputs": [
    {
     "name": "stdout",
     "output_type": "stream",
     "text": [
      "<class 'pandas.core.frame.DataFrame'>\n",
      "RangeIndex: 47 entries, 0 to 46\n",
      "Data columns (total 9 columns):\n",
      " #   Column         Non-Null Count  Dtype  \n",
      "---  ------         --------------  -----  \n",
      " 0   Id             35 non-null     object \n",
      " 1   area type      47 non-null     object \n",
      " 2   society        47 non-null     object \n",
      " 3   location       47 non-null     object \n",
      " 4   OverallCond    47 non-null     int64  \n",
      " 5   YearBuilt      47 non-null     int64  \n",
      " 6   area sqrtft    47 non-null     int64  \n",
      " 7   type of house  47 non-null     object \n",
      " 8   price          47 non-null     float64\n",
      "dtypes: float64(1), int64(3), object(5)\n",
      "memory usage: 2.4+ KB\n"
     ]
    }
   ],
   "source": [
    "data.info()"
   ]
  },
  {
   "cell_type": "code",
   "execution_count": 5,
   "metadata": {},
   "outputs": [
    {
     "data": {
      "text/plain": [
       "Index(['Id', 'area type', 'society', 'location', 'OverallCond', 'YearBuilt',\n",
       "       'area sqrtft', 'type of house', 'price'],\n",
       "      dtype='object')"
      ]
     },
     "execution_count": 5,
     "metadata": {},
     "output_type": "execute_result"
    }
   ],
   "source": [
    "data.columns"
   ]
  },
  {
   "cell_type": "code",
   "execution_count": 6,
   "metadata": {},
   "outputs": [
    {
     "data": {
      "text/plain": [
       "(47, 9)"
      ]
     },
     "execution_count": 6,
     "metadata": {},
     "output_type": "execute_result"
    }
   ],
   "source": [
    "data.shape"
   ]
  },
  {
   "cell_type": "code",
   "execution_count": 7,
   "metadata": {},
   "outputs": [
    {
     "data": {
      "text/plain": [
       "array(['arvind marg', 'sahid chowk', 'harinagar road', 'kisan market',\n",
       "       'bakrol road', 'bakrol gate', 'rajender marg', 'nagar palika road'],\n",
       "      dtype=object)"
      ]
     },
     "execution_count": 7,
     "metadata": {},
     "output_type": "execute_result"
    }
   ],
   "source": [
    "data['location'].unique()"
   ]
  },
  {
   "cell_type": "code",
   "execution_count": 8,
   "metadata": {},
   "outputs": [
    {
     "data": {
      "text/plain": [
       "rajender marg        8\n",
       "arvind marg          7\n",
       "sahid chowk          6\n",
       "kisan market         6\n",
       "bakrol road          5\n",
       "harinagar road       5\n",
       "nagar palika road    5\n",
       "bakrol gate          5\n",
       "Name: location, dtype: int64"
      ]
     },
     "execution_count": 8,
     "metadata": {},
     "output_type": "execute_result"
    }
   ],
   "source": [
    "data['location'].value_counts()"
   ]
  },
  {
   "cell_type": "code",
   "execution_count": 9,
   "metadata": {},
   "outputs": [
    {
     "data": {
      "text/html": [
       "<div>\n",
       "<style scoped>\n",
       "    .dataframe tbody tr th:only-of-type {\n",
       "        vertical-align: middle;\n",
       "    }\n",
       "\n",
       "    .dataframe tbody tr th {\n",
       "        vertical-align: top;\n",
       "    }\n",
       "\n",
       "    .dataframe thead th {\n",
       "        text-align: right;\n",
       "    }\n",
       "</style>\n",
       "<table border=\"1\" class=\"dataframe\">\n",
       "  <thead>\n",
       "    <tr style=\"text-align: right;\">\n",
       "      <th></th>\n",
       "      <th>OverallCond</th>\n",
       "      <th>YearBuilt</th>\n",
       "      <th>area sqrtft</th>\n",
       "      <th>price</th>\n",
       "    </tr>\n",
       "  </thead>\n",
       "  <tbody>\n",
       "    <tr>\n",
       "      <th>count</th>\n",
       "      <td>47.000000</td>\n",
       "      <td>47.000000</td>\n",
       "      <td>47.000000</td>\n",
       "      <td>47.000000</td>\n",
       "    </tr>\n",
       "    <tr>\n",
       "      <th>mean</th>\n",
       "      <td>8.021277</td>\n",
       "      <td>2010.702128</td>\n",
       "      <td>782.595745</td>\n",
       "      <td>22.441702</td>\n",
       "    </tr>\n",
       "    <tr>\n",
       "      <th>std</th>\n",
       "      <td>0.820640</td>\n",
       "      <td>7.629790</td>\n",
       "      <td>344.923600</td>\n",
       "      <td>8.744207</td>\n",
       "    </tr>\n",
       "    <tr>\n",
       "      <th>min</th>\n",
       "      <td>6.000000</td>\n",
       "      <td>1995.000000</td>\n",
       "      <td>200.000000</td>\n",
       "      <td>8.000000</td>\n",
       "    </tr>\n",
       "    <tr>\n",
       "      <th>25%</th>\n",
       "      <td>8.000000</td>\n",
       "      <td>2005.000000</td>\n",
       "      <td>510.000000</td>\n",
       "      <td>15.000000</td>\n",
       "    </tr>\n",
       "    <tr>\n",
       "      <th>50%</th>\n",
       "      <td>8.000000</td>\n",
       "      <td>2010.000000</td>\n",
       "      <td>750.000000</td>\n",
       "      <td>22.000000</td>\n",
       "    </tr>\n",
       "    <tr>\n",
       "      <th>75%</th>\n",
       "      <td>9.000000</td>\n",
       "      <td>2018.000000</td>\n",
       "      <td>900.000000</td>\n",
       "      <td>28.000000</td>\n",
       "    </tr>\n",
       "    <tr>\n",
       "      <th>max</th>\n",
       "      <td>9.000000</td>\n",
       "      <td>2020.000000</td>\n",
       "      <td>1500.000000</td>\n",
       "      <td>45.000000</td>\n",
       "    </tr>\n",
       "  </tbody>\n",
       "</table>\n",
       "</div>"
      ],
      "text/plain": [
       "       OverallCond    YearBuilt  area sqrtft      price\n",
       "count    47.000000    47.000000    47.000000  47.000000\n",
       "mean      8.021277  2010.702128   782.595745  22.441702\n",
       "std       0.820640     7.629790   344.923600   8.744207\n",
       "min       6.000000  1995.000000   200.000000   8.000000\n",
       "25%       8.000000  2005.000000   510.000000  15.000000\n",
       "50%       8.000000  2010.000000   750.000000  22.000000\n",
       "75%       9.000000  2018.000000   900.000000  28.000000\n",
       "max       9.000000  2020.000000  1500.000000  45.000000"
      ]
     },
     "execution_count": 9,
     "metadata": {},
     "output_type": "execute_result"
    }
   ],
   "source": [
    "data.describe()"
   ]
  },
  {
   "cell_type": "markdown",
   "metadata": {},
   "source": [
    "To get better understanding about this dataset, I summaried all importabt variables in terms of minimum, first quartile, median, mean, third quantile and maximum value."
   ]
  },
  {
   "cell_type": "code",
   "execution_count": 10,
   "metadata": {},
   "outputs": [
    {
     "data": {
      "text/plain": [
       "count    47.000000\n",
       "mean     22.441702\n",
       "std       8.744207\n",
       "min       8.000000\n",
       "25%      15.000000\n",
       "50%      22.000000\n",
       "75%      28.000000\n",
       "max      45.000000\n",
       "Name: price, dtype: float64"
      ]
     },
     "execution_count": 10,
     "metadata": {},
     "output_type": "execute_result"
    }
   ],
   "source": [
    "data['price'].describe()"
   ]
  },
  {
   "cell_type": "code",
   "execution_count": 11,
   "metadata": {},
   "outputs": [
    {
     "data": {
      "text/plain": [
       "count      47.000000\n",
       "mean      782.595745\n",
       "std       344.923600\n",
       "min       200.000000\n",
       "25%       510.000000\n",
       "50%       750.000000\n",
       "75%       900.000000\n",
       "max      1500.000000\n",
       "Name: area sqrtft, dtype: float64"
      ]
     },
     "execution_count": 11,
     "metadata": {},
     "output_type": "execute_result"
    }
   ],
   "source": [
    "data['area sqrtft'].describe()"
   ]
  },
  {
   "cell_type": "markdown",
   "metadata": {},
   "source": [
    "#### Data Cleaning "
   ]
  },
  {
   "cell_type": "code",
   "execution_count": 12,
   "metadata": {},
   "outputs": [],
   "source": [
    "data['bhk']=data['type of house'].apply(lambda x: int(x.split(' ')[0]))"
   ]
  },
  {
   "cell_type": "code",
   "execution_count": 13,
   "metadata": {},
   "outputs": [
    {
     "data": {
      "text/html": [
       "<div>\n",
       "<style scoped>\n",
       "    .dataframe tbody tr th:only-of-type {\n",
       "        vertical-align: middle;\n",
       "    }\n",
       "\n",
       "    .dataframe tbody tr th {\n",
       "        vertical-align: top;\n",
       "    }\n",
       "\n",
       "    .dataframe thead th {\n",
       "        text-align: right;\n",
       "    }\n",
       "</style>\n",
       "<table border=\"1\" class=\"dataframe\">\n",
       "  <thead>\n",
       "    <tr style=\"text-align: right;\">\n",
       "      <th></th>\n",
       "      <th>Id</th>\n",
       "      <th>area type</th>\n",
       "      <th>society</th>\n",
       "      <th>location</th>\n",
       "      <th>OverallCond</th>\n",
       "      <th>YearBuilt</th>\n",
       "      <th>area sqrtft</th>\n",
       "      <th>type of house</th>\n",
       "      <th>price</th>\n",
       "      <th>bhk</th>\n",
       "    </tr>\n",
       "  </thead>\n",
       "  <tbody>\n",
       "    <tr>\n",
       "      <th>0</th>\n",
       "      <td>maruti1</td>\n",
       "      <td>carpet area</td>\n",
       "      <td>maruti</td>\n",
       "      <td>arvind marg</td>\n",
       "      <td>9</td>\n",
       "      <td>2019</td>\n",
       "      <td>684</td>\n",
       "      <td>2 bhk</td>\n",
       "      <td>25.0</td>\n",
       "      <td>2</td>\n",
       "    </tr>\n",
       "    <tr>\n",
       "      <th>1</th>\n",
       "      <td>maruti2</td>\n",
       "      <td>carpet area</td>\n",
       "      <td>maruti</td>\n",
       "      <td>arvind marg</td>\n",
       "      <td>9</td>\n",
       "      <td>2019</td>\n",
       "      <td>450</td>\n",
       "      <td>1 bhk</td>\n",
       "      <td>17.0</td>\n",
       "      <td>1</td>\n",
       "    </tr>\n",
       "    <tr>\n",
       "      <th>2</th>\n",
       "      <td>maruti1</td>\n",
       "      <td>carpet area</td>\n",
       "      <td>maruti</td>\n",
       "      <td>arvind marg</td>\n",
       "      <td>9</td>\n",
       "      <td>2019</td>\n",
       "      <td>1364</td>\n",
       "      <td>3 bhk</td>\n",
       "      <td>40.0</td>\n",
       "      <td>3</td>\n",
       "    </tr>\n",
       "    <tr>\n",
       "      <th>3</th>\n",
       "      <td>maruti1</td>\n",
       "      <td>carpet area</td>\n",
       "      <td>maruti</td>\n",
       "      <td>arvind marg</td>\n",
       "      <td>9</td>\n",
       "      <td>2019</td>\n",
       "      <td>200</td>\n",
       "      <td>1 shop</td>\n",
       "      <td>25.0</td>\n",
       "      <td>1</td>\n",
       "    </tr>\n",
       "    <tr>\n",
       "      <th>4</th>\n",
       "      <td>ramkunj1</td>\n",
       "      <td>carpet area</td>\n",
       "      <td>ram kunj</td>\n",
       "      <td>arvind marg</td>\n",
       "      <td>8</td>\n",
       "      <td>2017</td>\n",
       "      <td>850</td>\n",
       "      <td>2 bhk</td>\n",
       "      <td>25.0</td>\n",
       "      <td>2</td>\n",
       "    </tr>\n",
       "  </tbody>\n",
       "</table>\n",
       "</div>"
      ],
      "text/plain": [
       "         Id    area type   society     location  OverallCond  YearBuilt  \\\n",
       "0   maruti1  carpet area    maruti  arvind marg            9       2019   \n",
       "1   maruti2  carpet area    maruti  arvind marg            9       2019   \n",
       "2   maruti1  carpet area    maruti  arvind marg            9       2019   \n",
       "3   maruti1  carpet area    maruti  arvind marg            9       2019   \n",
       "4  ramkunj1  carpet area  ram kunj  arvind marg            8       2017   \n",
       "\n",
       "   area sqrtft type of house  price  bhk  \n",
       "0          684         2 bhk   25.0    2  \n",
       "1          450         1 bhk   17.0    1  \n",
       "2         1364         3 bhk   40.0    3  \n",
       "3          200        1 shop   25.0    1  \n",
       "4          850         2 bhk   25.0    2  "
      ]
     },
     "execution_count": 13,
     "metadata": {},
     "output_type": "execute_result"
    }
   ],
   "source": [
    "data.head()"
   ]
  },
  {
   "cell_type": "code",
   "execution_count": 14,
   "metadata": {},
   "outputs": [],
   "source": [
    "data['age of building']=2020-data['YearBuilt']"
   ]
  },
  {
   "cell_type": "code",
   "execution_count": 15,
   "metadata": {},
   "outputs": [
    {
     "data": {
      "text/html": [
       "<div>\n",
       "<style scoped>\n",
       "    .dataframe tbody tr th:only-of-type {\n",
       "        vertical-align: middle;\n",
       "    }\n",
       "\n",
       "    .dataframe tbody tr th {\n",
       "        vertical-align: top;\n",
       "    }\n",
       "\n",
       "    .dataframe thead th {\n",
       "        text-align: right;\n",
       "    }\n",
       "</style>\n",
       "<table border=\"1\" class=\"dataframe\">\n",
       "  <thead>\n",
       "    <tr style=\"text-align: right;\">\n",
       "      <th></th>\n",
       "      <th>Id</th>\n",
       "      <th>area type</th>\n",
       "      <th>society</th>\n",
       "      <th>location</th>\n",
       "      <th>OverallCond</th>\n",
       "      <th>YearBuilt</th>\n",
       "      <th>area sqrtft</th>\n",
       "      <th>type of house</th>\n",
       "      <th>price</th>\n",
       "      <th>bhk</th>\n",
       "      <th>age of building</th>\n",
       "    </tr>\n",
       "  </thead>\n",
       "  <tbody>\n",
       "    <tr>\n",
       "      <th>0</th>\n",
       "      <td>maruti1</td>\n",
       "      <td>carpet area</td>\n",
       "      <td>maruti</td>\n",
       "      <td>arvind marg</td>\n",
       "      <td>9</td>\n",
       "      <td>2019</td>\n",
       "      <td>684</td>\n",
       "      <td>2 bhk</td>\n",
       "      <td>25.0</td>\n",
       "      <td>2</td>\n",
       "      <td>1</td>\n",
       "    </tr>\n",
       "    <tr>\n",
       "      <th>1</th>\n",
       "      <td>maruti2</td>\n",
       "      <td>carpet area</td>\n",
       "      <td>maruti</td>\n",
       "      <td>arvind marg</td>\n",
       "      <td>9</td>\n",
       "      <td>2019</td>\n",
       "      <td>450</td>\n",
       "      <td>1 bhk</td>\n",
       "      <td>17.0</td>\n",
       "      <td>1</td>\n",
       "      <td>1</td>\n",
       "    </tr>\n",
       "    <tr>\n",
       "      <th>2</th>\n",
       "      <td>maruti1</td>\n",
       "      <td>carpet area</td>\n",
       "      <td>maruti</td>\n",
       "      <td>arvind marg</td>\n",
       "      <td>9</td>\n",
       "      <td>2019</td>\n",
       "      <td>1364</td>\n",
       "      <td>3 bhk</td>\n",
       "      <td>40.0</td>\n",
       "      <td>3</td>\n",
       "      <td>1</td>\n",
       "    </tr>\n",
       "    <tr>\n",
       "      <th>3</th>\n",
       "      <td>maruti1</td>\n",
       "      <td>carpet area</td>\n",
       "      <td>maruti</td>\n",
       "      <td>arvind marg</td>\n",
       "      <td>9</td>\n",
       "      <td>2019</td>\n",
       "      <td>200</td>\n",
       "      <td>1 shop</td>\n",
       "      <td>25.0</td>\n",
       "      <td>1</td>\n",
       "      <td>1</td>\n",
       "    </tr>\n",
       "    <tr>\n",
       "      <th>4</th>\n",
       "      <td>ramkunj1</td>\n",
       "      <td>carpet area</td>\n",
       "      <td>ram kunj</td>\n",
       "      <td>arvind marg</td>\n",
       "      <td>8</td>\n",
       "      <td>2017</td>\n",
       "      <td>850</td>\n",
       "      <td>2 bhk</td>\n",
       "      <td>25.0</td>\n",
       "      <td>2</td>\n",
       "      <td>3</td>\n",
       "    </tr>\n",
       "  </tbody>\n",
       "</table>\n",
       "</div>"
      ],
      "text/plain": [
       "         Id    area type   society     location  OverallCond  YearBuilt  \\\n",
       "0   maruti1  carpet area    maruti  arvind marg            9       2019   \n",
       "1   maruti2  carpet area    maruti  arvind marg            9       2019   \n",
       "2   maruti1  carpet area    maruti  arvind marg            9       2019   \n",
       "3   maruti1  carpet area    maruti  arvind marg            9       2019   \n",
       "4  ramkunj1  carpet area  ram kunj  arvind marg            8       2017   \n",
       "\n",
       "   area sqrtft type of house  price  bhk  age of building  \n",
       "0          684         2 bhk   25.0    2                1  \n",
       "1          450         1 bhk   17.0    1                1  \n",
       "2         1364         3 bhk   40.0    3                1  \n",
       "3          200        1 shop   25.0    1                1  \n",
       "4          850         2 bhk   25.0    2                3  "
      ]
     },
     "execution_count": 15,
     "metadata": {},
     "output_type": "execute_result"
    }
   ],
   "source": [
    "data.head()"
   ]
  },
  {
   "cell_type": "code",
   "execution_count": 16,
   "metadata": {},
   "outputs": [
    {
     "data": {
      "text/html": [
       "<div>\n",
       "<style scoped>\n",
       "    .dataframe tbody tr th:only-of-type {\n",
       "        vertical-align: middle;\n",
       "    }\n",
       "\n",
       "    .dataframe tbody tr th {\n",
       "        vertical-align: top;\n",
       "    }\n",
       "\n",
       "    .dataframe thead th {\n",
       "        text-align: right;\n",
       "    }\n",
       "</style>\n",
       "<table border=\"1\" class=\"dataframe\">\n",
       "  <thead>\n",
       "    <tr style=\"text-align: right;\">\n",
       "      <th></th>\n",
       "      <th>location</th>\n",
       "      <th>OverallCond</th>\n",
       "      <th>area sqrtft</th>\n",
       "      <th>price</th>\n",
       "      <th>bhk</th>\n",
       "      <th>age of building</th>\n",
       "    </tr>\n",
       "  </thead>\n",
       "  <tbody>\n",
       "    <tr>\n",
       "      <th>0</th>\n",
       "      <td>arvind marg</td>\n",
       "      <td>9</td>\n",
       "      <td>684</td>\n",
       "      <td>25.0</td>\n",
       "      <td>2</td>\n",
       "      <td>1</td>\n",
       "    </tr>\n",
       "    <tr>\n",
       "      <th>1</th>\n",
       "      <td>arvind marg</td>\n",
       "      <td>9</td>\n",
       "      <td>450</td>\n",
       "      <td>17.0</td>\n",
       "      <td>1</td>\n",
       "      <td>1</td>\n",
       "    </tr>\n",
       "    <tr>\n",
       "      <th>2</th>\n",
       "      <td>arvind marg</td>\n",
       "      <td>9</td>\n",
       "      <td>1364</td>\n",
       "      <td>40.0</td>\n",
       "      <td>3</td>\n",
       "      <td>1</td>\n",
       "    </tr>\n",
       "    <tr>\n",
       "      <th>3</th>\n",
       "      <td>arvind marg</td>\n",
       "      <td>9</td>\n",
       "      <td>200</td>\n",
       "      <td>25.0</td>\n",
       "      <td>1</td>\n",
       "      <td>1</td>\n",
       "    </tr>\n",
       "    <tr>\n",
       "      <th>4</th>\n",
       "      <td>arvind marg</td>\n",
       "      <td>8</td>\n",
       "      <td>850</td>\n",
       "      <td>25.0</td>\n",
       "      <td>2</td>\n",
       "      <td>3</td>\n",
       "    </tr>\n",
       "  </tbody>\n",
       "</table>\n",
       "</div>"
      ],
      "text/plain": [
       "      location  OverallCond  area sqrtft  price  bhk  age of building\n",
       "0  arvind marg            9          684   25.0    2                1\n",
       "1  arvind marg            9          450   17.0    1                1\n",
       "2  arvind marg            9         1364   40.0    3                1\n",
       "3  arvind marg            9          200   25.0    1                1\n",
       "4  arvind marg            8          850   25.0    2                3"
      ]
     },
     "execution_count": 16,
     "metadata": {},
     "output_type": "execute_result"
    }
   ],
   "source": [
    "df1=data.drop(['Id','area type','society','YearBuilt','type of house'],axis=1)\n",
    "df1.head()\n"
   ]
  },
  {
   "cell_type": "markdown",
   "metadata": {},
   "source": [
    "we droped columns(Id,areatype,society) because these are not useful in prediction and \n",
    "we also dropped YearBuilt and type of house because we already convert these two variable by\n",
    "bhk and age of building."
   ]
  },
  {
   "cell_type": "markdown",
   "metadata": {},
   "source": [
    "#### exploratory analysis of SalePrice"
   ]
  },
  {
   "cell_type": "markdown",
   "metadata": {},
   "source": [
    "SalePrice is our target variable and also the dependent variable for prediction. According to the assumptions of Linear Regression, data should be normally distributed. By checking the distribution of SalePrice, we can decide if we need non-linear transformation, like log term, to make better prediction."
   ]
  },
  {
   "cell_type": "code",
   "execution_count": 17,
   "metadata": {},
   "outputs": [
    {
     "data": {
      "text/plain": [
       "<matplotlib.axes._subplots.AxesSubplot at 0xe8950f0>"
      ]
     },
     "execution_count": 17,
     "metadata": {},
     "output_type": "execute_result"
    },
    {
     "data": {
      "image/png": "[encoded data removed]",
      "text/plain": [
       "<Figure size 432x288 with 1 Axes>"
      ]
     },
     "metadata": {
      "needs_background": "light"
     },
     "output_type": "display_data"
    }
   ],
   "source": [
    "### Lets check the outlier\n",
    "import seaborn as sns\n",
    "sns.distplot(df1['price'])"
   ]
  },
  {
   "cell_type": "code",
   "execution_count": 18,
   "metadata": {},
   "outputs": [
    {
     "data": {
      "text/plain": [
       "Text(0.5, 1.0, 'Box plot')"
      ]
     },
     "execution_count": 18,
     "metadata": {},
     "output_type": "execute_result"
    },
    {
     "data": {
      "image/png": "[encoded data removed]",
      "text/plain": [
       "<Figure size 432x288 with 1 Axes>"
      ]
     },
     "metadata": {
      "needs_background": "light"
     },
     "output_type": "display_data"
    }
   ],
   "source": [
    "plt.boxplot(df1.price)\n",
    "plt.ylabel('price')\n",
    "plt.title(\"Box plot\")"
   ]
  },
  {
   "cell_type": "markdown",
   "metadata": {},
   "source": [
    "##### From above it is clear that there is no outlier but this is not true lets see why"
   ]
  },
  {
   "cell_type": "code",
   "execution_count": 19,
   "metadata": {},
   "outputs": [],
   "source": [
    "df2=df1.copy()\n",
    "df2['price_per_srqft']=df2['price']*100000/df2['area sqrtft']"
   ]
  },
  {
   "cell_type": "code",
   "execution_count": 20,
   "metadata": {},
   "outputs": [
    {
     "data": {
      "text/html": [
       "<div>\n",
       "<style scoped>\n",
       "    .dataframe tbody tr th:only-of-type {\n",
       "        vertical-align: middle;\n",
       "    }\n",
       "\n",
       "    .dataframe tbody tr th {\n",
       "        vertical-align: top;\n",
       "    }\n",
       "\n",
       "    .dataframe thead th {\n",
       "        text-align: right;\n",
       "    }\n",
       "</style>\n",
       "<table border=\"1\" class=\"dataframe\">\n",
       "  <thead>\n",
       "    <tr style=\"text-align: right;\">\n",
       "      <th></th>\n",
       "      <th>location</th>\n",
       "      <th>OverallCond</th>\n",
       "      <th>area sqrtft</th>\n",
       "      <th>price</th>\n",
       "      <th>bhk</th>\n",
       "      <th>age of building</th>\n",
       "      <th>price_per_srqft</th>\n",
       "    </tr>\n",
       "  </thead>\n",
       "  <tbody>\n",
       "    <tr>\n",
       "      <th>0</th>\n",
       "      <td>arvind marg</td>\n",
       "      <td>9</td>\n",
       "      <td>684</td>\n",
       "      <td>25.0</td>\n",
       "      <td>2</td>\n",
       "      <td>1</td>\n",
       "      <td>3654.970760</td>\n",
       "    </tr>\n",
       "    <tr>\n",
       "      <th>1</th>\n",
       "      <td>arvind marg</td>\n",
       "      <td>9</td>\n",
       "      <td>450</td>\n",
       "      <td>17.0</td>\n",
       "      <td>1</td>\n",
       "      <td>1</td>\n",
       "      <td>3777.777778</td>\n",
       "    </tr>\n",
       "    <tr>\n",
       "      <th>2</th>\n",
       "      <td>arvind marg</td>\n",
       "      <td>9</td>\n",
       "      <td>1364</td>\n",
       "      <td>40.0</td>\n",
       "      <td>3</td>\n",
       "      <td>1</td>\n",
       "      <td>2932.551320</td>\n",
       "    </tr>\n",
       "    <tr>\n",
       "      <th>3</th>\n",
       "      <td>arvind marg</td>\n",
       "      <td>9</td>\n",
       "      <td>200</td>\n",
       "      <td>25.0</td>\n",
       "      <td>1</td>\n",
       "      <td>1</td>\n",
       "      <td>12500.000000</td>\n",
       "    </tr>\n",
       "    <tr>\n",
       "      <th>4</th>\n",
       "      <td>arvind marg</td>\n",
       "      <td>8</td>\n",
       "      <td>850</td>\n",
       "      <td>25.0</td>\n",
       "      <td>2</td>\n",
       "      <td>3</td>\n",
       "      <td>2941.176471</td>\n",
       "    </tr>\n",
       "  </tbody>\n",
       "</table>\n",
       "</div>"
      ],
      "text/plain": [
       "      location  OverallCond  area sqrtft  price  bhk  age of building  \\\n",
       "0  arvind marg            9          684   25.0    2                1   \n",
       "1  arvind marg            9          450   17.0    1                1   \n",
       "2  arvind marg            9         1364   40.0    3                1   \n",
       "3  arvind marg            9          200   25.0    1                1   \n",
       "4  arvind marg            8          850   25.0    2                3   \n",
       "\n",
       "   price_per_srqft  \n",
       "0      3654.970760  \n",
       "1      3777.777778  \n",
       "2      2932.551320  \n",
       "3     12500.000000  \n",
       "4      2941.176471  "
      ]
     },
     "execution_count": 20,
     "metadata": {},
     "output_type": "execute_result"
    }
   ],
   "source": [
    "df2.head()"
   ]
  },
  {
   "cell_type": "code",
   "execution_count": 21,
   "metadata": {},
   "outputs": [
    {
     "data": {
      "text/html": [
       "<div>\n",
       "<style scoped>\n",
       "    .dataframe tbody tr th:only-of-type {\n",
       "        vertical-align: middle;\n",
       "    }\n",
       "\n",
       "    .dataframe tbody tr th {\n",
       "        vertical-align: top;\n",
       "    }\n",
       "\n",
       "    .dataframe thead th {\n",
       "        text-align: right;\n",
       "    }\n",
       "</style>\n",
       "<table border=\"1\" class=\"dataframe\">\n",
       "  <thead>\n",
       "    <tr style=\"text-align: right;\">\n",
       "      <th></th>\n",
       "      <th>OverallCond</th>\n",
       "      <th>area sqrtft</th>\n",
       "      <th>price</th>\n",
       "      <th>bhk</th>\n",
       "      <th>age of building</th>\n",
       "      <th>price_per_srqft</th>\n",
       "    </tr>\n",
       "  </thead>\n",
       "  <tbody>\n",
       "    <tr>\n",
       "      <th>count</th>\n",
       "      <td>47.000000</td>\n",
       "      <td>47.000000</td>\n",
       "      <td>47.000000</td>\n",
       "      <td>47.000000</td>\n",
       "      <td>47.000000</td>\n",
       "      <td>47.000000</td>\n",
       "    </tr>\n",
       "    <tr>\n",
       "      <th>mean</th>\n",
       "      <td>8.021277</td>\n",
       "      <td>782.595745</td>\n",
       "      <td>22.441702</td>\n",
       "      <td>1.978723</td>\n",
       "      <td>9.297872</td>\n",
       "      <td>3313.962848</td>\n",
       "    </tr>\n",
       "    <tr>\n",
       "      <th>std</th>\n",
       "      <td>0.820640</td>\n",
       "      <td>344.923600</td>\n",
       "      <td>8.744207</td>\n",
       "      <td>0.706780</td>\n",
       "      <td>7.629790</td>\n",
       "      <td>2163.663013</td>\n",
       "    </tr>\n",
       "    <tr>\n",
       "      <th>min</th>\n",
       "      <td>6.000000</td>\n",
       "      <td>200.000000</td>\n",
       "      <td>8.000000</td>\n",
       "      <td>1.000000</td>\n",
       "      <td>0.000000</td>\n",
       "      <td>1200.000000</td>\n",
       "    </tr>\n",
       "    <tr>\n",
       "      <th>25%</th>\n",
       "      <td>8.000000</td>\n",
       "      <td>510.000000</td>\n",
       "      <td>15.000000</td>\n",
       "      <td>1.500000</td>\n",
       "      <td>2.000000</td>\n",
       "      <td>2422.222222</td>\n",
       "    </tr>\n",
       "    <tr>\n",
       "      <th>50%</th>\n",
       "      <td>8.000000</td>\n",
       "      <td>750.000000</td>\n",
       "      <td>22.000000</td>\n",
       "      <td>2.000000</td>\n",
       "      <td>10.000000</td>\n",
       "      <td>2888.888889</td>\n",
       "    </tr>\n",
       "    <tr>\n",
       "      <th>75%</th>\n",
       "      <td>9.000000</td>\n",
       "      <td>900.000000</td>\n",
       "      <td>28.000000</td>\n",
       "      <td>2.000000</td>\n",
       "      <td>15.000000</td>\n",
       "      <td>3298.368298</td>\n",
       "    </tr>\n",
       "    <tr>\n",
       "      <th>max</th>\n",
       "      <td>9.000000</td>\n",
       "      <td>1500.000000</td>\n",
       "      <td>45.000000</td>\n",
       "      <td>3.000000</td>\n",
       "      <td>25.000000</td>\n",
       "      <td>12500.000000</td>\n",
       "    </tr>\n",
       "  </tbody>\n",
       "</table>\n",
       "</div>"
      ],
      "text/plain": [
       "       OverallCond  area sqrtft      price        bhk  age of building  \\\n",
       "count    47.000000    47.000000  47.000000  47.000000        47.000000   \n",
       "mean      8.021277   782.595745  22.441702   1.978723         9.297872   \n",
       "std       0.820640   344.923600   8.744207   0.706780         7.629790   \n",
       "min       6.000000   200.000000   8.000000   1.000000         0.000000   \n",
       "25%       8.000000   510.000000  15.000000   1.500000         2.000000   \n",
       "50%       8.000000   750.000000  22.000000   2.000000        10.000000   \n",
       "75%       9.000000   900.000000  28.000000   2.000000        15.000000   \n",
       "max       9.000000  1500.000000  45.000000   3.000000        25.000000   \n",
       "\n",
       "       price_per_srqft  \n",
       "count        47.000000  \n",
       "mean       3313.962848  \n",
       "std        2163.663013  \n",
       "min        1200.000000  \n",
       "25%        2422.222222  \n",
       "50%        2888.888889  \n",
       "75%        3298.368298  \n",
       "max       12500.000000  "
      ]
     },
     "execution_count": 21,
     "metadata": {},
     "output_type": "execute_result"
    }
   ],
   "source": [
    "df2.describe()"
   ]
  },
  {
   "cell_type": "markdown",
   "metadata": {},
   "source": [
    "##### In above if we see the table of descriptive statistics,in which price_per_srqft the difference betweenQ3 and max are huge.it seems to be a outlier."
   ]
  },
  {
   "cell_type": "code",
   "execution_count": 22,
   "metadata": {},
   "outputs": [
    {
     "data": {
      "text/plain": [
       "<matplotlib.axes._subplots.AxesSubplot at 0xe9605b0>"
      ]
     },
     "execution_count": 22,
     "metadata": {},
     "output_type": "execute_result"
    },
    {
     "data": {
      "image/png": "[encoded data removed]",
      "text/plain": [
       "<Figure size 432x288 with 1 Axes>"
      ]
     },
     "metadata": {
      "needs_background": "light"
     },
     "output_type": "display_data"
    }
   ],
   "source": [
    "sns.distplot(df2['price_per_srqft'])"
   ]
  },
  {
   "cell_type": "code",
   "execution_count": 23,
   "metadata": {},
   "outputs": [
    {
     "data": {
      "text/plain": [
       "Text(0.5, 1.0, 'Box plot')"
      ]
     },
     "execution_count": 23,
     "metadata": {},
     "output_type": "execute_result"
    },
    {
     "data": {
      "image/png": "[encoded data removed]",
      "text/plain": [
       "<Figure size 432x288 with 1 Axes>"
      ]
     },
     "metadata": {
      "needs_background": "light"
     },
     "output_type": "display_data"
    }
   ],
   "source": [
    "plt.boxplot(df2.price_per_srqft)\n",
    "plt.ylabel('price_per_srqft')\n",
    "plt.title(\"Box plot\")"
   ]
  },
  {
   "cell_type": "markdown",
   "metadata": {},
   "source": [
    "##### In above histogram some outlier is present"
   ]
  },
  {
   "cell_type": "markdown",
   "metadata": {},
   "source": [
    "##### let's remove all those rows that price_per_srqft>4000"
   ]
  },
  {
   "cell_type": "code",
   "execution_count": 24,
   "metadata": {},
   "outputs": [
    {
     "data": {
      "text/html": [
       "<div>\n",
       "<style scoped>\n",
       "    .dataframe tbody tr th:only-of-type {\n",
       "        vertical-align: middle;\n",
       "    }\n",
       "\n",
       "    .dataframe tbody tr th {\n",
       "        vertical-align: top;\n",
       "    }\n",
       "\n",
       "    .dataframe thead th {\n",
       "        text-align: right;\n",
       "    }\n",
       "</style>\n",
       "<table border=\"1\" class=\"dataframe\">\n",
       "  <thead>\n",
       "    <tr style=\"text-align: right;\">\n",
       "      <th></th>\n",
       "      <th>location</th>\n",
       "      <th>OverallCond</th>\n",
       "      <th>area sqrtft</th>\n",
       "      <th>price</th>\n",
       "      <th>bhk</th>\n",
       "      <th>age of building</th>\n",
       "      <th>price_per_srqft</th>\n",
       "    </tr>\n",
       "  </thead>\n",
       "  <tbody>\n",
       "    <tr>\n",
       "      <th>3</th>\n",
       "      <td>arvind marg</td>\n",
       "      <td>9</td>\n",
       "      <td>200</td>\n",
       "      <td>25.0</td>\n",
       "      <td>1</td>\n",
       "      <td>1</td>\n",
       "      <td>12500.0</td>\n",
       "    </tr>\n",
       "    <tr>\n",
       "      <th>12</th>\n",
       "      <td>sahid chowk</td>\n",
       "      <td>8</td>\n",
       "      <td>200</td>\n",
       "      <td>22.0</td>\n",
       "      <td>1</td>\n",
       "      <td>3</td>\n",
       "      <td>11000.0</td>\n",
       "    </tr>\n",
       "    <tr>\n",
       "      <th>15</th>\n",
       "      <td>harinagar road</td>\n",
       "      <td>7</td>\n",
       "      <td>200</td>\n",
       "      <td>20.0</td>\n",
       "      <td>1</td>\n",
       "      <td>20</td>\n",
       "      <td>10000.0</td>\n",
       "    </tr>\n",
       "  </tbody>\n",
       "</table>\n",
       "</div>"
      ],
      "text/plain": [
       "          location  OverallCond  area sqrtft  price  bhk  age of building  \\\n",
       "3      arvind marg            9          200   25.0    1                1   \n",
       "12     sahid chowk            8          200   22.0    1                3   \n",
       "15  harinagar road            7          200   20.0    1               20   \n",
       "\n",
       "    price_per_srqft  \n",
       "3           12500.0  \n",
       "12          11000.0  \n",
       "15          10000.0  "
      ]
     },
     "execution_count": 24,
     "metadata": {},
     "output_type": "execute_result"
    }
   ],
   "source": [
    "df2[df2['price_per_srqft']>=4000]"
   ]
  },
  {
   "cell_type": "code",
   "execution_count": 25,
   "metadata": {},
   "outputs": [
    {
     "data": {
      "text/html": [
       "<div>\n",
       "<style scoped>\n",
       "    .dataframe tbody tr th:only-of-type {\n",
       "        vertical-align: middle;\n",
       "    }\n",
       "\n",
       "    .dataframe tbody tr th {\n",
       "        vertical-align: top;\n",
       "    }\n",
       "\n",
       "    .dataframe thead th {\n",
       "        text-align: right;\n",
       "    }\n",
       "</style>\n",
       "<table border=\"1\" class=\"dataframe\">\n",
       "  <thead>\n",
       "    <tr style=\"text-align: right;\">\n",
       "      <th></th>\n",
       "      <th>location</th>\n",
       "      <th>OverallCond</th>\n",
       "      <th>area sqrtft</th>\n",
       "      <th>price</th>\n",
       "      <th>bhk</th>\n",
       "      <th>age of building</th>\n",
       "      <th>price_per_srqft</th>\n",
       "    </tr>\n",
       "  </thead>\n",
       "  <tbody>\n",
       "    <tr>\n",
       "      <th>0</th>\n",
       "      <td>arvind marg</td>\n",
       "      <td>9</td>\n",
       "      <td>684</td>\n",
       "      <td>25.0</td>\n",
       "      <td>2</td>\n",
       "      <td>1</td>\n",
       "      <td>3654.970760</td>\n",
       "    </tr>\n",
       "    <tr>\n",
       "      <th>1</th>\n",
       "      <td>arvind marg</td>\n",
       "      <td>9</td>\n",
       "      <td>450</td>\n",
       "      <td>17.0</td>\n",
       "      <td>1</td>\n",
       "      <td>1</td>\n",
       "      <td>3777.777778</td>\n",
       "    </tr>\n",
       "    <tr>\n",
       "      <th>2</th>\n",
       "      <td>arvind marg</td>\n",
       "      <td>9</td>\n",
       "      <td>1364</td>\n",
       "      <td>40.0</td>\n",
       "      <td>3</td>\n",
       "      <td>1</td>\n",
       "      <td>2932.551320</td>\n",
       "    </tr>\n",
       "    <tr>\n",
       "      <th>4</th>\n",
       "      <td>arvind marg</td>\n",
       "      <td>8</td>\n",
       "      <td>850</td>\n",
       "      <td>25.0</td>\n",
       "      <td>2</td>\n",
       "      <td>3</td>\n",
       "      <td>2941.176471</td>\n",
       "    </tr>\n",
       "    <tr>\n",
       "      <th>5</th>\n",
       "      <td>arvind marg</td>\n",
       "      <td>8</td>\n",
       "      <td>900</td>\n",
       "      <td>30.0</td>\n",
       "      <td>2</td>\n",
       "      <td>3</td>\n",
       "      <td>3333.333333</td>\n",
       "    </tr>\n",
       "  </tbody>\n",
       "</table>\n",
       "</div>"
      ],
      "text/plain": [
       "      location  OverallCond  area sqrtft  price  bhk  age of building  \\\n",
       "0  arvind marg            9          684   25.0    2                1   \n",
       "1  arvind marg            9          450   17.0    1                1   \n",
       "2  arvind marg            9         1364   40.0    3                1   \n",
       "4  arvind marg            8          850   25.0    2                3   \n",
       "5  arvind marg            8          900   30.0    2                3   \n",
       "\n",
       "   price_per_srqft  \n",
       "0      3654.970760  \n",
       "1      3777.777778  \n",
       "2      2932.551320  \n",
       "4      2941.176471  \n",
       "5      3333.333333  "
      ]
     },
     "execution_count": 25,
     "metadata": {},
     "output_type": "execute_result"
    }
   ],
   "source": [
    "df3=df2.drop([3,12,15],axis=0)\n",
    "df3.head()"
   ]
  },
  {
   "cell_type": "code",
   "execution_count": 26,
   "metadata": {},
   "outputs": [
    {
     "data": {
      "text/plain": [
       "(44, 7)"
      ]
     },
     "execution_count": 26,
     "metadata": {},
     "output_type": "execute_result"
    }
   ],
   "source": [
    "df3.shape"
   ]
  },
  {
   "cell_type": "code",
   "execution_count": 27,
   "metadata": {},
   "outputs": [
    {
     "data": {
      "text/html": [
       "<div>\n",
       "<style scoped>\n",
       "    .dataframe tbody tr th:only-of-type {\n",
       "        vertical-align: middle;\n",
       "    }\n",
       "\n",
       "    .dataframe tbody tr th {\n",
       "        vertical-align: top;\n",
       "    }\n",
       "\n",
       "    .dataframe thead th {\n",
       "        text-align: right;\n",
       "    }\n",
       "</style>\n",
       "<table border=\"1\" class=\"dataframe\">\n",
       "  <thead>\n",
       "    <tr style=\"text-align: right;\">\n",
       "      <th></th>\n",
       "      <th>OverallCond</th>\n",
       "      <th>area sqrtft</th>\n",
       "      <th>price</th>\n",
       "      <th>bhk</th>\n",
       "      <th>age of building</th>\n",
       "      <th>price_per_srqft</th>\n",
       "    </tr>\n",
       "  </thead>\n",
       "  <tbody>\n",
       "    <tr>\n",
       "      <th>count</th>\n",
       "      <td>44.000000</td>\n",
       "      <td>44.000000</td>\n",
       "      <td>44.000000</td>\n",
       "      <td>44.000000</td>\n",
       "      <td>44.000000</td>\n",
       "      <td>44.000000</td>\n",
       "    </tr>\n",
       "    <tr>\n",
       "      <th>mean</th>\n",
       "      <td>8.022727</td>\n",
       "      <td>822.318182</td>\n",
       "      <td>22.449091</td>\n",
       "      <td>2.045455</td>\n",
       "      <td>9.386364</td>\n",
       "      <td>2778.551224</td>\n",
       "    </tr>\n",
       "    <tr>\n",
       "      <th>std</th>\n",
       "      <td>0.820908</td>\n",
       "      <td>319.339636</td>\n",
       "      <td>9.027746</td>\n",
       "      <td>0.680443</td>\n",
       "      <td>7.555118</td>\n",
       "      <td>582.123337</td>\n",
       "    </tr>\n",
       "    <tr>\n",
       "      <th>min</th>\n",
       "      <td>6.000000</td>\n",
       "      <td>400.000000</td>\n",
       "      <td>8.000000</td>\n",
       "      <td>1.000000</td>\n",
       "      <td>0.000000</td>\n",
       "      <td>1200.000000</td>\n",
       "    </tr>\n",
       "    <tr>\n",
       "      <th>25%</th>\n",
       "      <td>8.000000</td>\n",
       "      <td>587.500000</td>\n",
       "      <td>15.000000</td>\n",
       "      <td>2.000000</td>\n",
       "      <td>2.000000</td>\n",
       "      <td>2396.153846</td>\n",
       "    </tr>\n",
       "    <tr>\n",
       "      <th>50%</th>\n",
       "      <td>8.000000</td>\n",
       "      <td>750.000000</td>\n",
       "      <td>22.000000</td>\n",
       "      <td>2.000000</td>\n",
       "      <td>10.000000</td>\n",
       "      <td>2817.444877</td>\n",
       "    </tr>\n",
       "    <tr>\n",
       "      <th>75%</th>\n",
       "      <td>9.000000</td>\n",
       "      <td>925.000000</td>\n",
       "      <td>28.000000</td>\n",
       "      <td>2.250000</td>\n",
       "      <td>15.000000</td>\n",
       "      <td>3238.970588</td>\n",
       "    </tr>\n",
       "    <tr>\n",
       "      <th>max</th>\n",
       "      <td>9.000000</td>\n",
       "      <td>1500.000000</td>\n",
       "      <td>45.000000</td>\n",
       "      <td>3.000000</td>\n",
       "      <td>25.000000</td>\n",
       "      <td>3777.777778</td>\n",
       "    </tr>\n",
       "  </tbody>\n",
       "</table>\n",
       "</div>"
      ],
      "text/plain": [
       "       OverallCond  area sqrtft      price        bhk  age of building  \\\n",
       "count    44.000000    44.000000  44.000000  44.000000        44.000000   \n",
       "mean      8.022727   822.318182  22.449091   2.045455         9.386364   \n",
       "std       0.820908   319.339636   9.027746   0.680443         7.555118   \n",
       "min       6.000000   400.000000   8.000000   1.000000         0.000000   \n",
       "25%       8.000000   587.500000  15.000000   2.000000         2.000000   \n",
       "50%       8.000000   750.000000  22.000000   2.000000        10.000000   \n",
       "75%       9.000000   925.000000  28.000000   2.250000        15.000000   \n",
       "max       9.000000  1500.000000  45.000000   3.000000        25.000000   \n",
       "\n",
       "       price_per_srqft  \n",
       "count        44.000000  \n",
       "mean       2778.551224  \n",
       "std         582.123337  \n",
       "min        1200.000000  \n",
       "25%        2396.153846  \n",
       "50%        2817.444877  \n",
       "75%        3238.970588  \n",
       "max        3777.777778  "
      ]
     },
     "execution_count": 27,
     "metadata": {},
     "output_type": "execute_result"
    }
   ],
   "source": [
    "df3.describe()"
   ]
  },
  {
   "cell_type": "code",
   "execution_count": 28,
   "metadata": {},
   "outputs": [
    {
     "data": {
      "text/plain": [
       "<matplotlib.axes._subplots.AxesSubplot at 0xea22130>"
      ]
     },
     "execution_count": 28,
     "metadata": {},
     "output_type": "execute_result"
    },
    {
     "data": {
      "image/png": "[encoded data removed]",
      "text/plain": [
       "<Figure size 432x288 with 1 Axes>"
      ]
     },
     "metadata": {
      "needs_background": "light"
     },
     "output_type": "display_data"
    }
   ],
   "source": [
    "sns.distplot(df3['price_per_srqft'])"
   ]
  },
  {
   "cell_type": "code",
   "execution_count": 29,
   "metadata": {},
   "outputs": [
    {
     "data": {
      "text/plain": [
       "Text(0.5, 1.0, 'Box plot')"
      ]
     },
     "execution_count": 29,
     "metadata": {},
     "output_type": "execute_result"
    },
    {
     "data": {
      "image/png": "[encoded data removed]",
      "text/plain": [
       "<Figure size 432x288 with 1 Axes>"
      ]
     },
     "metadata": {
      "needs_background": "light"
     },
     "output_type": "display_data"
    }
   ],
   "source": [
    "plt.boxplot(df3.price)\n",
    "plt.ylabel('price_per_srqft')\n",
    "plt.title(\"Box plot\")"
   ]
  },
  {
   "cell_type": "code",
   "execution_count": 30,
   "metadata": {},
   "outputs": [
    {
     "data": {
      "text/plain": [
       "count      44.000000\n",
       "mean     2778.551224\n",
       "std       582.123337\n",
       "min      1200.000000\n",
       "25%      2396.153846\n",
       "50%      2817.444877\n",
       "75%      3238.970588\n",
       "max      3777.777778\n",
       "Name: price_per_srqft, dtype: float64"
      ]
     },
     "execution_count": 30,
     "metadata": {},
     "output_type": "execute_result"
    }
   ],
   "source": [
    "df3['price_per_srqft'].describe()"
   ]
  },
  {
   "cell_type": "markdown",
   "metadata": {},
   "source": [
    "#### Correlation matrix"
   ]
  },
  {
   "cell_type": "code",
   "execution_count": 31,
   "metadata": {},
   "outputs": [
    {
     "data": {
      "text/plain": [
       "<matplotlib.axes._subplots.AxesSubplot at 0xea95810>"
      ]
     },
     "execution_count": 31,
     "metadata": {},
     "output_type": "execute_result"
    },
    {
     "data": {
      "image/png": "[encoded data removed]",
      "text/plain": [
       "<Figure size 432x288 with 2 Axes>"
      ]
     },
     "metadata": {
      "needs_background": "light"
     },
     "output_type": "display_data"
    }
   ],
   "source": [
    "sns.heatmap(df3.corr(),annot=True)"
   ]
  },
  {
   "cell_type": "markdown",
   "metadata": {},
   "source": [
    "##### In above correlation matrix price is inversely correlated with age of building and directly correlated with remaing feature."
   ]
  },
  {
   "cell_type": "markdown",
   "metadata": {},
   "source": [
    "#### 1.Scatter plot"
   ]
  },
  {
   "cell_type": "code",
   "execution_count": 32,
   "metadata": {},
   "outputs": [
    {
     "data": {
      "image/png": "[encoded data removed]",
      "text/plain": [
       "<Figure size 432x288 with 1 Axes>"
      ]
     },
     "metadata": {
      "needs_background": "light"
     },
     "output_type": "display_data"
    }
   ],
   "source": [
    "from matplotlib import pyplot as plt\n",
    "\n",
    "plt.scatter(df3['age of building'],df3['price'])\n",
    "plt.xlabel(\"age of building\")\n",
    "plt.ylabel(\"price\");"
   ]
  },
  {
   "cell_type": "code",
   "execution_count": 33,
   "metadata": {},
   "outputs": [
    {
     "data": {
      "image/png": "[encoded data removed]",
      "text/plain": [
       "<Figure size 432x288 with 1 Axes>"
      ]
     },
     "metadata": {
      "needs_background": "light"
     },
     "output_type": "display_data"
    }
   ],
   "source": [
    "plt.scatter(df3['area sqrtft'],df3['price'])\n",
    "plt.xlabel(\"area in sqrtft\")\n",
    "plt.ylabel(\"price\");"
   ]
  },
  {
   "cell_type": "code",
   "execution_count": 34,
   "metadata": {},
   "outputs": [
    {
     "data": {
      "image/png": "[encoded data removed]",
      "text/plain": [
       "<Figure size 432x288 with 1 Axes>"
      ]
     },
     "metadata": {
      "needs_background": "light"
     },
     "output_type": "display_data"
    }
   ],
   "source": [
    "plt.scatter(df3['OverallCond'],df3['price'])\n",
    "plt.xlabel(\"OverallCond\t\")\n",
    "plt.ylabel(\"price\");"
   ]
  },
  {
   "cell_type": "code",
   "execution_count": 35,
   "metadata": {},
   "outputs": [
    {
     "data": {
      "text/html": [
       "<div>\n",
       "<style scoped>\n",
       "    .dataframe tbody tr th:only-of-type {\n",
       "        vertical-align: middle;\n",
       "    }\n",
       "\n",
       "    .dataframe tbody tr th {\n",
       "        vertical-align: top;\n",
       "    }\n",
       "\n",
       "    .dataframe thead th {\n",
       "        text-align: right;\n",
       "    }\n",
       "</style>\n",
       "<table border=\"1\" class=\"dataframe\">\n",
       "  <thead>\n",
       "    <tr style=\"text-align: right;\">\n",
       "      <th></th>\n",
       "      <th>bhk</th>\n",
       "      <th>price</th>\n",
       "    </tr>\n",
       "  </thead>\n",
       "  <tbody>\n",
       "    <tr>\n",
       "      <th>0</th>\n",
       "      <td>1</td>\n",
       "      <td>13.222222</td>\n",
       "    </tr>\n",
       "    <tr>\n",
       "      <th>1</th>\n",
       "      <td>2</td>\n",
       "      <td>21.490000</td>\n",
       "    </tr>\n",
       "    <tr>\n",
       "      <th>2</th>\n",
       "      <td>3</td>\n",
       "      <td>32.090909</td>\n",
       "    </tr>\n",
       "  </tbody>\n",
       "</table>\n",
       "</div>"
      ],
      "text/plain": [
       "   bhk      price\n",
       "0    1  13.222222\n",
       "1    2  21.490000\n",
       "2    3  32.090909"
      ]
     },
     "execution_count": 35,
     "metadata": {},
     "output_type": "execute_result"
    }
   ],
   "source": [
    "df4=df3.groupby('bhk',as_index=False).agg({\"price\": \"mean\"})\n",
    "df4"
   ]
  },
  {
   "cell_type": "code",
   "execution_count": 36,
   "metadata": {},
   "outputs": [
    {
     "data": {
      "image/png": "[encoded data removed]",
      "text/plain": [
       "<Figure size 432x288 with 1 Axes>"
      ]
     },
     "metadata": {
      "needs_background": "light"
     },
     "output_type": "display_data"
    }
   ],
   "source": [
    "plt.scatter(df4['bhk'],df4['price'])\n",
    "plt.xlabel(\"bhk\")\n",
    "plt.ylabel(\"price\");"
   ]
  },
  {
   "cell_type": "markdown",
   "metadata": {},
   "source": [
    "##### From above two it is clear that data is linear. "
   ]
  },
  {
   "cell_type": "markdown",
   "metadata": {},
   "source": [
    "By seeing above scatter plot we can say that all independent variables have some relation between dependent variable "
   ]
  },
  {
   "cell_type": "markdown",
   "metadata": {},
   "source": [
    "#### 2.Histogram or Distribution plot\n"
   ]
  },
  {
   "cell_type": "markdown",
   "metadata": {},
   "source": [
    "Histogram to check the normality of data by graphically"
   ]
  },
  {
   "cell_type": "code",
   "execution_count": 37,
   "metadata": {},
   "outputs": [
    {
     "data": {
      "text/plain": [
       "<matplotlib.axes._subplots.AxesSubplot at 0xec71470>"
      ]
     },
     "execution_count": 37,
     "metadata": {},
     "output_type": "execute_result"
    },
    {
     "data": {
      "image/png": "[encoded data removed]",
      "text/plain": [
       "<Figure size 432x288 with 1 Axes>"
      ]
     },
     "metadata": {
      "needs_background": "light"
     },
     "output_type": "display_data"
    }
   ],
   "source": [
    "sns.distplot(df3['price'])"
   ]
  },
  {
   "cell_type": "code",
   "execution_count": 38,
   "metadata": {},
   "outputs": [
    {
     "data": {
      "text/plain": [
       "<matplotlib.axes._subplots.AxesSubplot at 0xec2d770>"
      ]
     },
     "execution_count": 38,
     "metadata": {},
     "output_type": "execute_result"
    },
    {
     "data": {
      "image/png": "[encoded data removed]",
      "text/plain": [
       "<Figure size 432x288 with 1 Axes>"
      ]
     },
     "metadata": {
      "needs_background": "light"
     },
     "output_type": "display_data"
    }
   ],
   "source": [
    "sns.distplot(df3['area sqrtft'])"
   ]
  },
  {
   "cell_type": "markdown",
   "metadata": {},
   "source": [
    "#### We can also check normality by using NPP or Q-Q plot"
   ]
  },
  {
   "cell_type": "code",
   "execution_count": 39,
   "metadata": {},
   "outputs": [],
   "source": [
    "from scipy import stats\n",
    "import scipy as scipy\n",
    "import numpy as np\n",
    "import matplotlib.pyplot as plt"
   ]
  },
  {
   "cell_type": "code",
   "execution_count": 40,
   "metadata": {},
   "outputs": [
    {
     "data": {
      "text/plain": [
       "<Figure size 432x288 with 0 Axes>"
      ]
     },
     "execution_count": 40,
     "metadata": {},
     "output_type": "execute_result"
    },
    {
     "data": {
      "image/png": "[encoded data removed]",
      "text/plain": [
       "<Figure size 432x288 with 1 Axes>"
      ]
     },
     "metadata": {
      "needs_background": "light"
     },
     "output_type": "display_data"
    },
    {
     "data": {
      "text/plain": [
       "<Figure size 432x288 with 0 Axes>"
      ]
     },
     "metadata": {},
     "output_type": "display_data"
    }
   ],
   "source": [
    "stats.probplot(df3.price,plot=plt)\n",
    "plt.figure()"
   ]
  },
  {
   "cell_type": "code",
   "execution_count": 41,
   "metadata": {},
   "outputs": [
    {
     "data": {
      "text/plain": [
       "<Figure size 432x288 with 0 Axes>"
      ]
     },
     "execution_count": 41,
     "metadata": {},
     "output_type": "execute_result"
    },
    {
     "data": {
      "image/png": "[encoded data removed]",
      "text/plain": [
       "<Figure size 432x288 with 1 Axes>"
      ]
     },
     "metadata": {
      "needs_background": "light"
     },
     "output_type": "display_data"
    },
    {
     "data": {
      "text/plain": [
       "<Figure size 432x288 with 0 Axes>"
      ]
     },
     "metadata": {},
     "output_type": "display_data"
    }
   ],
   "source": [
    "stats.probplot(df3['area sqrtft'],plot=plt)\n",
    "plt.figure()"
   ]
  },
  {
   "cell_type": "code",
   "execution_count": 42,
   "metadata": {},
   "outputs": [
    {
     "data": {
      "text/plain": [
       "<Figure size 432x288 with 0 Axes>"
      ]
     },
     "execution_count": 42,
     "metadata": {},
     "output_type": "execute_result"
    },
    {
     "data": {
      "image/png": "[encoded data removed]",
      "text/plain": [
       "<Figure size 432x288 with 1 Axes>"
      ]
     },
     "metadata": {
      "needs_background": "light"
     },
     "output_type": "display_data"
    },
    {
     "data": {
      "text/plain": [
       "<Figure size 432x288 with 0 Axes>"
      ]
     },
     "metadata": {},
     "output_type": "display_data"
    }
   ],
   "source": [
    "stats.probplot(df3.price_per_srqft,plot=plt)\n",
    "plt.figure()"
   ]
  },
  {
   "cell_type": "markdown",
   "metadata": {},
   "source": [
    "By seeing above  plot we can say that all independent variables and dependent variable are normal."
   ]
  },
  {
   "cell_type": "markdown",
   "metadata": {},
   "source": [
    "#### 3.Multicolinearity¶"
   ]
  },
  {
   "cell_type": "code",
   "execution_count": 43,
   "metadata": {},
   "outputs": [
    {
     "data": {
      "text/html": [
       "<div>\n",
       "<style scoped>\n",
       "    .dataframe tbody tr th:only-of-type {\n",
       "        vertical-align: middle;\n",
       "    }\n",
       "\n",
       "    .dataframe tbody tr th {\n",
       "        vertical-align: top;\n",
       "    }\n",
       "\n",
       "    .dataframe thead th {\n",
       "        text-align: right;\n",
       "    }\n",
       "</style>\n",
       "<table border=\"1\" class=\"dataframe\">\n",
       "  <thead>\n",
       "    <tr style=\"text-align: right;\">\n",
       "      <th></th>\n",
       "      <th>location</th>\n",
       "      <th>OverallCond</th>\n",
       "      <th>area sqrtft</th>\n",
       "      <th>price</th>\n",
       "      <th>bhk</th>\n",
       "      <th>age of building</th>\n",
       "    </tr>\n",
       "  </thead>\n",
       "  <tbody>\n",
       "    <tr>\n",
       "      <th>0</th>\n",
       "      <td>arvind marg</td>\n",
       "      <td>9</td>\n",
       "      <td>684</td>\n",
       "      <td>25.0</td>\n",
       "      <td>2</td>\n",
       "      <td>1</td>\n",
       "    </tr>\n",
       "    <tr>\n",
       "      <th>1</th>\n",
       "      <td>arvind marg</td>\n",
       "      <td>9</td>\n",
       "      <td>450</td>\n",
       "      <td>17.0</td>\n",
       "      <td>1</td>\n",
       "      <td>1</td>\n",
       "    </tr>\n",
       "    <tr>\n",
       "      <th>2</th>\n",
       "      <td>arvind marg</td>\n",
       "      <td>9</td>\n",
       "      <td>1364</td>\n",
       "      <td>40.0</td>\n",
       "      <td>3</td>\n",
       "      <td>1</td>\n",
       "    </tr>\n",
       "    <tr>\n",
       "      <th>4</th>\n",
       "      <td>arvind marg</td>\n",
       "      <td>8</td>\n",
       "      <td>850</td>\n",
       "      <td>25.0</td>\n",
       "      <td>2</td>\n",
       "      <td>3</td>\n",
       "    </tr>\n",
       "    <tr>\n",
       "      <th>5</th>\n",
       "      <td>arvind marg</td>\n",
       "      <td>8</td>\n",
       "      <td>900</td>\n",
       "      <td>30.0</td>\n",
       "      <td>2</td>\n",
       "      <td>3</td>\n",
       "    </tr>\n",
       "  </tbody>\n",
       "</table>\n",
       "</div>"
      ],
      "text/plain": [
       "      location  OverallCond  area sqrtft  price  bhk  age of building\n",
       "0  arvind marg            9          684   25.0    2                1\n",
       "1  arvind marg            9          450   17.0    1                1\n",
       "2  arvind marg            9         1364   40.0    3                1\n",
       "4  arvind marg            8          850   25.0    2                3\n",
       "5  arvind marg            8          900   30.0    2                3"
      ]
     },
     "execution_count": 43,
     "metadata": {},
     "output_type": "execute_result"
    }
   ],
   "source": [
    "df4=df3.drop(['price_per_srqft'],axis=1)\n",
    "df4.head()"
   ]
  },
  {
   "cell_type": "code",
   "execution_count": 44,
   "metadata": {},
   "outputs": [
    {
     "data": {
      "text/plain": [
       "<matplotlib.axes._subplots.AxesSubplot at 0xec1c1b0>"
      ]
     },
     "execution_count": 44,
     "metadata": {},
     "output_type": "execute_result"
    },
    {
     "data": {
      "image/png": "[encoded data removed]",
      "text/plain": [
       "<Figure size 432x288 with 2 Axes>"
      ]
     },
     "metadata": {
      "needs_background": "light"
     },
     "output_type": "display_data"
    }
   ],
   "source": [
    "#1.correlation matrix\n",
    "## Data visualization and building the correlation matrix\n",
    "sns.heatmap(df4.corr(),cmap=\"YlGnBu\",annot=True)"
   ]
  },
  {
   "cell_type": "markdown",
   "metadata": {},
   "source": [
    "#### In above correlation matrix price is inversely correlated with age of building and directly correlated with remaining feature."
   ]
  },
  {
   "cell_type": "markdown",
   "metadata": {},
   "source": [
    "### Part III Handling categorical feature"
   ]
  },
  {
   "cell_type": "code",
   "execution_count": 45,
   "metadata": {},
   "outputs": [],
   "source": [
    "d=pd.get_dummies(df4.location)"
   ]
  },
  {
   "cell_type": "code",
   "execution_count": 46,
   "metadata": {},
   "outputs": [
    {
     "data": {
      "text/html": [
       "<div>\n",
       "<style scoped>\n",
       "    .dataframe tbody tr th:only-of-type {\n",
       "        vertical-align: middle;\n",
       "    }\n",
       "\n",
       "    .dataframe tbody tr th {\n",
       "        vertical-align: top;\n",
       "    }\n",
       "\n",
       "    .dataframe thead th {\n",
       "        text-align: right;\n",
       "    }\n",
       "</style>\n",
       "<table border=\"1\" class=\"dataframe\">\n",
       "  <thead>\n",
       "    <tr style=\"text-align: right;\">\n",
       "      <th></th>\n",
       "      <th>arvind marg</th>\n",
       "      <th>bakrol gate</th>\n",
       "      <th>bakrol road</th>\n",
       "      <th>harinagar road</th>\n",
       "      <th>kisan market</th>\n",
       "      <th>nagar palika road</th>\n",
       "      <th>rajender marg</th>\n",
       "      <th>sahid chowk</th>\n",
       "    </tr>\n",
       "  </thead>\n",
       "  <tbody>\n",
       "    <tr>\n",
       "      <th>0</th>\n",
       "      <td>1</td>\n",
       "      <td>0</td>\n",
       "      <td>0</td>\n",
       "      <td>0</td>\n",
       "      <td>0</td>\n",
       "      <td>0</td>\n",
       "      <td>0</td>\n",
       "      <td>0</td>\n",
       "    </tr>\n",
       "    <tr>\n",
       "      <th>1</th>\n",
       "      <td>1</td>\n",
       "      <td>0</td>\n",
       "      <td>0</td>\n",
       "      <td>0</td>\n",
       "      <td>0</td>\n",
       "      <td>0</td>\n",
       "      <td>0</td>\n",
       "      <td>0</td>\n",
       "    </tr>\n",
       "    <tr>\n",
       "      <th>2</th>\n",
       "      <td>1</td>\n",
       "      <td>0</td>\n",
       "      <td>0</td>\n",
       "      <td>0</td>\n",
       "      <td>0</td>\n",
       "      <td>0</td>\n",
       "      <td>0</td>\n",
       "      <td>0</td>\n",
       "    </tr>\n",
       "    <tr>\n",
       "      <th>4</th>\n",
       "      <td>1</td>\n",
       "      <td>0</td>\n",
       "      <td>0</td>\n",
       "      <td>0</td>\n",
       "      <td>0</td>\n",
       "      <td>0</td>\n",
       "      <td>0</td>\n",
       "      <td>0</td>\n",
       "    </tr>\n",
       "    <tr>\n",
       "      <th>5</th>\n",
       "      <td>1</td>\n",
       "      <td>0</td>\n",
       "      <td>0</td>\n",
       "      <td>0</td>\n",
       "      <td>0</td>\n",
       "      <td>0</td>\n",
       "      <td>0</td>\n",
       "      <td>0</td>\n",
       "    </tr>\n",
       "  </tbody>\n",
       "</table>\n",
       "</div>"
      ],
      "text/plain": [
       "   arvind marg  bakrol gate  bakrol road  harinagar road  kisan market  \\\n",
       "0            1            0            0               0             0   \n",
       "1            1            0            0               0             0   \n",
       "2            1            0            0               0             0   \n",
       "4            1            0            0               0             0   \n",
       "5            1            0            0               0             0   \n",
       "\n",
       "   nagar palika road  rajender marg  sahid chowk  \n",
       "0                  0              0            0  \n",
       "1                  0              0            0  \n",
       "2                  0              0            0  \n",
       "4                  0              0            0  \n",
       "5                  0              0            0  "
      ]
     },
     "execution_count": 46,
     "metadata": {},
     "output_type": "execute_result"
    }
   ],
   "source": [
    "d.head()"
   ]
  },
  {
   "cell_type": "code",
   "execution_count": 47,
   "metadata": {},
   "outputs": [
    {
     "data": {
      "text/html": [
       "<div>\n",
       "<style scoped>\n",
       "    .dataframe tbody tr th:only-of-type {\n",
       "        vertical-align: middle;\n",
       "    }\n",
       "\n",
       "    .dataframe tbody tr th {\n",
       "        vertical-align: top;\n",
       "    }\n",
       "\n",
       "    .dataframe thead th {\n",
       "        text-align: right;\n",
       "    }\n",
       "</style>\n",
       "<table border=\"1\" class=\"dataframe\">\n",
       "  <thead>\n",
       "    <tr style=\"text-align: right;\">\n",
       "      <th></th>\n",
       "      <th>location</th>\n",
       "      <th>OverallCond</th>\n",
       "      <th>area sqrtft</th>\n",
       "      <th>price</th>\n",
       "      <th>bhk</th>\n",
       "      <th>age of building</th>\n",
       "      <th>arvind marg</th>\n",
       "      <th>bakrol gate</th>\n",
       "      <th>bakrol road</th>\n",
       "      <th>harinagar road</th>\n",
       "      <th>kisan market</th>\n",
       "      <th>nagar palika road</th>\n",
       "      <th>rajender marg</th>\n",
       "    </tr>\n",
       "  </thead>\n",
       "  <tbody>\n",
       "    <tr>\n",
       "      <th>0</th>\n",
       "      <td>arvind marg</td>\n",
       "      <td>9</td>\n",
       "      <td>684</td>\n",
       "      <td>25.0</td>\n",
       "      <td>2</td>\n",
       "      <td>1</td>\n",
       "      <td>1</td>\n",
       "      <td>0</td>\n",
       "      <td>0</td>\n",
       "      <td>0</td>\n",
       "      <td>0</td>\n",
       "      <td>0</td>\n",
       "      <td>0</td>\n",
       "    </tr>\n",
       "    <tr>\n",
       "      <th>1</th>\n",
       "      <td>arvind marg</td>\n",
       "      <td>9</td>\n",
       "      <td>450</td>\n",
       "      <td>17.0</td>\n",
       "      <td>1</td>\n",
       "      <td>1</td>\n",
       "      <td>1</td>\n",
       "      <td>0</td>\n",
       "      <td>0</td>\n",
       "      <td>0</td>\n",
       "      <td>0</td>\n",
       "      <td>0</td>\n",
       "      <td>0</td>\n",
       "    </tr>\n",
       "    <tr>\n",
       "      <th>2</th>\n",
       "      <td>arvind marg</td>\n",
       "      <td>9</td>\n",
       "      <td>1364</td>\n",
       "      <td>40.0</td>\n",
       "      <td>3</td>\n",
       "      <td>1</td>\n",
       "      <td>1</td>\n",
       "      <td>0</td>\n",
       "      <td>0</td>\n",
       "      <td>0</td>\n",
       "      <td>0</td>\n",
       "      <td>0</td>\n",
       "      <td>0</td>\n",
       "    </tr>\n",
       "    <tr>\n",
       "      <th>4</th>\n",
       "      <td>arvind marg</td>\n",
       "      <td>8</td>\n",
       "      <td>850</td>\n",
       "      <td>25.0</td>\n",
       "      <td>2</td>\n",
       "      <td>3</td>\n",
       "      <td>1</td>\n",
       "      <td>0</td>\n",
       "      <td>0</td>\n",
       "      <td>0</td>\n",
       "      <td>0</td>\n",
       "      <td>0</td>\n",
       "      <td>0</td>\n",
       "    </tr>\n",
       "    <tr>\n",
       "      <th>5</th>\n",
       "      <td>arvind marg</td>\n",
       "      <td>8</td>\n",
       "      <td>900</td>\n",
       "      <td>30.0</td>\n",
       "      <td>2</td>\n",
       "      <td>3</td>\n",
       "      <td>1</td>\n",
       "      <td>0</td>\n",
       "      <td>0</td>\n",
       "      <td>0</td>\n",
       "      <td>0</td>\n",
       "      <td>0</td>\n",
       "      <td>0</td>\n",
       "    </tr>\n",
       "  </tbody>\n",
       "</table>\n",
       "</div>"
      ],
      "text/plain": [
       "      location  OverallCond  area sqrtft  price  bhk  age of building  \\\n",
       "0  arvind marg            9          684   25.0    2                1   \n",
       "1  arvind marg            9          450   17.0    1                1   \n",
       "2  arvind marg            9         1364   40.0    3                1   \n",
       "4  arvind marg            8          850   25.0    2                3   \n",
       "5  arvind marg            8          900   30.0    2                3   \n",
       "\n",
       "   arvind marg  bakrol gate  bakrol road  harinagar road  kisan market  \\\n",
       "0            1            0            0               0             0   \n",
       "1            1            0            0               0             0   \n",
       "2            1            0            0               0             0   \n",
       "4            1            0            0               0             0   \n",
       "5            1            0            0               0             0   \n",
       "\n",
       "   nagar palika road  rajender marg  \n",
       "0                  0              0  \n",
       "1                  0              0  \n",
       "2                  0              0  \n",
       "4                  0              0  \n",
       "5                  0              0  "
      ]
     },
     "execution_count": 47,
     "metadata": {},
     "output_type": "execute_result"
    }
   ],
   "source": [
    "df5=pd.concat([df4,d.drop(\"sahid chowk\",axis=1)],axis=1)\n",
    "df5.head()"
   ]
  },
  {
   "cell_type": "code",
   "execution_count": 48,
   "metadata": {},
   "outputs": [
    {
     "data": {
      "text/html": [
       "<div>\n",
       "<style scoped>\n",
       "    .dataframe tbody tr th:only-of-type {\n",
       "        vertical-align: middle;\n",
       "    }\n",
       "\n",
       "    .dataframe tbody tr th {\n",
       "        vertical-align: top;\n",
       "    }\n",
       "\n",
       "    .dataframe thead th {\n",
       "        text-align: right;\n",
       "    }\n",
       "</style>\n",
       "<table border=\"1\" class=\"dataframe\">\n",
       "  <thead>\n",
       "    <tr style=\"text-align: right;\">\n",
       "      <th></th>\n",
       "      <th>OverallCond</th>\n",
       "      <th>area sqrtft</th>\n",
       "      <th>price</th>\n",
       "      <th>bhk</th>\n",
       "      <th>age of building</th>\n",
       "      <th>arvind marg</th>\n",
       "      <th>bakrol gate</th>\n",
       "      <th>bakrol road</th>\n",
       "      <th>harinagar road</th>\n",
       "      <th>kisan market</th>\n",
       "      <th>nagar palika road</th>\n",
       "      <th>rajender marg</th>\n",
       "    </tr>\n",
       "  </thead>\n",
       "  <tbody>\n",
       "    <tr>\n",
       "      <th>0</th>\n",
       "      <td>9</td>\n",
       "      <td>684</td>\n",
       "      <td>25.0</td>\n",
       "      <td>2</td>\n",
       "      <td>1</td>\n",
       "      <td>1</td>\n",
       "      <td>0</td>\n",
       "      <td>0</td>\n",
       "      <td>0</td>\n",
       "      <td>0</td>\n",
       "      <td>0</td>\n",
       "      <td>0</td>\n",
       "    </tr>\n",
       "    <tr>\n",
       "      <th>1</th>\n",
       "      <td>9</td>\n",
       "      <td>450</td>\n",
       "      <td>17.0</td>\n",
       "      <td>1</td>\n",
       "      <td>1</td>\n",
       "      <td>1</td>\n",
       "      <td>0</td>\n",
       "      <td>0</td>\n",
       "      <td>0</td>\n",
       "      <td>0</td>\n",
       "      <td>0</td>\n",
       "      <td>0</td>\n",
       "    </tr>\n",
       "    <tr>\n",
       "      <th>2</th>\n",
       "      <td>9</td>\n",
       "      <td>1364</td>\n",
       "      <td>40.0</td>\n",
       "      <td>3</td>\n",
       "      <td>1</td>\n",
       "      <td>1</td>\n",
       "      <td>0</td>\n",
       "      <td>0</td>\n",
       "      <td>0</td>\n",
       "      <td>0</td>\n",
       "      <td>0</td>\n",
       "      <td>0</td>\n",
       "    </tr>\n",
       "    <tr>\n",
       "      <th>4</th>\n",
       "      <td>8</td>\n",
       "      <td>850</td>\n",
       "      <td>25.0</td>\n",
       "      <td>2</td>\n",
       "      <td>3</td>\n",
       "      <td>1</td>\n",
       "      <td>0</td>\n",
       "      <td>0</td>\n",
       "      <td>0</td>\n",
       "      <td>0</td>\n",
       "      <td>0</td>\n",
       "      <td>0</td>\n",
       "    </tr>\n",
       "    <tr>\n",
       "      <th>5</th>\n",
       "      <td>8</td>\n",
       "      <td>900</td>\n",
       "      <td>30.0</td>\n",
       "      <td>2</td>\n",
       "      <td>3</td>\n",
       "      <td>1</td>\n",
       "      <td>0</td>\n",
       "      <td>0</td>\n",
       "      <td>0</td>\n",
       "      <td>0</td>\n",
       "      <td>0</td>\n",
       "      <td>0</td>\n",
       "    </tr>\n",
       "  </tbody>\n",
       "</table>\n",
       "</div>"
      ],
      "text/plain": [
       "   OverallCond  area sqrtft  price  bhk  age of building  arvind marg  \\\n",
       "0            9          684   25.0    2                1            1   \n",
       "1            9          450   17.0    1                1            1   \n",
       "2            9         1364   40.0    3                1            1   \n",
       "4            8          850   25.0    2                3            1   \n",
       "5            8          900   30.0    2                3            1   \n",
       "\n",
       "   bakrol gate  bakrol road  harinagar road  kisan market  nagar palika road  \\\n",
       "0            0            0               0             0                  0   \n",
       "1            0            0               0             0                  0   \n",
       "2            0            0               0             0                  0   \n",
       "4            0            0               0             0                  0   \n",
       "5            0            0               0             0                  0   \n",
       "\n",
       "   rajender marg  \n",
       "0              0  \n",
       "1              0  \n",
       "2              0  \n",
       "4              0  \n",
       "5              0  "
      ]
     },
     "execution_count": 48,
     "metadata": {},
     "output_type": "execute_result"
    }
   ],
   "source": [
    "df6=df5.drop(['location'],axis=1)\n",
    "df6.head()"
   ]
  },
  {
   "cell_type": "markdown",
   "metadata": {},
   "source": [
    "#### Feature Scaling"
   ]
  },
  {
   "cell_type": "code",
   "execution_count": 49,
   "metadata": {},
   "outputs": [],
   "source": [
    "from sklearn.preprocessing import StandardScaler"
   ]
  },
  {
   "cell_type": "code",
   "execution_count": 50,
   "metadata": {},
   "outputs": [
    {
     "data": {
      "text/plain": [
       "array([[ 1.20424087, -0.4381457 ,  0.28582997, -0.06757374, -1.12285724,\n",
       "         2.51661148, -0.35805744, -0.35805744, -0.31622777, -0.39735971,\n",
       "        -0.35805744, -0.47140452],\n",
       "       [ 1.20424087, -1.17937938, -0.61057192, -1.55419597, -1.12285724,\n",
       "         2.51661148, -0.35805744, -0.35805744, -0.31622777, -0.39735971,\n",
       "        -0.35805744, -0.47140452],\n",
       "       [ 1.20424087,  1.71586669,  1.96658351,  1.41904849, -1.12285724,\n",
       "         2.51661148, -0.35805744, -0.35805744, -0.31622777, -0.39735971,\n",
       "        -0.35805744, -0.47140452],\n",
       "       [-0.0280056 ,  0.08768673,  0.28582997, -0.06757374, -0.85507556,\n",
       "         2.51661148, -0.35805744, -0.35805744, -0.31622777, -0.39735971,\n",
       "        -0.35805744, -0.47140452],\n",
       "       [-0.0280056 ,  0.24607   ,  0.84608115, -0.06757374, -0.85507556,\n",
       "         2.51661148, -0.35805744, -0.35805744, -0.31622777, -0.39735971,\n",
       "        -0.35805744, -0.47140452],\n",
       "       [ 1.20424087,  1.67151937,  2.52683468,  1.41904849, -1.25674807,\n",
       "         2.51661148, -0.35805744, -0.35805744, -0.31622777, -0.39735971,\n",
       "        -0.35805744, -0.47140452],\n",
       "       [ 1.20424087, -1.14770272, -1.1708231 , -1.55419597, -1.12285724,\n",
       "        -0.39735971, -0.35805744, -0.35805744, -0.31622777, -0.39735971,\n",
       "        -0.35805744, -0.47140452],\n",
       "       [ 1.20424087, -0.22907979, -0.61057192, -0.06757374, -1.12285724,\n",
       "        -0.39735971, -0.35805744, -0.35805744, -0.31622777, -0.39735971,\n",
       "        -0.35805744, -0.47140452],\n",
       "       [ 1.20424087,  1.35475284,  0.28582997,  1.41904849, -1.12285724,\n",
       "        -0.39735971, -0.35805744, -0.35805744, -0.31622777, -0.39735971,\n",
       "        -0.35805744, -0.47140452],\n",
       "       [-0.0280056 , -0.22907979,  0.34297559, -0.06757374, -0.85507556,\n",
       "        -0.39735971, -0.35805744, -0.35805744, -0.31622777, -0.39735971,\n",
       "        -0.35805744, -0.47140452],\n",
       "       [-0.0280056 ,  2.14666916,  1.96658351,  1.41904849, -0.85507556,\n",
       "        -0.39735971, -0.35805744, -0.35805744, -0.31622777, -0.39735971,\n",
       "        -0.35805744, -0.47140452],\n",
       "       [-0.0280056 , -1.17937938, -1.28287334, -1.55419597,  1.42106864,\n",
       "        -0.39735971, -0.35805744, -0.35805744,  3.16227766, -0.39735971,\n",
       "        -0.35805744, -0.47140452],\n",
       "       [-1.26025208, -0.38746306, -0.83467239, -0.06757374,  1.42106864,\n",
       "        -0.39735971, -0.35805744, -0.35805744,  3.16227766, -0.39735971,\n",
       "        -0.35805744, -0.47140452],\n",
       "       [-0.0280056 , -0.54584632, -0.77864728, -0.06757374,  0.34994196,\n",
       "        -0.39735971, -0.35805744, -0.35805744,  3.16227766, -0.39735971,\n",
       "        -0.35805744, -0.47140452],\n",
       "       [-0.0280056 , -0.43181037, -0.24640866, -0.06757374,  1.55495948,\n",
       "        -0.39735971, -0.35805744, -0.35805744,  3.16227766, -0.39735971,\n",
       "        -0.35805744, -0.47140452],\n",
       "       [-0.0280056 ,  1.48145946,  0.3978802 ,  1.41904849,  0.75161446,\n",
       "        -0.39735971, -0.35805744, -0.35805744, -0.31622777,  2.51661148,\n",
       "        -0.35805744, -0.47140452],\n",
       "       [-0.0280056 , -1.11602607, -0.83467239, -1.55419597,  0.75161446,\n",
       "        -0.39735971, -0.35805744, -0.35805744, -0.31622777,  2.51661148,\n",
       "        -0.35805744, -0.47140452],\n",
       "       [-0.0280056 , -0.30827143, -0.27442121, -0.06757374,  0.75161446,\n",
       "        -0.39735971, -0.35805744, -0.35805744, -0.31622777,  2.51661148,\n",
       "        -0.35805744, -0.47140452],\n",
       "       [ 1.20424087, -0.22907979,  0.62198067, -0.06757374, -1.25674807,\n",
       "        -0.39735971, -0.35805744, -0.35805744, -0.31622777,  2.51661148,\n",
       "        -0.35805744, -0.47140452],\n",
       "       [-0.0280056 , -0.54584632, -0.05032074, -0.06757374,  0.08216029,\n",
       "        -0.39735971, -0.35805744, -0.35805744, -0.31622777,  2.51661148,\n",
       "        -0.35805744, -0.47140452],\n",
       "       [ 1.20424087,  0.08768673,  0.56595556, -0.06757374, -1.25674807,\n",
       "        -0.39735971, -0.35805744, -0.35805744, -0.31622777,  2.51661148,\n",
       "        -0.35805744, -0.47140452],\n",
       "       [-1.26025208, -0.38746306, -0.77864728, -0.06757374,  1.15328697,\n",
       "        -0.39735971, -0.35805744,  2.79284801, -0.31622777, -0.39735971,\n",
       "        -0.35805744, -0.47140452],\n",
       "       [-1.26025208, -0.22907979, -0.83467239, -0.06757374,  1.01939613,\n",
       "        -0.39735971, -0.35805744,  2.79284801, -0.31622777, -0.39735971,\n",
       "        -0.35805744, -0.47140452],\n",
       "       [-1.26025208, -1.17937938, -1.1708231 , -1.55419597,  1.01939613,\n",
       "        -0.39735971, -0.35805744,  2.79284801, -0.31622777, -0.39735971,\n",
       "        -0.35805744, -0.47140452],\n",
       "       [-2.49249855, -0.86261285, -1.61902405, -0.06757374,  2.09052282,\n",
       "        -0.39735971, -0.35805744,  2.79284801, -0.31622777, -0.39735971,\n",
       "        -0.35805744, -0.47140452],\n",
       "       [-2.49249855,  0.56283653, -1.1708231 ,  1.41904849,  2.09052282,\n",
       "        -0.39735971, -0.35805744,  2.79284801, -0.31622777, -0.39735971,\n",
       "        -0.35805744, -0.47140452],\n",
       "       [-0.0280056 , -0.07069653, -0.05032074, -0.06757374,  0.75161446,\n",
       "        -0.39735971,  2.79284801, -0.35805744, -0.31622777, -0.39735971,\n",
       "        -0.35805744, -0.47140452],\n",
       "       [-0.0280056 ,  1.51313611,  0.62198067,  1.41904849,  0.08216029,\n",
       "        -0.39735971,  2.79284801, -0.35805744, -0.31622777, -0.39735971,\n",
       "        -0.35805744, -0.47140452],\n",
       "       [-1.26025208,  0.24607   ,  0.62198067, -0.06757374,  1.15328697,\n",
       "        -0.39735971, -0.35805744, -0.35805744, -0.31622777, -0.39735971,\n",
       "        -0.35805744,  2.12132034],\n",
       "       [-0.0280056 ,  1.67151937,  1.51838256,  1.41904849,  0.34994196,\n",
       "        -0.39735971, -0.35805744, -0.35805744, -0.31622777, -0.39735971,\n",
       "        -0.35805744,  2.12132034],\n",
       "       [-1.26025208, -1.17937938, -1.05877287, -1.55419597,  0.08216029,\n",
       "        -0.39735971, -0.35805744, -0.35805744, -0.31622777, -0.39735971,\n",
       "         2.79284801, -0.47140452],\n",
       "       [-1.26025208, -0.70422958, -0.61057192, -0.06757374,  0.08216029,\n",
       "        -0.39735971, -0.35805744, -0.35805744, -0.31622777, -0.39735971,\n",
       "         2.79284801, -0.47140452],\n",
       "       [-0.0280056 , -0.86261285, -0.66659704, -0.06757374, -0.9889664 ,\n",
       "        -0.39735971, -0.35805744, -0.35805744, -0.31622777, -0.39735971,\n",
       "         2.79284801, -0.47140452],\n",
       "       [-0.0280056 , -1.33776264, -1.05877287, -1.55419597, -0.9889664 ,\n",
       "        -0.39735971, -0.35805744, -0.35805744, -0.31622777, -0.39735971,\n",
       "         2.79284801, -0.47140452],\n",
       "       [-1.26025208, -0.38746306, -0.83467239, -0.06757374,  1.42106864,\n",
       "        -0.39735971, -0.35805744, -0.35805744, -0.31622777, -0.39735971,\n",
       "         2.79284801, -0.47140452],\n",
       "       [-0.0280056 ,  1.35475284,  0.84608115,  1.41904849,  0.08216029,\n",
       "        -0.39735971, -0.35805744, -0.35805744, -0.31622777, -0.39735971,\n",
       "        -0.35805744,  2.12132034],\n",
       "       [-0.0280056 ,  0.08768673,  0.28582997, -0.06757374,  0.08216029,\n",
       "        -0.39735971, -0.35805744, -0.35805744, -0.31622777, -0.39735971,\n",
       "        -0.35805744,  2.12132034],\n",
       "       [-0.0280056 , -1.33776264, -1.1708231 , -1.55419597,  0.08216029,\n",
       "        -0.39735971, -0.35805744, -0.35805744, -0.31622777, -0.39735971,\n",
       "        -0.35805744,  2.12132034],\n",
       "       [ 1.20424087, -1.33776264, -0.94672263, -1.55419597, -0.58729389,\n",
       "        -0.39735971, -0.35805744, -0.35805744, -0.31622777, -0.39735971,\n",
       "        -0.35805744,  2.12132034],\n",
       "       [ 1.20424087,  0.11302806,  0.62198067, -0.06757374, -0.58729389,\n",
       "        -0.39735971, -0.35805744, -0.35805744, -0.31622777, -0.39735971,\n",
       "        -0.35805744,  2.12132034],\n",
       "       [ 1.20424087,  1.46562113,  1.51838256,  1.41904849, -0.58729389,\n",
       "        -0.39735971, -0.35805744, -0.35805744, -0.31622777, -0.39735971,\n",
       "        -0.35805744,  2.12132034],\n",
       "       [ 1.20424087,  0.11936339,  0.84608115, -0.06757374, -1.12285724,\n",
       "        -0.39735971,  2.79284801, -0.35805744, -0.31622777, -0.39735971,\n",
       "        -0.35805744, -0.47140452],\n",
       "       [-0.0280056 ,  0.24607   ,  0.28582997, -0.06757374,  0.08216029,\n",
       "        -0.39735971,  2.79284801, -0.35805744, -0.31622777, -0.39735971,\n",
       "        -0.35805744, -0.47140452],\n",
       "       [-0.0280056 ,  1.67151937,  1.40633233,  1.41904849,  0.08216029,\n",
       "        -0.39735971,  2.79284801, -0.35805744, -0.31622777, -0.39735971,\n",
       "        -0.35805744, -0.47140452]])"
      ]
     },
     "execution_count": 50,
     "metadata": {},
     "output_type": "execute_result"
    }
   ],
   "source": [
    "scaler=StandardScaler()\n",
    "df_scaler=scaler.fit_transform(df6)\n",
    "df_scaler"
   ]
  },
  {
   "cell_type": "code",
   "execution_count": 51,
   "metadata": {},
   "outputs": [
    {
     "data": {
      "text/plain": [
       "Index(['OverallCond', 'area sqrtft', 'price', 'bhk', 'age of building',\n",
       "       'arvind marg', 'bakrol gate', 'bakrol road', 'harinagar road',\n",
       "       'kisan market', 'nagar palika road', 'rajender marg'],\n",
       "      dtype='object')"
      ]
     },
     "execution_count": 51,
     "metadata": {},
     "output_type": "execute_result"
    }
   ],
   "source": [
    "df6.columns"
   ]
  },
  {
   "cell_type": "code",
   "execution_count": 52,
   "metadata": {},
   "outputs": [
    {
     "data": {
      "text/html": [
       "<div>\n",
       "<style scoped>\n",
       "    .dataframe tbody tr th:only-of-type {\n",
       "        vertical-align: middle;\n",
       "    }\n",
       "\n",
       "    .dataframe tbody tr th {\n",
       "        vertical-align: top;\n",
       "    }\n",
       "\n",
       "    .dataframe thead th {\n",
       "        text-align: right;\n",
       "    }\n",
       "</style>\n",
       "<table border=\"1\" class=\"dataframe\">\n",
       "  <thead>\n",
       "    <tr style=\"text-align: right;\">\n",
       "      <th></th>\n",
       "      <th>OverallCond</th>\n",
       "      <th>area sqrtft</th>\n",
       "      <th>price</th>\n",
       "      <th>bhk</th>\n",
       "      <th>age of building</th>\n",
       "      <th>arvind marg</th>\n",
       "      <th>bakrol gate</th>\n",
       "      <th>bakrol road</th>\n",
       "      <th>harinagar road</th>\n",
       "      <th>kisan market</th>\n",
       "      <th>nagar palika road</th>\n",
       "      <th>rajender marg</th>\n",
       "    </tr>\n",
       "  </thead>\n",
       "  <tbody>\n",
       "    <tr>\n",
       "      <th>0</th>\n",
       "      <td>1.204241</td>\n",
       "      <td>-0.438146</td>\n",
       "      <td>0.285830</td>\n",
       "      <td>-0.067574</td>\n",
       "      <td>-1.122857</td>\n",
       "      <td>2.516611</td>\n",
       "      <td>-0.358057</td>\n",
       "      <td>-0.358057</td>\n",
       "      <td>-0.316228</td>\n",
       "      <td>-0.397360</td>\n",
       "      <td>-0.358057</td>\n",
       "      <td>-0.471405</td>\n",
       "    </tr>\n",
       "    <tr>\n",
       "      <th>1</th>\n",
       "      <td>1.204241</td>\n",
       "      <td>-1.179379</td>\n",
       "      <td>-0.610572</td>\n",
       "      <td>-1.554196</td>\n",
       "      <td>-1.122857</td>\n",
       "      <td>2.516611</td>\n",
       "      <td>-0.358057</td>\n",
       "      <td>-0.358057</td>\n",
       "      <td>-0.316228</td>\n",
       "      <td>-0.397360</td>\n",
       "      <td>-0.358057</td>\n",
       "      <td>-0.471405</td>\n",
       "    </tr>\n",
       "    <tr>\n",
       "      <th>2</th>\n",
       "      <td>1.204241</td>\n",
       "      <td>1.715867</td>\n",
       "      <td>1.966584</td>\n",
       "      <td>1.419048</td>\n",
       "      <td>-1.122857</td>\n",
       "      <td>2.516611</td>\n",
       "      <td>-0.358057</td>\n",
       "      <td>-0.358057</td>\n",
       "      <td>-0.316228</td>\n",
       "      <td>-0.397360</td>\n",
       "      <td>-0.358057</td>\n",
       "      <td>-0.471405</td>\n",
       "    </tr>\n",
       "    <tr>\n",
       "      <th>3</th>\n",
       "      <td>-0.028006</td>\n",
       "      <td>0.087687</td>\n",
       "      <td>0.285830</td>\n",
       "      <td>-0.067574</td>\n",
       "      <td>-0.855076</td>\n",
       "      <td>2.516611</td>\n",
       "      <td>-0.358057</td>\n",
       "      <td>-0.358057</td>\n",
       "      <td>-0.316228</td>\n",
       "      <td>-0.397360</td>\n",
       "      <td>-0.358057</td>\n",
       "      <td>-0.471405</td>\n",
       "    </tr>\n",
       "    <tr>\n",
       "      <th>4</th>\n",
       "      <td>-0.028006</td>\n",
       "      <td>0.246070</td>\n",
       "      <td>0.846081</td>\n",
       "      <td>-0.067574</td>\n",
       "      <td>-0.855076</td>\n",
       "      <td>2.516611</td>\n",
       "      <td>-0.358057</td>\n",
       "      <td>-0.358057</td>\n",
       "      <td>-0.316228</td>\n",
       "      <td>-0.397360</td>\n",
       "      <td>-0.358057</td>\n",
       "      <td>-0.471405</td>\n",
       "    </tr>\n",
       "    <tr>\n",
       "      <th>5</th>\n",
       "      <td>1.204241</td>\n",
       "      <td>1.671519</td>\n",
       "      <td>2.526835</td>\n",
       "      <td>1.419048</td>\n",
       "      <td>-1.256748</td>\n",
       "      <td>2.516611</td>\n",
       "      <td>-0.358057</td>\n",
       "      <td>-0.358057</td>\n",
       "      <td>-0.316228</td>\n",
       "      <td>-0.397360</td>\n",
       "      <td>-0.358057</td>\n",
       "      <td>-0.471405</td>\n",
       "    </tr>\n",
       "    <tr>\n",
       "      <th>6</th>\n",
       "      <td>1.204241</td>\n",
       "      <td>-1.147703</td>\n",
       "      <td>-1.170823</td>\n",
       "      <td>-1.554196</td>\n",
       "      <td>-1.122857</td>\n",
       "      <td>-0.397360</td>\n",
       "      <td>-0.358057</td>\n",
       "      <td>-0.358057</td>\n",
       "      <td>-0.316228</td>\n",
       "      <td>-0.397360</td>\n",
       "      <td>-0.358057</td>\n",
       "      <td>-0.471405</td>\n",
       "    </tr>\n",
       "    <tr>\n",
       "      <th>7</th>\n",
       "      <td>1.204241</td>\n",
       "      <td>-0.229080</td>\n",
       "      <td>-0.610572</td>\n",
       "      <td>-0.067574</td>\n",
       "      <td>-1.122857</td>\n",
       "      <td>-0.397360</td>\n",
       "      <td>-0.358057</td>\n",
       "      <td>-0.358057</td>\n",
       "      <td>-0.316228</td>\n",
       "      <td>-0.397360</td>\n",
       "      <td>-0.358057</td>\n",
       "      <td>-0.471405</td>\n",
       "    </tr>\n",
       "    <tr>\n",
       "      <th>8</th>\n",
       "      <td>1.204241</td>\n",
       "      <td>1.354753</td>\n",
       "      <td>0.285830</td>\n",
       "      <td>1.419048</td>\n",
       "      <td>-1.122857</td>\n",
       "      <td>-0.397360</td>\n",
       "      <td>-0.358057</td>\n",
       "      <td>-0.358057</td>\n",
       "      <td>-0.316228</td>\n",
       "      <td>-0.397360</td>\n",
       "      <td>-0.358057</td>\n",
       "      <td>-0.471405</td>\n",
       "    </tr>\n",
       "    <tr>\n",
       "      <th>9</th>\n",
       "      <td>-0.028006</td>\n",
       "      <td>-0.229080</td>\n",
       "      <td>0.342976</td>\n",
       "      <td>-0.067574</td>\n",
       "      <td>-0.855076</td>\n",
       "      <td>-0.397360</td>\n",
       "      <td>-0.358057</td>\n",
       "      <td>-0.358057</td>\n",
       "      <td>-0.316228</td>\n",
       "      <td>-0.397360</td>\n",
       "      <td>-0.358057</td>\n",
       "      <td>-0.471405</td>\n",
       "    </tr>\n",
       "    <tr>\n",
       "      <th>10</th>\n",
       "      <td>-0.028006</td>\n",
       "      <td>2.146669</td>\n",
       "      <td>1.966584</td>\n",
       "      <td>1.419048</td>\n",
       "      <td>-0.855076</td>\n",
       "      <td>-0.397360</td>\n",
       "      <td>-0.358057</td>\n",
       "      <td>-0.358057</td>\n",
       "      <td>-0.316228</td>\n",
       "      <td>-0.397360</td>\n",
       "      <td>-0.358057</td>\n",
       "      <td>-0.471405</td>\n",
       "    </tr>\n",
       "    <tr>\n",
       "      <th>11</th>\n",
       "      <td>-0.028006</td>\n",
       "      <td>-1.179379</td>\n",
       "      <td>-1.282873</td>\n",
       "      <td>-1.554196</td>\n",
       "      <td>1.421069</td>\n",
       "      <td>-0.397360</td>\n",
       "      <td>-0.358057</td>\n",
       "      <td>-0.358057</td>\n",
       "      <td>3.162278</td>\n",
       "      <td>-0.397360</td>\n",
       "      <td>-0.358057</td>\n",
       "      <td>-0.471405</td>\n",
       "    </tr>\n",
       "    <tr>\n",
       "      <th>12</th>\n",
       "      <td>-1.260252</td>\n",
       "      <td>-0.387463</td>\n",
       "      <td>-0.834672</td>\n",
       "      <td>-0.067574</td>\n",
       "      <td>1.421069</td>\n",
       "      <td>-0.397360</td>\n",
       "      <td>-0.358057</td>\n",
       "      <td>-0.358057</td>\n",
       "      <td>3.162278</td>\n",
       "      <td>-0.397360</td>\n",
       "      <td>-0.358057</td>\n",
       "      <td>-0.471405</td>\n",
       "    </tr>\n",
       "    <tr>\n",
       "      <th>13</th>\n",
       "      <td>-0.028006</td>\n",
       "      <td>-0.545846</td>\n",
       "      <td>-0.778647</td>\n",
       "      <td>-0.067574</td>\n",
       "      <td>0.349942</td>\n",
       "      <td>-0.397360</td>\n",
       "      <td>-0.358057</td>\n",
       "      <td>-0.358057</td>\n",
       "      <td>3.162278</td>\n",
       "      <td>-0.397360</td>\n",
       "      <td>-0.358057</td>\n",
       "      <td>-0.471405</td>\n",
       "    </tr>\n",
       "    <tr>\n",
       "      <th>14</th>\n",
       "      <td>-0.028006</td>\n",
       "      <td>-0.431810</td>\n",
       "      <td>-0.246409</td>\n",
       "      <td>-0.067574</td>\n",
       "      <td>1.554959</td>\n",
       "      <td>-0.397360</td>\n",
       "      <td>-0.358057</td>\n",
       "      <td>-0.358057</td>\n",
       "      <td>3.162278</td>\n",
       "      <td>-0.397360</td>\n",
       "      <td>-0.358057</td>\n",
       "      <td>-0.471405</td>\n",
       "    </tr>\n",
       "    <tr>\n",
       "      <th>15</th>\n",
       "      <td>-0.028006</td>\n",
       "      <td>1.481459</td>\n",
       "      <td>0.397880</td>\n",
       "      <td>1.419048</td>\n",
       "      <td>0.751614</td>\n",
       "      <td>-0.397360</td>\n",
       "      <td>-0.358057</td>\n",
       "      <td>-0.358057</td>\n",
       "      <td>-0.316228</td>\n",
       "      <td>2.516611</td>\n",
       "      <td>-0.358057</td>\n",
       "      <td>-0.471405</td>\n",
       "    </tr>\n",
       "    <tr>\n",
       "      <th>16</th>\n",
       "      <td>-0.028006</td>\n",
       "      <td>-1.116026</td>\n",
       "      <td>-0.834672</td>\n",
       "      <td>-1.554196</td>\n",
       "      <td>0.751614</td>\n",
       "      <td>-0.397360</td>\n",
       "      <td>-0.358057</td>\n",
       "      <td>-0.358057</td>\n",
       "      <td>-0.316228</td>\n",
       "      <td>2.516611</td>\n",
       "      <td>-0.358057</td>\n",
       "      <td>-0.471405</td>\n",
       "    </tr>\n",
       "    <tr>\n",
       "      <th>17</th>\n",
       "      <td>-0.028006</td>\n",
       "      <td>-0.308271</td>\n",
       "      <td>-0.274421</td>\n",
       "      <td>-0.067574</td>\n",
       "      <td>0.751614</td>\n",
       "      <td>-0.397360</td>\n",
       "      <td>-0.358057</td>\n",
       "      <td>-0.358057</td>\n",
       "      <td>-0.316228</td>\n",
       "      <td>2.516611</td>\n",
       "      <td>-0.358057</td>\n",
       "      <td>-0.471405</td>\n",
       "    </tr>\n",
       "    <tr>\n",
       "      <th>18</th>\n",
       "      <td>1.204241</td>\n",
       "      <td>-0.229080</td>\n",
       "      <td>0.621981</td>\n",
       "      <td>-0.067574</td>\n",
       "      <td>-1.256748</td>\n",
       "      <td>-0.397360</td>\n",
       "      <td>-0.358057</td>\n",
       "      <td>-0.358057</td>\n",
       "      <td>-0.316228</td>\n",
       "      <td>2.516611</td>\n",
       "      <td>-0.358057</td>\n",
       "      <td>-0.471405</td>\n",
       "    </tr>\n",
       "    <tr>\n",
       "      <th>19</th>\n",
       "      <td>-0.028006</td>\n",
       "      <td>-0.545846</td>\n",
       "      <td>-0.050321</td>\n",
       "      <td>-0.067574</td>\n",
       "      <td>0.082160</td>\n",
       "      <td>-0.397360</td>\n",
       "      <td>-0.358057</td>\n",
       "      <td>-0.358057</td>\n",
       "      <td>-0.316228</td>\n",
       "      <td>2.516611</td>\n",
       "      <td>-0.358057</td>\n",
       "      <td>-0.471405</td>\n",
       "    </tr>\n",
       "    <tr>\n",
       "      <th>20</th>\n",
       "      <td>1.204241</td>\n",
       "      <td>0.087687</td>\n",
       "      <td>0.565956</td>\n",
       "      <td>-0.067574</td>\n",
       "      <td>-1.256748</td>\n",
       "      <td>-0.397360</td>\n",
       "      <td>-0.358057</td>\n",
       "      <td>-0.358057</td>\n",
       "      <td>-0.316228</td>\n",
       "      <td>2.516611</td>\n",
       "      <td>-0.358057</td>\n",
       "      <td>-0.471405</td>\n",
       "    </tr>\n",
       "    <tr>\n",
       "      <th>21</th>\n",
       "      <td>-1.260252</td>\n",
       "      <td>-0.387463</td>\n",
       "      <td>-0.778647</td>\n",
       "      <td>-0.067574</td>\n",
       "      <td>1.153287</td>\n",
       "      <td>-0.397360</td>\n",
       "      <td>-0.358057</td>\n",
       "      <td>2.792848</td>\n",
       "      <td>-0.316228</td>\n",
       "      <td>-0.397360</td>\n",
       "      <td>-0.358057</td>\n",
       "      <td>-0.471405</td>\n",
       "    </tr>\n",
       "    <tr>\n",
       "      <th>22</th>\n",
       "      <td>-1.260252</td>\n",
       "      <td>-0.229080</td>\n",
       "      <td>-0.834672</td>\n",
       "      <td>-0.067574</td>\n",
       "      <td>1.019396</td>\n",
       "      <td>-0.397360</td>\n",
       "      <td>-0.358057</td>\n",
       "      <td>2.792848</td>\n",
       "      <td>-0.316228</td>\n",
       "      <td>-0.397360</td>\n",
       "      <td>-0.358057</td>\n",
       "      <td>-0.471405</td>\n",
       "    </tr>\n",
       "    <tr>\n",
       "      <th>23</th>\n",
       "      <td>-1.260252</td>\n",
       "      <td>-1.179379</td>\n",
       "      <td>-1.170823</td>\n",
       "      <td>-1.554196</td>\n",
       "      <td>1.019396</td>\n",
       "      <td>-0.397360</td>\n",
       "      <td>-0.358057</td>\n",
       "      <td>2.792848</td>\n",
       "      <td>-0.316228</td>\n",
       "      <td>-0.397360</td>\n",
       "      <td>-0.358057</td>\n",
       "      <td>-0.471405</td>\n",
       "    </tr>\n",
       "    <tr>\n",
       "      <th>24</th>\n",
       "      <td>-2.492499</td>\n",
       "      <td>-0.862613</td>\n",
       "      <td>-1.619024</td>\n",
       "      <td>-0.067574</td>\n",
       "      <td>2.090523</td>\n",
       "      <td>-0.397360</td>\n",
       "      <td>-0.358057</td>\n",
       "      <td>2.792848</td>\n",
       "      <td>-0.316228</td>\n",
       "      <td>-0.397360</td>\n",
       "      <td>-0.358057</td>\n",
       "      <td>-0.471405</td>\n",
       "    </tr>\n",
       "    <tr>\n",
       "      <th>25</th>\n",
       "      <td>-2.492499</td>\n",
       "      <td>0.562837</td>\n",
       "      <td>-1.170823</td>\n",
       "      <td>1.419048</td>\n",
       "      <td>2.090523</td>\n",
       "      <td>-0.397360</td>\n",
       "      <td>-0.358057</td>\n",
       "      <td>2.792848</td>\n",
       "      <td>-0.316228</td>\n",
       "      <td>-0.397360</td>\n",
       "      <td>-0.358057</td>\n",
       "      <td>-0.471405</td>\n",
       "    </tr>\n",
       "    <tr>\n",
       "      <th>26</th>\n",
       "      <td>-0.028006</td>\n",
       "      <td>-0.070697</td>\n",
       "      <td>-0.050321</td>\n",
       "      <td>-0.067574</td>\n",
       "      <td>0.751614</td>\n",
       "      <td>-0.397360</td>\n",
       "      <td>2.792848</td>\n",
       "      <td>-0.358057</td>\n",
       "      <td>-0.316228</td>\n",
       "      <td>-0.397360</td>\n",
       "      <td>-0.358057</td>\n",
       "      <td>-0.471405</td>\n",
       "    </tr>\n",
       "    <tr>\n",
       "      <th>27</th>\n",
       "      <td>-0.028006</td>\n",
       "      <td>1.513136</td>\n",
       "      <td>0.621981</td>\n",
       "      <td>1.419048</td>\n",
       "      <td>0.082160</td>\n",
       "      <td>-0.397360</td>\n",
       "      <td>2.792848</td>\n",
       "      <td>-0.358057</td>\n",
       "      <td>-0.316228</td>\n",
       "      <td>-0.397360</td>\n",
       "      <td>-0.358057</td>\n",
       "      <td>-0.471405</td>\n",
       "    </tr>\n",
       "    <tr>\n",
       "      <th>28</th>\n",
       "      <td>-1.260252</td>\n",
       "      <td>0.246070</td>\n",
       "      <td>0.621981</td>\n",
       "      <td>-0.067574</td>\n",
       "      <td>1.153287</td>\n",
       "      <td>-0.397360</td>\n",
       "      <td>-0.358057</td>\n",
       "      <td>-0.358057</td>\n",
       "      <td>-0.316228</td>\n",
       "      <td>-0.397360</td>\n",
       "      <td>-0.358057</td>\n",
       "      <td>2.121320</td>\n",
       "    </tr>\n",
       "    <tr>\n",
       "      <th>29</th>\n",
       "      <td>-0.028006</td>\n",
       "      <td>1.671519</td>\n",
       "      <td>1.518383</td>\n",
       "      <td>1.419048</td>\n",
       "      <td>0.349942</td>\n",
       "      <td>-0.397360</td>\n",
       "      <td>-0.358057</td>\n",
       "      <td>-0.358057</td>\n",
       "      <td>-0.316228</td>\n",
       "      <td>-0.397360</td>\n",
       "      <td>-0.358057</td>\n",
       "      <td>2.121320</td>\n",
       "    </tr>\n",
       "    <tr>\n",
       "      <th>30</th>\n",
       "      <td>-1.260252</td>\n",
       "      <td>-1.179379</td>\n",
       "      <td>-1.058773</td>\n",
       "      <td>-1.554196</td>\n",
       "      <td>0.082160</td>\n",
       "      <td>-0.397360</td>\n",
       "      <td>-0.358057</td>\n",
       "      <td>-0.358057</td>\n",
       "      <td>-0.316228</td>\n",
       "      <td>-0.397360</td>\n",
       "      <td>2.792848</td>\n",
       "      <td>-0.471405</td>\n",
       "    </tr>\n",
       "    <tr>\n",
       "      <th>31</th>\n",
       "      <td>-1.260252</td>\n",
       "      <td>-0.704230</td>\n",
       "      <td>-0.610572</td>\n",
       "      <td>-0.067574</td>\n",
       "      <td>0.082160</td>\n",
       "      <td>-0.397360</td>\n",
       "      <td>-0.358057</td>\n",
       "      <td>-0.358057</td>\n",
       "      <td>-0.316228</td>\n",
       "      <td>-0.397360</td>\n",
       "      <td>2.792848</td>\n",
       "      <td>-0.471405</td>\n",
       "    </tr>\n",
       "    <tr>\n",
       "      <th>32</th>\n",
       "      <td>-0.028006</td>\n",
       "      <td>-0.862613</td>\n",
       "      <td>-0.666597</td>\n",
       "      <td>-0.067574</td>\n",
       "      <td>-0.988966</td>\n",
       "      <td>-0.397360</td>\n",
       "      <td>-0.358057</td>\n",
       "      <td>-0.358057</td>\n",
       "      <td>-0.316228</td>\n",
       "      <td>-0.397360</td>\n",
       "      <td>2.792848</td>\n",
       "      <td>-0.471405</td>\n",
       "    </tr>\n",
       "    <tr>\n",
       "      <th>33</th>\n",
       "      <td>-0.028006</td>\n",
       "      <td>-1.337763</td>\n",
       "      <td>-1.058773</td>\n",
       "      <td>-1.554196</td>\n",
       "      <td>-0.988966</td>\n",
       "      <td>-0.397360</td>\n",
       "      <td>-0.358057</td>\n",
       "      <td>-0.358057</td>\n",
       "      <td>-0.316228</td>\n",
       "      <td>-0.397360</td>\n",
       "      <td>2.792848</td>\n",
       "      <td>-0.471405</td>\n",
       "    </tr>\n",
       "    <tr>\n",
       "      <th>34</th>\n",
       "      <td>-1.260252</td>\n",
       "      <td>-0.387463</td>\n",
       "      <td>-0.834672</td>\n",
       "      <td>-0.067574</td>\n",
       "      <td>1.421069</td>\n",
       "      <td>-0.397360</td>\n",
       "      <td>-0.358057</td>\n",
       "      <td>-0.358057</td>\n",
       "      <td>-0.316228</td>\n",
       "      <td>-0.397360</td>\n",
       "      <td>2.792848</td>\n",
       "      <td>-0.471405</td>\n",
       "    </tr>\n",
       "    <tr>\n",
       "      <th>35</th>\n",
       "      <td>-0.028006</td>\n",
       "      <td>1.354753</td>\n",
       "      <td>0.846081</td>\n",
       "      <td>1.419048</td>\n",
       "      <td>0.082160</td>\n",
       "      <td>-0.397360</td>\n",
       "      <td>-0.358057</td>\n",
       "      <td>-0.358057</td>\n",
       "      <td>-0.316228</td>\n",
       "      <td>-0.397360</td>\n",
       "      <td>-0.358057</td>\n",
       "      <td>2.121320</td>\n",
       "    </tr>\n",
       "    <tr>\n",
       "      <th>36</th>\n",
       "      <td>-0.028006</td>\n",
       "      <td>0.087687</td>\n",
       "      <td>0.285830</td>\n",
       "      <td>-0.067574</td>\n",
       "      <td>0.082160</td>\n",
       "      <td>-0.397360</td>\n",
       "      <td>-0.358057</td>\n",
       "      <td>-0.358057</td>\n",
       "      <td>-0.316228</td>\n",
       "      <td>-0.397360</td>\n",
       "      <td>-0.358057</td>\n",
       "      <td>2.121320</td>\n",
       "    </tr>\n",
       "    <tr>\n",
       "      <th>37</th>\n",
       "      <td>-0.028006</td>\n",
       "      <td>-1.337763</td>\n",
       "      <td>-1.170823</td>\n",
       "      <td>-1.554196</td>\n",
       "      <td>0.082160</td>\n",
       "      <td>-0.397360</td>\n",
       "      <td>-0.358057</td>\n",
       "      <td>-0.358057</td>\n",
       "      <td>-0.316228</td>\n",
       "      <td>-0.397360</td>\n",
       "      <td>-0.358057</td>\n",
       "      <td>2.121320</td>\n",
       "    </tr>\n",
       "    <tr>\n",
       "      <th>38</th>\n",
       "      <td>1.204241</td>\n",
       "      <td>-1.337763</td>\n",
       "      <td>-0.946723</td>\n",
       "      <td>-1.554196</td>\n",
       "      <td>-0.587294</td>\n",
       "      <td>-0.397360</td>\n",
       "      <td>-0.358057</td>\n",
       "      <td>-0.358057</td>\n",
       "      <td>-0.316228</td>\n",
       "      <td>-0.397360</td>\n",
       "      <td>-0.358057</td>\n",
       "      <td>2.121320</td>\n",
       "    </tr>\n",
       "    <tr>\n",
       "      <th>39</th>\n",
       "      <td>1.204241</td>\n",
       "      <td>0.113028</td>\n",
       "      <td>0.621981</td>\n",
       "      <td>-0.067574</td>\n",
       "      <td>-0.587294</td>\n",
       "      <td>-0.397360</td>\n",
       "      <td>-0.358057</td>\n",
       "      <td>-0.358057</td>\n",
       "      <td>-0.316228</td>\n",
       "      <td>-0.397360</td>\n",
       "      <td>-0.358057</td>\n",
       "      <td>2.121320</td>\n",
       "    </tr>\n",
       "    <tr>\n",
       "      <th>40</th>\n",
       "      <td>1.204241</td>\n",
       "      <td>1.465621</td>\n",
       "      <td>1.518383</td>\n",
       "      <td>1.419048</td>\n",
       "      <td>-0.587294</td>\n",
       "      <td>-0.397360</td>\n",
       "      <td>-0.358057</td>\n",
       "      <td>-0.358057</td>\n",
       "      <td>-0.316228</td>\n",
       "      <td>-0.397360</td>\n",
       "      <td>-0.358057</td>\n",
       "      <td>2.121320</td>\n",
       "    </tr>\n",
       "    <tr>\n",
       "      <th>41</th>\n",
       "      <td>1.204241</td>\n",
       "      <td>0.119363</td>\n",
       "      <td>0.846081</td>\n",
       "      <td>-0.067574</td>\n",
       "      <td>-1.122857</td>\n",
       "      <td>-0.397360</td>\n",
       "      <td>2.792848</td>\n",
       "      <td>-0.358057</td>\n",
       "      <td>-0.316228</td>\n",
       "      <td>-0.397360</td>\n",
       "      <td>-0.358057</td>\n",
       "      <td>-0.471405</td>\n",
       "    </tr>\n",
       "    <tr>\n",
       "      <th>42</th>\n",
       "      <td>-0.028006</td>\n",
       "      <td>0.246070</td>\n",
       "      <td>0.285830</td>\n",
       "      <td>-0.067574</td>\n",
       "      <td>0.082160</td>\n",
       "      <td>-0.397360</td>\n",
       "      <td>2.792848</td>\n",
       "      <td>-0.358057</td>\n",
       "      <td>-0.316228</td>\n",
       "      <td>-0.397360</td>\n",
       "      <td>-0.358057</td>\n",
       "      <td>-0.471405</td>\n",
       "    </tr>\n",
       "    <tr>\n",
       "      <th>43</th>\n",
       "      <td>-0.028006</td>\n",
       "      <td>1.671519</td>\n",
       "      <td>1.406332</td>\n",
       "      <td>1.419048</td>\n",
       "      <td>0.082160</td>\n",
       "      <td>-0.397360</td>\n",
       "      <td>2.792848</td>\n",
       "      <td>-0.358057</td>\n",
       "      <td>-0.316228</td>\n",
       "      <td>-0.397360</td>\n",
       "      <td>-0.358057</td>\n",
       "      <td>-0.471405</td>\n",
       "    </tr>\n",
       "  </tbody>\n",
       "</table>\n",
       "</div>"
      ],
      "text/plain": [
       "    OverallCond  area sqrtft     price       bhk  age of building  \\\n",
       "0      1.204241    -0.438146  0.285830 -0.067574        -1.122857   \n",
       "1      1.204241    -1.179379 -0.610572 -1.554196        -1.122857   \n",
       "2      1.204241     1.715867  1.966584  1.419048        -1.122857   \n",
       "3     -0.028006     0.087687  0.285830 -0.067574        -0.855076   \n",
       "4     -0.028006     0.246070  0.846081 -0.067574        -0.855076   \n",
       "5      1.204241     1.671519  2.526835  1.419048        -1.256748   \n",
       "6      1.204241    -1.147703 -1.170823 -1.554196        -1.122857   \n",
       "7      1.204241    -0.229080 -0.610572 -0.067574        -1.122857   \n",
       "8      1.204241     1.354753  0.285830  1.419048        -1.122857   \n",
       "9     -0.028006    -0.229080  0.342976 -0.067574        -0.855076   \n",
       "10    -0.028006     2.146669  1.966584  1.419048        -0.855076   \n",
       "11    -0.028006    -1.179379 -1.282873 -1.554196         1.421069   \n",
       "12    -1.260252    -0.387463 -0.834672 -0.067574         1.421069   \n",
       "13    -0.028006    -0.545846 -0.778647 -0.067574         0.349942   \n",
       "14    -0.028006    -0.431810 -0.246409 -0.067574         1.554959   \n",
       "15    -0.028006     1.481459  0.397880  1.419048         0.751614   \n",
       "16    -0.028006    -1.116026 -0.834672 -1.554196         0.751614   \n",
       "17    -0.028006    -0.308271 -0.274421 -0.067574         0.751614   \n",
       "18     1.204241    -0.229080  0.621981 -0.067574        -1.256748   \n",
       "19    -0.028006    -0.545846 -0.050321 -0.067574         0.082160   \n",
       "20     1.204241     0.087687  0.565956 -0.067574        -1.256748   \n",
       "21    -1.260252    -0.387463 -0.778647 -0.067574         1.153287   \n",
       "22    -1.260252    -0.229080 -0.834672 -0.067574         1.019396   \n",
       "23    -1.260252    -1.179379 -1.170823 -1.554196         1.019396   \n",
       "24    -2.492499    -0.862613 -1.619024 -0.067574         2.090523   \n",
       "25    -2.492499     0.562837 -1.170823  1.419048         2.090523   \n",
       "26    -0.028006    -0.070697 -0.050321 -0.067574         0.751614   \n",
       "27    -0.028006     1.513136  0.621981  1.419048         0.082160   \n",
       "28    -1.260252     0.246070  0.621981 -0.067574         1.153287   \n",
       "29    -0.028006     1.671519  1.518383  1.419048         0.349942   \n",
       "30    -1.260252    -1.179379 -1.058773 -1.554196         0.082160   \n",
       "31    -1.260252    -0.704230 -0.610572 -0.067574         0.082160   \n",
       "32    -0.028006    -0.862613 -0.666597 -0.067574        -0.988966   \n",
       "33    -0.028006    -1.337763 -1.058773 -1.554196        -0.988966   \n",
       "34    -1.260252    -0.387463 -0.834672 -0.067574         1.421069   \n",
       "35    -0.028006     1.354753  0.846081  1.419048         0.082160   \n",
       "36    -0.028006     0.087687  0.285830 -0.067574         0.082160   \n",
       "37    -0.028006    -1.337763 -1.170823 -1.554196         0.082160   \n",
       "38     1.204241    -1.337763 -0.946723 -1.554196        -0.587294   \n",
       "39     1.204241     0.113028  0.621981 -0.067574        -0.587294   \n",
       "40     1.204241     1.465621  1.518383  1.419048        -0.587294   \n",
       "41     1.204241     0.119363  0.846081 -0.067574        -1.122857   \n",
       "42    -0.028006     0.246070  0.285830 -0.067574         0.082160   \n",
       "43    -0.028006     1.671519  1.406332  1.419048         0.082160   \n",
       "\n",
       "    arvind marg  bakrol gate  bakrol road  harinagar road  kisan market  \\\n",
       "0      2.516611    -0.358057    -0.358057       -0.316228     -0.397360   \n",
       "1      2.516611    -0.358057    -0.358057       -0.316228     -0.397360   \n",
       "2      2.516611    -0.358057    -0.358057       -0.316228     -0.397360   \n",
       "3      2.516611    -0.358057    -0.358057       -0.316228     -0.397360   \n",
       "4      2.516611    -0.358057    -0.358057       -0.316228     -0.397360   \n",
       "5      2.516611    -0.358057    -0.358057       -0.316228     -0.397360   \n",
       "6     -0.397360    -0.358057    -0.358057       -0.316228     -0.397360   \n",
       "7     -0.397360    -0.358057    -0.358057       -0.316228     -0.397360   \n",
       "8     -0.397360    -0.358057    -0.358057       -0.316228     -0.397360   \n",
       "9     -0.397360    -0.358057    -0.358057       -0.316228     -0.397360   \n",
       "10    -0.397360    -0.358057    -0.358057       -0.316228     -0.397360   \n",
       "11    -0.397360    -0.358057    -0.358057        3.162278     -0.397360   \n",
       "12    -0.397360    -0.358057    -0.358057        3.162278     -0.397360   \n",
       "13    -0.397360    -0.358057    -0.358057        3.162278     -0.397360   \n",
       "14    -0.397360    -0.358057    -0.358057        3.162278     -0.397360   \n",
       "15    -0.397360    -0.358057    -0.358057       -0.316228      2.516611   \n",
       "16    -0.397360    -0.358057    -0.358057       -0.316228      2.516611   \n",
       "17    -0.397360    -0.358057    -0.358057       -0.316228      2.516611   \n",
       "18    -0.397360    -0.358057    -0.358057       -0.316228      2.516611   \n",
       "19    -0.397360    -0.358057    -0.358057       -0.316228      2.516611   \n",
       "20    -0.397360    -0.358057    -0.358057       -0.316228      2.516611   \n",
       "21    -0.397360    -0.358057     2.792848       -0.316228     -0.397360   \n",
       "22    -0.397360    -0.358057     2.792848       -0.316228     -0.397360   \n",
       "23    -0.397360    -0.358057     2.792848       -0.316228     -0.397360   \n",
       "24    -0.397360    -0.358057     2.792848       -0.316228     -0.397360   \n",
       "25    -0.397360    -0.358057     2.792848       -0.316228     -0.397360   \n",
       "26    -0.397360     2.792848    -0.358057       -0.316228     -0.397360   \n",
       "27    -0.397360     2.792848    -0.358057       -0.316228     -0.397360   \n",
       "28    -0.397360    -0.358057    -0.358057       -0.316228     -0.397360   \n",
       "29    -0.397360    -0.358057    -0.358057       -0.316228     -0.397360   \n",
       "30    -0.397360    -0.358057    -0.358057       -0.316228     -0.397360   \n",
       "31    -0.397360    -0.358057    -0.358057       -0.316228     -0.397360   \n",
       "32    -0.397360    -0.358057    -0.358057       -0.316228     -0.397360   \n",
       "33    -0.397360    -0.358057    -0.358057       -0.316228     -0.397360   \n",
       "34    -0.397360    -0.358057    -0.358057       -0.316228     -0.397360   \n",
       "35    -0.397360    -0.358057    -0.358057       -0.316228     -0.397360   \n",
       "36    -0.397360    -0.358057    -0.358057       -0.316228     -0.397360   \n",
       "37    -0.397360    -0.358057    -0.358057       -0.316228     -0.397360   \n",
       "38    -0.397360    -0.358057    -0.358057       -0.316228     -0.397360   \n",
       "39    -0.397360    -0.358057    -0.358057       -0.316228     -0.397360   \n",
       "40    -0.397360    -0.358057    -0.358057       -0.316228     -0.397360   \n",
       "41    -0.397360     2.792848    -0.358057       -0.316228     -0.397360   \n",
       "42    -0.397360     2.792848    -0.358057       -0.316228     -0.397360   \n",
       "43    -0.397360     2.792848    -0.358057       -0.316228     -0.397360   \n",
       "\n",
       "    nagar palika road  rajender marg  \n",
       "0           -0.358057      -0.471405  \n",
       "1           -0.358057      -0.471405  \n",
       "2           -0.358057      -0.471405  \n",
       "3           -0.358057      -0.471405  \n",
       "4           -0.358057      -0.471405  \n",
       "5           -0.358057      -0.471405  \n",
       "6           -0.358057      -0.471405  \n",
       "7           -0.358057      -0.471405  \n",
       "8           -0.358057      -0.471405  \n",
       "9           -0.358057      -0.471405  \n",
       "10          -0.358057      -0.471405  \n",
       "11          -0.358057      -0.471405  \n",
       "12          -0.358057      -0.471405  \n",
       "13          -0.358057      -0.471405  \n",
       "14          -0.358057      -0.471405  \n",
       "15          -0.358057      -0.471405  \n",
       "16          -0.358057      -0.471405  \n",
       "17          -0.358057      -0.471405  \n",
       "18          -0.358057      -0.471405  \n",
       "19          -0.358057      -0.471405  \n",
       "20          -0.358057      -0.471405  \n",
       "21          -0.358057      -0.471405  \n",
       "22          -0.358057      -0.471405  \n",
       "23          -0.358057      -0.471405  \n",
       "24          -0.358057      -0.471405  \n",
       "25          -0.358057      -0.471405  \n",
       "26          -0.358057      -0.471405  \n",
       "27          -0.358057      -0.471405  \n",
       "28          -0.358057       2.121320  \n",
       "29          -0.358057       2.121320  \n",
       "30           2.792848      -0.471405  \n",
       "31           2.792848      -0.471405  \n",
       "32           2.792848      -0.471405  \n",
       "33           2.792848      -0.471405  \n",
       "34           2.792848      -0.471405  \n",
       "35          -0.358057       2.121320  \n",
       "36          -0.358057       2.121320  \n",
       "37          -0.358057       2.121320  \n",
       "38          -0.358057       2.121320  \n",
       "39          -0.358057       2.121320  \n",
       "40          -0.358057       2.121320  \n",
       "41          -0.358057      -0.471405  \n",
       "42          -0.358057      -0.471405  \n",
       "43          -0.358057      -0.471405  "
      ]
     },
     "execution_count": 52,
     "metadata": {},
     "output_type": "execute_result"
    }
   ],
   "source": [
    "df_scaler=pd.DataFrame(df_scaler,columns=['OverallCond','area sqrtft','price','bhk','age of building','arvind marg','bakrol gate','bakrol road','harinagar road','kisan market','nagar palika road','rajender marg'])\n",
    "df_scaler"
   ]
  },
  {
   "cell_type": "code",
   "execution_count": 53,
   "metadata": {},
   "outputs": [
    {
     "data": {
      "text/plain": [
       "(44, 12)"
      ]
     },
     "execution_count": 53,
     "metadata": {},
     "output_type": "execute_result"
    }
   ],
   "source": [
    "df_scaler.shape"
   ]
  },
  {
   "cell_type": "markdown",
   "metadata": {},
   "source": [
    "#### Train Test Split"
   ]
  },
  {
   "cell_type": "markdown",
   "metadata": {},
   "source": [
    "Now let's split the data into a training set and a testing set. We will train out model on the training set and then use the test set to evaluate the model.\n",
    "The training dataset and test dataset must be similar, usually have the same predictors or variables. They differ on the observations and specific values in the variables. If you fit the model on the training dataset, then you implicitly minimize error or find correct responses. The fitted model provides a good prediction on the training dataset. Then you test the model on the test dataset. If the model predicts good also on the test dataset, you have more confidence. You have more confidence since the test dataset is similar to the training dataset, but not the same nor seen by the model. It means the model transfers prediction or learning in real sense.\n",
    "\n",
    "So,by splitting dataset into training and testing subset, we can efficiently measure our trained model since it never sees testing data before.Thus it's possible to prevent overfitting.\n",
    "\n",
    "I am just splitting dataset into 20% of test data and remaining 80% will used for training the model."
   ]
  },
  {
   "cell_type": "code",
   "execution_count": 54,
   "metadata": {},
   "outputs": [],
   "source": [
    "y=df6['price']\n",
    "x=df6.drop(['price'],axis=1)"
   ]
  },
  {
   "cell_type": "code",
   "execution_count": 55,
   "metadata": {},
   "outputs": [],
   "source": [
    "from sklearn.model_selection import train_test_split\n",
    "x_train,x_test,y_train,y_test=train_test_split(x,y,test_size=0.20,random_state=10)"
   ]
  },
  {
   "cell_type": "markdown",
   "metadata": {},
   "source": [
    "### Part IV Model Fitting"
   ]
  },
  {
   "cell_type": "markdown",
   "metadata": {},
   "source": [
    "### 1.LinearRegression"
   ]
  },
  {
   "cell_type": "markdown",
   "metadata": {},
   "source": [
    "\n",
    "Linear regression is been studied at great length, and there is a lot of literature on how your data must be structured to make best use of the model.\n",
    "\n",
    "As such, there is a lot of sophistication when talking about these requirements and expectations which can be intimidating. In practice, you can uses these rules more as rules of thumb when using Ordinary Least Squares Regression, the most common implementation of linear regression.\n",
    "\n",
    "Try different preparations of your data using these heuristics and see what works best for your problem.\n",
    "\n",
    "- Linear Assumption. Linear regression assumes that the relationship between your input and output is linear. It does not support anything else. This may be obvious, but it is good to remember when you have a lot of attributes. You may need to transform data to make the relationship linear (e.g. log transform for an exponential relationship).\n",
    "- Remove Noise. Linear regression assumes that your input and output variables are not noisy. Consider using data cleaning operations that let you better expose and clarify the signal in your data. This is most important for the output variable and you want to remove outliers in the output variable (y) if possible.\n",
    "Remove Collinearity. Linear regression will over-fit your data when you have highly correlated input variables. Consider calculating pairwise correlations for your input data and removing the most correlated.\n",
    "- Gaussian Distributions. Linear regression will make more reliable predictions if your input and output variables have a Gaussian distribution. You may get some benefit using transforms (e.g. log or BoxCox) on you variables to make their distribution more Gaussian looking.\n",
    "- Rescale Inputs: Linear regression will often make more reliable predictions if you rescale input variables using standardization or normalization."
   ]
  },
  {
   "cell_type": "code",
   "execution_count": 56,
   "metadata": {},
   "outputs": [
    {
     "data": {
      "text/plain": [
       "LinearRegression(copy_X=True, fit_intercept=True, n_jobs=None, normalize=True)"
      ]
     },
     "execution_count": 56,
     "metadata": {},
     "output_type": "execute_result"
    }
   ],
   "source": [
    "from sklearn.linear_model import LinearRegression\n",
    "lr=LinearRegression(normalize=True)\n",
    "lr.fit(x_train,y_train)"
   ]
  },
  {
   "cell_type": "code",
   "execution_count": 57,
   "metadata": {},
   "outputs": [
    {
     "data": {
      "text/plain": [
       "17.700029037747235"
      ]
     },
     "execution_count": 57,
     "metadata": {},
     "output_type": "execute_result"
    }
   ],
   "source": [
    "lr.intercept_"
   ]
  },
  {
   "cell_type": "code",
   "execution_count": 58,
   "metadata": {},
   "outputs": [
    {
     "data": {
      "text/plain": [
       "array([21.67559385, 36.45983069, 34.46422629, 25.5179434 , 29.69351199,\n",
       "       15.13993397, 18.84309747, 24.50958231, 40.06347606])"
      ]
     },
     "execution_count": 58,
     "metadata": {},
     "output_type": "execute_result"
    }
   ],
   "source": [
    "pred=lr.predict(x_test)\n",
    "pred"
   ]
  },
  {
   "cell_type": "code",
   "execution_count": 59,
   "metadata": {},
   "outputs": [
    {
     "data": {
      "text/html": [
       "<div>\n",
       "<style scoped>\n",
       "    .dataframe tbody tr th:only-of-type {\n",
       "        vertical-align: middle;\n",
       "    }\n",
       "\n",
       "    .dataframe tbody tr th {\n",
       "        vertical-align: top;\n",
       "    }\n",
       "\n",
       "    .dataframe thead th {\n",
       "        text-align: right;\n",
       "    }\n",
       "</style>\n",
       "<table border=\"1\" class=\"dataframe\">\n",
       "  <thead>\n",
       "    <tr style=\"text-align: right;\">\n",
       "      <th></th>\n",
       "      <th>Coefficient</th>\n",
       "    </tr>\n",
       "  </thead>\n",
       "  <tbody>\n",
       "    <tr>\n",
       "      <th>OverallCond</th>\n",
       "      <td>-1.470874</td>\n",
       "    </tr>\n",
       "    <tr>\n",
       "      <th>area sqrtft</th>\n",
       "      <td>0.025623</td>\n",
       "    </tr>\n",
       "    <tr>\n",
       "      <th>bhk</th>\n",
       "      <td>-2.200436</td>\n",
       "    </tr>\n",
       "    <tr>\n",
       "      <th>age of building</th>\n",
       "      <td>-0.435506</td>\n",
       "    </tr>\n",
       "    <tr>\n",
       "      <th>arvind marg</th>\n",
       "      <td>7.688245</td>\n",
       "    </tr>\n",
       "    <tr>\n",
       "      <th>bakrol gate</th>\n",
       "      <td>6.177553</td>\n",
       "    </tr>\n",
       "    <tr>\n",
       "      <th>bakrol road</th>\n",
       "      <td>0.113007</td>\n",
       "    </tr>\n",
       "    <tr>\n",
       "      <th>harinagar road</th>\n",
       "      <td>5.010745</td>\n",
       "    </tr>\n",
       "    <tr>\n",
       "      <th>kisan market</th>\n",
       "      <td>5.230979</td>\n",
       "    </tr>\n",
       "    <tr>\n",
       "      <th>nagar palika road</th>\n",
       "      <td>2.029110</td>\n",
       "    </tr>\n",
       "    <tr>\n",
       "      <th>rajender marg</th>\n",
       "      <td>5.649578</td>\n",
       "    </tr>\n",
       "  </tbody>\n",
       "</table>\n",
       "</div>"
      ],
      "text/plain": [
       "                   Coefficient\n",
       "OverallCond          -1.470874\n",
       "area sqrtft           0.025623\n",
       "bhk                  -2.200436\n",
       "age of building      -0.435506\n",
       "arvind marg           7.688245\n",
       "bakrol gate           6.177553\n",
       "bakrol road           0.113007\n",
       "harinagar road        5.010745\n",
       "kisan market          5.230979\n",
       "nagar palika road     2.029110\n",
       "rajender marg         5.649578"
      ]
     },
     "execution_count": 59,
     "metadata": {},
     "output_type": "execute_result"
    }
   ],
   "source": [
    "coeff_df = pd.DataFrame(lr.coef_, x.columns, columns=['Coefficient'])\n",
    "coeff_df"
   ]
  },
  {
   "cell_type": "code",
   "execution_count": 60,
   "metadata": {},
   "outputs": [
    {
     "data": {
      "text/plain": [
       "<matplotlib.collections.PathCollection at 0xf1dd230>"
      ]
     },
     "execution_count": 60,
     "metadata": {},
     "output_type": "execute_result"
    },
    {
     "data": {
      "image/png": "[encoded data removed]",
      "text/plain": [
       "<Figure size 432x288 with 1 Axes>"
      ]
     },
     "metadata": {
      "needs_background": "light"
     },
     "output_type": "display_data"
    }
   ],
   "source": [
    "plt.scatter(y_test, pred)"
   ]
  },
  {
   "cell_type": "markdown",
   "metadata": {},
   "source": [
    "#### Regression Evaluation Metrics"
   ]
  },
  {
   "cell_type": "markdown",
   "metadata": {},
   "source": [
    "\n",
    "Here are three common evaluation metrics for regression problems:\n",
    "\n",
    "Mean Absolute Error (MAE) is the mean of the absolute value of the errors:\n",
    "n\n",
    "∑(1/n)*|yi−y_pred|\n",
    "i=1 \n",
    "Mean Squared Error (MSE) is the mean of the squared errors:\n",
    "\n",
    "n\n",
    "∑(1/n)*(yi−y_pred)^2\n",
    "i=1 \n",
    " \n",
    "Root Mean Squared Error (RMSE) is the square root of the mean of the squared errors:\n",
    "sqrt((1/n)*∑(yi−y_pred)^2)\n",
    " \n",
    "Comparing these metrics:\n",
    "\n",
    "- MAE is the easiest to understand, because it's the average error.\n",
    "- MSE is more popular than MAE, because MSE \"punishes\" larger errors, which tends to be useful in the real world.\n",
    "- RMSE is even more popular than MSE, because RMSE is interpretable in the \"y\" units.\n",
    "- All of these are loss functions, because we want to minimize them.\n",
    "\n"
   ]
  },
  {
   "cell_type": "code",
   "execution_count": 61,
   "metadata": {},
   "outputs": [],
   "source": [
    "from sklearn import metrics\n",
    "from sklearn.model_selection import cross_val_score\n",
    "\n",
    "def cross_val(model):\n",
    "    pred = cross_val_score(model, x, y, cv=10)\n",
    "    return pred.mean()\n",
    "\n",
    "def print_evaluate(true, predicted):  \n",
    "    mae = metrics.mean_absolute_error(true, predicted)\n",
    "    mse = metrics.mean_squared_error(true, predicted)\n",
    "    rmse = np.sqrt(metrics.mean_squared_error(true, predicted))\n",
    "    r2_square = metrics.r2_score(true, predicted)\n",
    "    print('MAE:', mae)\n",
    "    print('MSE:', mse)\n",
    "    print('RMSE:', rmse)\n",
    "    print('R2 Square', r2_square)\n",
    "    \n",
    "def evaluate(true, predicted):\n",
    "    mae = metrics.mean_absolute_error(true, predicted)\n",
    "    mse = metrics.mean_squared_error(true, predicted)\n",
    "    rmse = np.sqrt(metrics.mean_squared_error(true, predicted))\n",
    "    r2_square = metrics.r2_score(true, predicted)\n",
    "    return mae, mse, rmse, r2_square"
   ]
  },
  {
   "cell_type": "code",
   "execution_count": 62,
   "metadata": {},
   "outputs": [
    {
     "name": "stdout",
     "output_type": "stream",
     "text": [
      "Test set evaluation:\n",
      "_____________________________________\n",
      "MAE: 2.7823661697765134\n",
      "MSE: 11.419698882003706\n",
      "RMSE: 3.3793044967868324\n",
      "R2 Square 0.8455766929144741\n",
      "====================================\n",
      "Train set evaluation:\n",
      "_____________________________________\n",
      "MAE: 2.1905025706485444\n",
      "MSE: 7.693746361007907\n",
      "RMSE: 2.7737603286888195\n",
      "R2 Square 0.8974929117316708\n"
     ]
    }
   ],
   "source": [
    "test_pred = lr.predict(x_test)\n",
    "train_pred = lr.predict(x_train)\n",
    "\n",
    "print('Test set evaluation:\\n_____________________________________')\n",
    "print_evaluate(y_test, test_pred)\n",
    "print('====================================')\n",
    "print('Train set evaluation:\\n_____________________________________')\n",
    "print_evaluate(y_train, train_pred)\n"
   ]
  },
  {
   "cell_type": "code",
   "execution_count": 63,
   "metadata": {},
   "outputs": [
    {
     "data": {
      "image/png": "[encoded data removed]",
      "text/plain": [
       "<Figure size 432x288 with 1 Axes>"
      ]
     },
     "metadata": {
      "needs_background": "light"
     },
     "output_type": "display_data"
    }
   ],
   "source": [
    "# Visualizing the differences between actual prices and predicted values\n",
    "plt.scatter(y_test, pred)\n",
    "plt.xlabel(\"Prices\")\n",
    "plt.ylabel(\"Predicted prices\")\n",
    "plt.title(\"Prices vs Predicted prices\")\n",
    "plt.show()"
   ]
  },
  {
   "cell_type": "code",
   "execution_count": 64,
   "metadata": {},
   "outputs": [
    {
     "data": {
      "image/png": "[encoded data removed]",
      "text/plain": [
       "<Figure size 432x288 with 1 Axes>"
      ]
     },
     "metadata": {
      "needs_background": "light"
     },
     "output_type": "display_data"
    }
   ],
   "source": [
    "# Checking residuals\n",
    "plt.scatter(pred,y_test-pred)\n",
    "plt.title(\"Predicted vs residuals\")\n",
    "plt.xlabel(\"Predicted\")\n",
    "plt.ylabel(\"Residuals\")\n",
    "plt.show()"
   ]
  },
  {
   "cell_type": "code",
   "execution_count": 65,
   "metadata": {},
   "outputs": [
    {
     "data": {
      "image/png": "[encoded data removed]",
      "text/plain": [
       "<Figure size 432x288 with 1 Axes>"
      ]
     },
     "metadata": {
      "needs_background": "light"
     },
     "output_type": "display_data"
    }
   ],
   "source": [
    "# Checking Normality of errors\n",
    "sns.distplot(y_test-pred)\n",
    "plt.title(\"Histogram of Residuals\")\n",
    "plt.xlabel(\"Residuals\")\n",
    "plt.ylabel(\"Frequency\")\n",
    "plt.show()\n"
   ]
  },
  {
   "cell_type": "code",
   "execution_count": 66,
   "metadata": {},
   "outputs": [],
   "source": [
    "def predict_price(OverallCond,area,bhk,ageofbuilding,location):    \n",
    "    loc_index = np.where(x.columns==location)[0][0]\n",
    "\n",
    "    X = np.zeros(len(x.columns))\n",
    "    X[0] = OverallCond\n",
    "    X[1] = area\n",
    "    X[2] = bhk\n",
    "    X[3] = ageofbuilding\n",
    "    if loc_index >= 0:\n",
    "        X[loc_index] = 1\n",
    "\n",
    "    return lr.predict([X])[0]"
   ]
  },
  {
   "cell_type": "code",
   "execution_count": 67,
   "metadata": {},
   "outputs": [
    {
     "data": {
      "text/plain": [
       "25.275725726034377"
      ]
     },
     "execution_count": 67,
     "metadata": {},
     "output_type": "execute_result"
    }
   ],
   "source": [
    "predict_price(9,684,2,0,'arvind marg')"
   ]
  },
  {
   "cell_type": "code",
   "execution_count": 68,
   "metadata": {},
   "outputs": [
    {
     "data": {
      "text/plain": [
       "array([25.27572573])"
      ]
     },
     "execution_count": 68,
     "metadata": {},
     "output_type": "execute_result"
    }
   ],
   "source": [
    "lr.predict([[9,684,2,0,1,0,0,0,0,0,0]])"
   ]
  },
  {
   "cell_type": "code",
   "execution_count": 69,
   "metadata": {},
   "outputs": [
    {
     "data": {
      "text/plain": [
       "array([0.79706516, 0.73700929, 0.75786989])"
      ]
     },
     "execution_count": 69,
     "metadata": {},
     "output_type": "execute_result"
    }
   ],
   "source": [
    "from sklearn.model_selection import ShuffleSplit\n",
    "from sklearn.model_selection import cross_val_score\n",
    "\n",
    "cv = ShuffleSplit(n_splits=3, test_size=0.2, random_state=0)\n",
    "\n",
    "score=cross_val_score(LinearRegression(), x, y, cv=cv)\n",
    "score"
   ]
  },
  {
   "cell_type": "code",
   "execution_count": 70,
   "metadata": {},
   "outputs": [
    {
     "data": {
      "text/plain": [
       "0.7639814427096079"
      ]
     },
     "execution_count": 70,
     "metadata": {},
     "output_type": "execute_result"
    }
   ],
   "source": [
    "import numpy as np\n",
    "np.mean(score)"
   ]
  },
  {
   "cell_type": "code",
   "execution_count": 71,
   "metadata": {},
   "outputs": [
    {
     "data": {
      "text/html": [
       "<div>\n",
       "<style scoped>\n",
       "    .dataframe tbody tr th:only-of-type {\n",
       "        vertical-align: middle;\n",
       "    }\n",
       "\n",
       "    .dataframe tbody tr th {\n",
       "        vertical-align: top;\n",
       "    }\n",
       "\n",
       "    .dataframe thead th {\n",
       "        text-align: right;\n",
       "    }\n",
       "</style>\n",
       "<table border=\"1\" class=\"dataframe\">\n",
       "  <thead>\n",
       "    <tr style=\"text-align: right;\">\n",
       "      <th></th>\n",
       "      <th>Model</th>\n",
       "      <th>MAE</th>\n",
       "      <th>MSE</th>\n",
       "      <th>RMSE</th>\n",
       "      <th>R2 Square</th>\n",
       "    </tr>\n",
       "  </thead>\n",
       "  <tbody>\n",
       "    <tr>\n",
       "      <th>0</th>\n",
       "      <td>Linear Regression</td>\n",
       "      <td>2.782366</td>\n",
       "      <td>11.419699</td>\n",
       "      <td>3.379304</td>\n",
       "      <td>0.845577</td>\n",
       "    </tr>\n",
       "  </tbody>\n",
       "</table>\n",
       "</div>"
      ],
      "text/plain": [
       "               Model       MAE        MSE      RMSE  R2 Square\n",
       "0  Linear Regression  2.782366  11.419699  3.379304   0.845577"
      ]
     },
     "execution_count": 71,
     "metadata": {},
     "output_type": "execute_result"
    }
   ],
   "source": [
    "results_df = pd.DataFrame(data=[[\"Linear Regression\", *evaluate(y_test, test_pred)]], \n",
    "                          columns=['Model', 'MAE', 'MSE', 'RMSE', 'R2 Square'])\n",
    "results_df"
   ]
  },
  {
   "cell_type": "markdown",
   "metadata": {},
   "source": [
    "Here our data is working very well with respect to train and test.Train set evaluation:R2 Square 0.8974929117316708\n",
    "and Test set evaluation:R2 Square 0.8455766929144741.we can see that the difference between train R2 test R2 is very low."
   ]
  },
  {
   "cell_type": "markdown",
   "metadata": {},
   "source": [
    "### 2.Support Vector Machine(SVM)"
   ]
  },
  {
   "cell_type": "code",
   "execution_count": 72,
   "metadata": {},
   "outputs": [
    {
     "data": {
      "text/plain": [
       "SVR(C=1.0, cache_size=200, coef0=0.0, degree=2, epsilon=0.1, gamma='scale',\n",
       "    kernel='linear', max_iter=-1, shrinking=True, tol=0.001, verbose=False)"
      ]
     },
     "execution_count": 72,
     "metadata": {},
     "output_type": "execute_result"
    }
   ],
   "source": [
    "\n",
    "from sklearn.svm import SVR\n",
    "svr=SVR(degree=2,kernel='linear')\n",
    "svr.fit(x_train,y_train)"
   ]
  },
  {
   "cell_type": "code",
   "execution_count": 73,
   "metadata": {},
   "outputs": [
    {
     "data": {
      "text/plain": [
       "array([1.27940149])"
      ]
     },
     "execution_count": 73,
     "metadata": {},
     "output_type": "execute_result"
    }
   ],
   "source": [
    "svr.intercept_"
   ]
  },
  {
   "cell_type": "code",
   "execution_count": 74,
   "metadata": {},
   "outputs": [
    {
     "data": {
      "text/plain": [
       "array([[ 0.76436511,  0.02571232, -1.26954867, -0.31590877,  2.        ,\n",
       "         0.06212269, -1.00333261, -0.47679245,  1.        , -0.67151506,\n",
       "         0.08951744]])"
      ]
     },
     "execution_count": 74,
     "metadata": {},
     "output_type": "execute_result"
    }
   ],
   "source": [
    "svr.coef_"
   ]
  },
  {
   "cell_type": "code",
   "execution_count": 75,
   "metadata": {},
   "outputs": [
    {
     "data": {
      "text/plain": [
       "array([20.74857558, 41.20643647, 33.91473291, 26.19073795, 27.76297435,\n",
       "       15.1063708 , 24.58792457, 25.90383334, 41.10574302])"
      ]
     },
     "execution_count": 75,
     "metadata": {},
     "output_type": "execute_result"
    }
   ],
   "source": [
    "pred=svr.predict(x_test)\n",
    "pred"
   ]
  },
  {
   "cell_type": "code",
   "execution_count": 76,
   "metadata": {},
   "outputs": [
    {
     "name": "stdout",
     "output_type": "stream",
     "text": [
      "Test set evaluation:\n",
      "_____________________________________\n",
      "MAE: 2.871226138883465\n",
      "MSE: 12.949228150819616\n",
      "RMSE: 3.5985035988337732\n",
      "R2 Square 0.8248935759238082\n",
      "====================================\n",
      "Train set evaluation:\n",
      "_____________________________________\n",
      "MAE: 2.224788885448431\n",
      "MSE: 11.456404659795092\n",
      "RMSE: 3.38473110598096\n",
      "R2 Square 0.8473613986482564\n"
     ]
    }
   ],
   "source": [
    "test_pred = svr.predict(x_test)\n",
    "train_pred = svr.predict(x_train)\n",
    "\n",
    "print('Test set evaluation:\\n_____________________________________')\n",
    "print_evaluate(y_test, test_pred)\n",
    "print('====================================')\n",
    "print('Train set evaluation:\\n_____________________________________')\n",
    "print_evaluate(y_train, train_pred)"
   ]
  },
  {
   "cell_type": "code",
   "execution_count": 77,
   "metadata": {},
   "outputs": [
    {
     "data": {
      "image/png": "[encoded data removed]",
      "text/plain": [
       "<Figure size 432x288 with 1 Axes>"
      ]
     },
     "metadata": {
      "needs_background": "light"
     },
     "output_type": "display_data"
    }
   ],
   "source": [
    "# Visualizing the differences between actual prices and predicted values\n",
    "plt.scatter(y_test, pred)\n",
    "plt.xlabel(\"Prices\")\n",
    "plt.ylabel(\"Predicted prices\")\n",
    "plt.title(\"Prices vs Predicted prices\")\n",
    "plt.show()"
   ]
  },
  {
   "cell_type": "code",
   "execution_count": 78,
   "metadata": {},
   "outputs": [
    {
     "data": {
      "image/png": "[encoded data removed]",
      "text/plain": [
       "<Figure size 432x288 with 1 Axes>"
      ]
     },
     "metadata": {
      "needs_background": "light"
     },
     "output_type": "display_data"
    }
   ],
   "source": [
    "# Checking residuals\n",
    "plt.scatter(pred,y_test-pred)\n",
    "plt.title(\"Predicted vs residuals\")\n",
    "plt.xlabel(\"Predicted\")\n",
    "plt.ylabel(\"Residuals\")\n",
    "plt.show()"
   ]
  },
  {
   "cell_type": "code",
   "execution_count": 79,
   "metadata": {},
   "outputs": [
    {
     "data": {
      "image/png": "[encoded data removed]",
      "text/plain": [
       "<Figure size 432x288 with 1 Axes>"
      ]
     },
     "metadata": {
      "needs_background": "light"
     },
     "output_type": "display_data"
    }
   ],
   "source": [
    "# Checking Normality of errors\n",
    "sns.distplot(y_test-pred)\n",
    "plt.title(\"Histogram of Residuals\")\n",
    "plt.xlabel(\"Residuals\")\n",
    "plt.ylabel(\"Frequency\")\n",
    "plt.show()\n"
   ]
  },
  {
   "cell_type": "code",
   "execution_count": 80,
   "metadata": {},
   "outputs": [],
   "source": [
    "def predict_price(OverallCond,area,bhk,ageofbuilding,location):    \n",
    "    loc_index = np.where(x.columns==location)[0][0]\n",
    "\n",
    "    X = np.zeros(len(x.columns))\n",
    "    X[0] = OverallCond\n",
    "    X[1] = area\n",
    "    X[2] = bhk\n",
    "    X[3] = ageofbuilding\n",
    "    if loc_index >= 0:\n",
    "        X[loc_index] = 1\n",
    "\n",
    "    return svr.predict([X])[0]"
   ]
  },
  {
   "cell_type": "code",
   "execution_count": 81,
   "metadata": {},
   "outputs": [
    {
     "data": {
      "text/plain": [
       "25.206819933320983"
      ]
     },
     "execution_count": 81,
     "metadata": {},
     "output_type": "execute_result"
    }
   ],
   "source": [
    "predict_price(9,684,2,0,'arvind marg')"
   ]
  },
  {
   "cell_type": "code",
   "execution_count": 82,
   "metadata": {},
   "outputs": [
    {
     "data": {
      "text/html": [
       "<div>\n",
       "<style scoped>\n",
       "    .dataframe tbody tr th:only-of-type {\n",
       "        vertical-align: middle;\n",
       "    }\n",
       "\n",
       "    .dataframe tbody tr th {\n",
       "        vertical-align: top;\n",
       "    }\n",
       "\n",
       "    .dataframe thead th {\n",
       "        text-align: right;\n",
       "    }\n",
       "</style>\n",
       "<table border=\"1\" class=\"dataframe\">\n",
       "  <thead>\n",
       "    <tr style=\"text-align: right;\">\n",
       "      <th></th>\n",
       "      <th>Model</th>\n",
       "      <th>MAE</th>\n",
       "      <th>MSE</th>\n",
       "      <th>RMSE</th>\n",
       "      <th>R2 Square</th>\n",
       "    </tr>\n",
       "  </thead>\n",
       "  <tbody>\n",
       "    <tr>\n",
       "      <th>0</th>\n",
       "      <td>Linear Regression</td>\n",
       "      <td>2.782366</td>\n",
       "      <td>11.419699</td>\n",
       "      <td>3.379304</td>\n",
       "      <td>0.845577</td>\n",
       "    </tr>\n",
       "    <tr>\n",
       "      <th>1</th>\n",
       "      <td>Support Vector Machine</td>\n",
       "      <td>2.871226</td>\n",
       "      <td>12.949228</td>\n",
       "      <td>3.598504</td>\n",
       "      <td>0.824894</td>\n",
       "    </tr>\n",
       "  </tbody>\n",
       "</table>\n",
       "</div>"
      ],
      "text/plain": [
       "                    Model       MAE        MSE      RMSE  R2 Square\n",
       "0       Linear Regression  2.782366  11.419699  3.379304   0.845577\n",
       "1  Support Vector Machine  2.871226  12.949228  3.598504   0.824894"
      ]
     },
     "execution_count": 82,
     "metadata": {},
     "output_type": "execute_result"
    }
   ],
   "source": [
    "results_df_2 = pd.DataFrame(data=[[\"Support Vector Machine\", *evaluate(y_test, test_pred) ]], \n",
    "                            columns=['Model', 'MAE', 'MSE', 'RMSE', 'R2 Square'])\n",
    "results_df = results_df.append(results_df_2, ignore_index=True)\n",
    "results_df"
   ]
  },
  {
   "cell_type": "markdown",
   "metadata": {},
   "source": [
    "### Hyperparameter tunning "
   ]
  },
  {
   "cell_type": "code",
   "execution_count": 83,
   "metadata": {},
   "outputs": [
    {
     "data": {
      "text/html": [
       "<div>\n",
       "<style scoped>\n",
       "    .dataframe tbody tr th:only-of-type {\n",
       "        vertical-align: middle;\n",
       "    }\n",
       "\n",
       "    .dataframe tbody tr th {\n",
       "        vertical-align: top;\n",
       "    }\n",
       "\n",
       "    .dataframe thead th {\n",
       "        text-align: right;\n",
       "    }\n",
       "</style>\n",
       "<table border=\"1\" class=\"dataframe\">\n",
       "  <thead>\n",
       "    <tr style=\"text-align: right;\">\n",
       "      <th></th>\n",
       "      <th>model</th>\n",
       "      <th>best_score</th>\n",
       "      <th>best_params</th>\n",
       "    </tr>\n",
       "  </thead>\n",
       "  <tbody>\n",
       "    <tr>\n",
       "      <th>0</th>\n",
       "      <td>linear_regression</td>\n",
       "      <td>0.763902</td>\n",
       "      <td>{'normalize': True}</td>\n",
       "    </tr>\n",
       "    <tr>\n",
       "      <th>1</th>\n",
       "      <td>lasso</td>\n",
       "      <td>0.736687</td>\n",
       "      <td>{'alpha': 1, 'selection': 'cyclic'}</td>\n",
       "    </tr>\n",
       "    <tr>\n",
       "      <th>2</th>\n",
       "      <td>decision_tree</td>\n",
       "      <td>0.684342</td>\n",
       "      <td>{'criterion': 'mse', 'splitter': 'best'}</td>\n",
       "    </tr>\n",
       "  </tbody>\n",
       "</table>\n",
       "</div>"
      ],
      "text/plain": [
       "               model  best_score                               best_params\n",
       "0  linear_regression    0.763902                       {'normalize': True}\n",
       "1              lasso    0.736687       {'alpha': 1, 'selection': 'cyclic'}\n",
       "2      decision_tree    0.684342  {'criterion': 'mse', 'splitter': 'best'}"
      ]
     },
     "execution_count": 83,
     "metadata": {},
     "output_type": "execute_result"
    }
   ],
   "source": [
    "from sklearn.model_selection import GridSearchCV\n",
    "\n",
    "from sklearn.linear_model import Lasso\n",
    "from sklearn.tree import DecisionTreeRegressor\n",
    "\n",
    "def find_best_model_using_gridsearchcv(x,y):\n",
    "    algos = {\n",
    "        'linear_regression' : {\n",
    "            'model': LinearRegression(),\n",
    "            'params': {\n",
    "                'normalize': [True, False]\n",
    "            }\n",
    "        },\n",
    "        'lasso': {\n",
    "            'model': Lasso(),\n",
    "            'params': {\n",
    "                'alpha': [1,2],\n",
    "                'selection': ['random', 'cyclic']\n",
    "            }\n",
    "        },\n",
    "        'decision_tree': {\n",
    "            'model': DecisionTreeRegressor(),\n",
    "            'params': {\n",
    "                'criterion' : ['mse','friedman_mse'],\n",
    "                'splitter': ['best','random']\n",
    "                   }\n",
    "        }\n",
    "    }\n",
    "    scores = []\n",
    "    cv = ShuffleSplit(n_splits=5, test_size=0.2, random_state=0)\n",
    "    for algo_name, config in algos.items():\n",
    "        gs =  GridSearchCV(config['model'], config['params'], cv=cv, return_train_score=False)\n",
    "        gs.fit(x,y)\n",
    "        scores.append({\n",
    "            'model': algo_name,\n",
    "            'best_score': gs.best_score_,\n",
    "            'best_params': gs.best_params_\n",
    "        })\n",
    "\n",
    "    return pd.DataFrame(scores,columns=['model','best_score','best_params'])\n",
    "\n",
    "find_best_model_using_gridsearchcv(x,y)\n",
    " \n"
   ]
  },
  {
   "cell_type": "markdown",
   "metadata": {},
   "source": [
    "### 3.Lasso"
   ]
  },
  {
   "cell_type": "markdown",
   "metadata": {},
   "source": [
    "Ridge regression addresses some of the problems of Ordinary Least Squares by imposing a penalty on the size of coefficients.The lasso coefficients minimize a penalized residual sum of squares.\n",
    "A linear model that estimates sparse coefficients.\n",
    "\n",
    "Mathematically, it consists of a linear model trained with  ℓ1  prior as regularizer. The objective function to minimize is:\n",
    "\n",
    "min∑(yi-y_pred )^2+λ|m|\n",
    "\n",
    " \n"
   ]
  },
  {
   "cell_type": "code",
   "execution_count": 84,
   "metadata": {},
   "outputs": [
    {
     "data": {
      "text/plain": [
       "Lasso(alpha=2.0, copy_X=True, fit_intercept=True, max_iter=1000,\n",
       "      normalize=False, positive=False, precompute=False, random_state=2,\n",
       "      selection='cyclic', tol=0.0001, warm_start=False)"
      ]
     },
     "execution_count": 84,
     "metadata": {},
     "output_type": "execute_result"
    }
   ],
   "source": [
    "\n",
    "from sklearn.linear_model import Lasso\n",
    "lr_lasso=Lasso(random_state=2,alpha=2.0,selection='cyclic')\n",
    "lr_lasso.fit(x_train,y_train)\n"
   ]
  },
  {
   "cell_type": "code",
   "execution_count": 85,
   "metadata": {},
   "outputs": [
    {
     "data": {
      "text/plain": [
       "7.736090221484883"
      ]
     },
     "execution_count": 85,
     "metadata": {},
     "output_type": "execute_result"
    }
   ],
   "source": [
    "lr_lasso.intercept_"
   ]
  },
  {
   "cell_type": "code",
   "execution_count": 86,
   "metadata": {},
   "outputs": [
    {
     "data": {
      "text/plain": [
       "array([19.8920971 , 40.33334922, 33.09928201, 25.10017864, 25.70056007,\n",
       "       15.96040624, 24.22983905, 24.6200777 , 38.05219679])"
      ]
     },
     "execution_count": 86,
     "metadata": {},
     "output_type": "execute_result"
    }
   ],
   "source": [
    "pred=lr_lasso.predict(x_test)\n",
    "pred"
   ]
  },
  {
   "cell_type": "code",
   "execution_count": 87,
   "metadata": {},
   "outputs": [
    {
     "name": "stdout",
     "output_type": "stream",
     "text": [
      "Test set evaluation:\n",
      "_____________________________________\n",
      "MAE: 2.9620984837717574\n",
      "MSE: 12.856576831523316\n",
      "RMSE: 3.5856068986328267\n",
      "R2 Square 0.8261464568692173\n",
      "====================================\n",
      "Train set evaluation:\n",
      "_____________________________________\n",
      "MAE: 2.7260527683671927\n",
      "MSE: 13.339179370939574\n",
      "RMSE: 3.652284130642025\n",
      "R2 Square 0.8222763822662787\n"
     ]
    }
   ],
   "source": [
    "test_pred = lr_lasso.predict(x_test)\n",
    "train_pred = lr_lasso.predict(x_train)\n",
    "\n",
    "print('Test set evaluation:\\n_____________________________________')\n",
    "print_evaluate(y_test, test_pred)\n",
    "print('====================================')\n",
    "print('Train set evaluation:\\n_____________________________________')\n",
    "print_evaluate(y_train, train_pred)"
   ]
  },
  {
   "cell_type": "code",
   "execution_count": 88,
   "metadata": {},
   "outputs": [
    {
     "data": {
      "image/png": "[encoded data removed]",
      "text/plain": [
       "<Figure size 432x288 with 1 Axes>"
      ]
     },
     "metadata": {
      "needs_background": "light"
     },
     "output_type": "display_data"
    }
   ],
   "source": [
    "# Visualizing the differences between actual prices and predicted values\n",
    "plt.scatter(y_test, pred)\n",
    "plt.xlabel(\"Prices\")\n",
    "plt.ylabel(\"Predicted prices\")\n",
    "plt.title(\"Prices vs Predicted prices\")\n",
    "plt.show()"
   ]
  },
  {
   "cell_type": "code",
   "execution_count": 89,
   "metadata": {},
   "outputs": [
    {
     "data": {
      "image/png": "[encoded data removed]",
      "text/plain": [
       "<Figure size 432x288 with 1 Axes>"
      ]
     },
     "metadata": {
      "needs_background": "light"
     },
     "output_type": "display_data"
    }
   ],
   "source": [
    "# Checking residuals\n",
    "plt.scatter(pred,y_test-pred)\n",
    "plt.title(\"Predicted vs residuals\")\n",
    "plt.xlabel(\"Predicted\")\n",
    "plt.ylabel(\"Residuals\")\n",
    "plt.show()"
   ]
  },
  {
   "cell_type": "code",
   "execution_count": 90,
   "metadata": {},
   "outputs": [
    {
     "data": {
      "image/png": "[encoded data removed]",
      "text/plain": [
       "<Figure size 432x288 with 1 Axes>"
      ]
     },
     "metadata": {
      "needs_background": "light"
     },
     "output_type": "display_data"
    }
   ],
   "source": [
    "# Checking Normality of errors\n",
    "sns.distplot(y_test-pred)\n",
    "plt.title(\"Histogram of Residuals\")\n",
    "plt.xlabel(\"Residuals\")\n",
    "plt.ylabel(\"Frequency\")\n",
    "plt.show()"
   ]
  },
  {
   "cell_type": "code",
   "execution_count": 91,
   "metadata": {},
   "outputs": [],
   "source": [
    "def predict_price(OverallCond,area,bhk,ageofbuilding,location):    \n",
    "    loc_index = np.where(x.columns==location)[0][0]\n",
    "\n",
    "    X = np.zeros(len(x.columns))\n",
    "    X[0] = OverallCond\n",
    "    X[1] = area\n",
    "    X[2] = bhk\n",
    "    X[3] = ageofbuilding\n",
    "    if loc_index >= 0:\n",
    "        X[loc_index] = 1\n",
    "\n",
    "    return lr_lasso.predict([X])[0]"
   ]
  },
  {
   "cell_type": "code",
   "execution_count": 92,
   "metadata": {},
   "outputs": [
    {
     "data": {
      "text/plain": [
       "23.13428679804992"
      ]
     },
     "execution_count": 92,
     "metadata": {},
     "output_type": "execute_result"
    }
   ],
   "source": [
    "predict_price(9,684,2,0,'arvind marg')"
   ]
  },
  {
   "cell_type": "code",
   "execution_count": 93,
   "metadata": {},
   "outputs": [
    {
     "data": {
      "text/html": [
       "<div>\n",
       "<style scoped>\n",
       "    .dataframe tbody tr th:only-of-type {\n",
       "        vertical-align: middle;\n",
       "    }\n",
       "\n",
       "    .dataframe tbody tr th {\n",
       "        vertical-align: top;\n",
       "    }\n",
       "\n",
       "    .dataframe thead th {\n",
       "        text-align: right;\n",
       "    }\n",
       "</style>\n",
       "<table border=\"1\" class=\"dataframe\">\n",
       "  <thead>\n",
       "    <tr style=\"text-align: right;\">\n",
       "      <th></th>\n",
       "      <th>Model</th>\n",
       "      <th>MAE</th>\n",
       "      <th>MSE</th>\n",
       "      <th>RMSE</th>\n",
       "      <th>R2 Square</th>\n",
       "    </tr>\n",
       "  </thead>\n",
       "  <tbody>\n",
       "    <tr>\n",
       "      <th>0</th>\n",
       "      <td>Linear Regression</td>\n",
       "      <td>2.782366</td>\n",
       "      <td>11.419699</td>\n",
       "      <td>3.379304</td>\n",
       "      <td>0.845577</td>\n",
       "    </tr>\n",
       "    <tr>\n",
       "      <th>1</th>\n",
       "      <td>Support Vector Machine</td>\n",
       "      <td>2.871226</td>\n",
       "      <td>12.949228</td>\n",
       "      <td>3.598504</td>\n",
       "      <td>0.824894</td>\n",
       "    </tr>\n",
       "    <tr>\n",
       "      <th>2</th>\n",
       "      <td>Lasso</td>\n",
       "      <td>2.962098</td>\n",
       "      <td>12.856577</td>\n",
       "      <td>3.585607</td>\n",
       "      <td>0.826146</td>\n",
       "    </tr>\n",
       "  </tbody>\n",
       "</table>\n",
       "</div>"
      ],
      "text/plain": [
       "                    Model       MAE        MSE      RMSE  R2 Square\n",
       "0       Linear Regression  2.782366  11.419699  3.379304   0.845577\n",
       "1  Support Vector Machine  2.871226  12.949228  3.598504   0.824894\n",
       "2                   Lasso  2.962098  12.856577  3.585607   0.826146"
      ]
     },
     "execution_count": 93,
     "metadata": {},
     "output_type": "execute_result"
    }
   ],
   "source": [
    "results_df_2 = pd.DataFrame(data=[[\"Lasso\", *evaluate(y_test, test_pred) ]], \n",
    "                            columns=['Model', 'MAE', 'MSE', 'RMSE', 'R2 Square',])\n",
    "results_df = results_df.append(results_df_2, ignore_index=True)\n",
    "results_df\n"
   ]
  },
  {
   "cell_type": "markdown",
   "metadata": {},
   "source": [
    "### 4.Ridge Regression"
   ]
  },
  {
   "cell_type": "markdown",
   "metadata": {},
   "source": [
    "Ridge regression addresses some of the problems of Ordinary Least Squares by imposing a penalty on the size of coefficients. The ridge coefficients minimize a penalized residual sum of squares,\n",
    "\n",
    "min∑(yi-y_pred )^2+λ[mi^2]   where i=1,2,....,n and mi is the slope."
   ]
  },
  {
   "cell_type": "code",
   "execution_count": 94,
   "metadata": {},
   "outputs": [
    {
     "name": "stdout",
     "output_type": "stream",
     "text": [
      "Test set evaluation:\n",
      "_____________________________________\n",
      "MAE: 2.9142324745969574\n",
      "MSE: 12.698143679144913\n",
      "RMSE: 3.5634454786266776\n",
      "R2 Square 0.8282888751234161\n",
      "====================================\n",
      "Train set evaluation:\n",
      "_____________________________________\n",
      "MAE: 2.6631028257770346\n",
      "MSE: 12.934488096302742\n",
      "RMSE: 3.5964549345574652\n",
      "R2 Square 0.8276682579876907\n"
     ]
    }
   ],
   "source": [
    "from sklearn.linear_model import Ridge\n",
    "model = Ridge(alpha=100, solver='cholesky', tol=0.0001, random_state=42)\n",
    "model.fit(x_train, y_train)\n",
    "\n",
    "pred = model.predict(x_test)\n",
    "\n",
    "test_pred = model.predict(x_test)\n",
    "train_pred = model.predict(x_train)\n",
    "\n",
    "print('Test set evaluation:\\n_____________________________________')\n",
    "print_evaluate(y_test, test_pred)\n",
    "print('====================================')\n",
    "print('Train set evaluation:\\n_____________________________________')\n",
    "print_evaluate(y_train, train_pred)"
   ]
  },
  {
   "cell_type": "code",
   "execution_count": 95,
   "metadata": {},
   "outputs": [
    {
     "data": {
      "image/png": "[encoded data removed]",
      "text/plain": [
       "<Figure size 432x288 with 1 Axes>"
      ]
     },
     "metadata": {
      "needs_background": "light"
     },
     "output_type": "display_data"
    }
   ],
   "source": [
    "# Visualizing the differences between actual prices and predicted values\n",
    "plt.scatter(y_test, pred)\n",
    "plt.xlabel(\"Prices\")\n",
    "plt.ylabel(\"Predicted prices\")\n",
    "plt.title(\"Prices vs Predicted prices\")\n",
    "plt.show()"
   ]
  },
  {
   "cell_type": "code",
   "execution_count": 96,
   "metadata": {},
   "outputs": [
    {
     "data": {
      "image/png": "[encoded data removed]",
      "text/plain": [
       "<Figure size 432x288 with 1 Axes>"
      ]
     },
     "metadata": {
      "needs_background": "light"
     },
     "output_type": "display_data"
    }
   ],
   "source": [
    "# Checking residuals\n",
    "plt.scatter(pred,y_test-pred)\n",
    "plt.title(\"Predicted vs residuals\")\n",
    "plt.xlabel(\"Predicted\")\n",
    "plt.ylabel(\"Residuals\")\n",
    "plt.show()"
   ]
  },
  {
   "cell_type": "code",
   "execution_count": 97,
   "metadata": {},
   "outputs": [
    {
     "data": {
      "image/png": "[encoded data removed]",
      "text/plain": [
       "<Figure size 432x288 with 1 Axes>"
      ]
     },
     "metadata": {
      "needs_background": "light"
     },
     "output_type": "display_data"
    }
   ],
   "source": [
    "# Checking Normality of errors\n",
    "sns.distplot(y_test-pred)\n",
    "plt.title(\"Histogram of Residuals\")\n",
    "plt.xlabel(\"Residuals\")\n",
    "plt.ylabel(\"Frequency\")\n",
    "plt.show()"
   ]
  },
  {
   "cell_type": "code",
   "execution_count": 98,
   "metadata": {},
   "outputs": [
    {
     "data": {
      "text/html": [
       "<div>\n",
       "<style scoped>\n",
       "    .dataframe tbody tr th:only-of-type {\n",
       "        vertical-align: middle;\n",
       "    }\n",
       "\n",
       "    .dataframe tbody tr th {\n",
       "        vertical-align: top;\n",
       "    }\n",
       "\n",
       "    .dataframe thead th {\n",
       "        text-align: right;\n",
       "    }\n",
       "</style>\n",
       "<table border=\"1\" class=\"dataframe\">\n",
       "  <thead>\n",
       "    <tr style=\"text-align: right;\">\n",
       "      <th></th>\n",
       "      <th>Model</th>\n",
       "      <th>MAE</th>\n",
       "      <th>MSE</th>\n",
       "      <th>RMSE</th>\n",
       "      <th>R2 Square</th>\n",
       "    </tr>\n",
       "  </thead>\n",
       "  <tbody>\n",
       "    <tr>\n",
       "      <th>0</th>\n",
       "      <td>Linear Regression</td>\n",
       "      <td>2.782366</td>\n",
       "      <td>11.419699</td>\n",
       "      <td>3.379304</td>\n",
       "      <td>0.845577</td>\n",
       "    </tr>\n",
       "    <tr>\n",
       "      <th>1</th>\n",
       "      <td>Support Vector Machine</td>\n",
       "      <td>2.871226</td>\n",
       "      <td>12.949228</td>\n",
       "      <td>3.598504</td>\n",
       "      <td>0.824894</td>\n",
       "    </tr>\n",
       "    <tr>\n",
       "      <th>2</th>\n",
       "      <td>Lasso</td>\n",
       "      <td>2.962098</td>\n",
       "      <td>12.856577</td>\n",
       "      <td>3.585607</td>\n",
       "      <td>0.826146</td>\n",
       "    </tr>\n",
       "    <tr>\n",
       "      <th>3</th>\n",
       "      <td>Ridge Regression</td>\n",
       "      <td>2.914232</td>\n",
       "      <td>12.698144</td>\n",
       "      <td>3.563445</td>\n",
       "      <td>0.828289</td>\n",
       "    </tr>\n",
       "  </tbody>\n",
       "</table>\n",
       "</div>"
      ],
      "text/plain": [
       "                    Model       MAE        MSE      RMSE  R2 Square\n",
       "0       Linear Regression  2.782366  11.419699  3.379304   0.845577\n",
       "1  Support Vector Machine  2.871226  12.949228  3.598504   0.824894\n",
       "2                   Lasso  2.962098  12.856577  3.585607   0.826146\n",
       "3        Ridge Regression  2.914232  12.698144  3.563445   0.828289"
      ]
     },
     "execution_count": 98,
     "metadata": {},
     "output_type": "execute_result"
    }
   ],
   "source": [
    "results_df_2 = pd.DataFrame(data=[[\"Ridge Regression\", *evaluate(y_test, test_pred) ]], \n",
    "                            columns=['Model', 'MAE', 'MSE', 'RMSE', 'R2 Square'])\n",
    "results_df = results_df.append(results_df_2, ignore_index=True)\n",
    "results_df"
   ]
  },
  {
   "cell_type": "markdown",
   "metadata": {},
   "source": [
    "## Ensemble Learning"
   ]
  },
  {
   "cell_type": "markdown",
   "metadata": {},
   "source": [
    "### 5. Bagging"
   ]
  },
  {
   "cell_type": "code",
   "execution_count": 99,
   "metadata": {},
   "outputs": [],
   "source": [
    "from sklearn.ensemble import BaggingRegressor\n",
    "from sklearn import tree"
   ]
  },
  {
   "cell_type": "code",
   "execution_count": 100,
   "metadata": {},
   "outputs": [],
   "source": [
    "bg=BaggingRegressor(tree.DecisionTreeRegressor(random_state=20))"
   ]
  },
  {
   "cell_type": "code",
   "execution_count": 101,
   "metadata": {},
   "outputs": [
    {
     "data": {
      "text/plain": [
       "BaggingRegressor(base_estimator=DecisionTreeRegressor(ccp_alpha=0.0,\n",
       "                                                      criterion='mse',\n",
       "                                                      max_depth=None,\n",
       "                                                      max_features=None,\n",
       "                                                      max_leaf_nodes=None,\n",
       "                                                      min_impurity_decrease=0.0,\n",
       "                                                      min_impurity_split=None,\n",
       "                                                      min_samples_leaf=1,\n",
       "                                                      min_samples_split=2,\n",
       "                                                      min_weight_fraction_leaf=0.0,\n",
       "                                                      presort='deprecated',\n",
       "                                                      random_state=20,\n",
       "                                                      splitter='best'),\n",
       "                 bootstrap=True, bootstrap_features=False, max_features=1.0,\n",
       "                 max_samples=1.0, n_estimators=10, n_jobs=None, oob_score=False,\n",
       "                 random_state=None, verbose=0, warm_start=False)"
      ]
     },
     "execution_count": 101,
     "metadata": {},
     "output_type": "execute_result"
    }
   ],
   "source": [
    "bg.fit(x_train,y_train)"
   ]
  },
  {
   "cell_type": "code",
   "execution_count": 102,
   "metadata": {},
   "outputs": [
    {
     "data": {
      "text/plain": [
       "array([21.178, 37.2  , 30.5  , 29.35 , 28.352, 13.85 , 24.456, 24.405,\n",
       "       42.   ])"
      ]
     },
     "execution_count": 102,
     "metadata": {},
     "output_type": "execute_result"
    }
   ],
   "source": [
    "pred=bg.predict(x_test)\n",
    "pred"
   ]
  },
  {
   "cell_type": "code",
   "execution_count": 103,
   "metadata": {},
   "outputs": [
    {
     "name": "stdout",
     "output_type": "stream",
     "text": [
      "Test set evaluation:\n",
      "_____________________________________\n",
      "MAE: 2.747222222222222\n",
      "MSE: 11.229172111111106\n",
      "RMSE: 3.3509956895094786\n",
      "R2 Square 0.848153098330551\n",
      "====================================\n",
      "Train set evaluation:\n",
      "_____________________________________\n",
      "MAE: 1.4286\n",
      "MSE: 3.5975016857142865\n",
      "RMSE: 1.8967081182180578\n",
      "R2 Square 0.9520689394295724\n"
     ]
    }
   ],
   "source": [
    "test_pred = bg.predict(x_test)\n",
    "train_pred = bg.predict(x_train)\n",
    "\n",
    "print('Test set evaluation:\\n_____________________________________')\n",
    "print_evaluate(y_test, test_pred)\n",
    "print('====================================')\n",
    "print('Train set evaluation:\\n_____________________________________')\n",
    "print_evaluate(y_train, train_pred)"
   ]
  },
  {
   "cell_type": "code",
   "execution_count": 104,
   "metadata": {},
   "outputs": [
    {
     "data": {
      "image/png": "[encoded data removed]",
      "text/plain": [
       "<Figure size 432x288 with 1 Axes>"
      ]
     },
     "metadata": {
      "needs_background": "light"
     },
     "output_type": "display_data"
    }
   ],
   "source": [
    "# Visualizing the differences between actual prices and predicted values\n",
    "plt.scatter(y_test, pred)\n",
    "plt.xlabel(\"Prices\")\n",
    "plt.ylabel(\"Predicted prices\")\n",
    "plt.title(\"Prices vs Predicted prices\")\n",
    "plt.show()"
   ]
  },
  {
   "cell_type": "code",
   "execution_count": 105,
   "metadata": {},
   "outputs": [
    {
     "data": {
      "image/png": "[encoded data removed]",
      "text/plain": [
       "<Figure size 432x288 with 1 Axes>"
      ]
     },
     "metadata": {
      "needs_background": "light"
     },
     "output_type": "display_data"
    }
   ],
   "source": [
    "# Checking residuals\n",
    "plt.scatter(pred,y_test-pred)\n",
    "plt.title(\"Predicted vs residuals\")\n",
    "plt.xlabel(\"Predicted\")\n",
    "plt.ylabel(\"Residuals\")\n",
    "plt.show()"
   ]
  },
  {
   "cell_type": "code",
   "execution_count": 106,
   "metadata": {},
   "outputs": [
    {
     "data": {
      "image/png": "[encoded data removed]",
      "text/plain": [
       "<Figure size 432x288 with 1 Axes>"
      ]
     },
     "metadata": {
      "needs_background": "light"
     },
     "output_type": "display_data"
    }
   ],
   "source": [
    "# Checking Normality of errors\n",
    "sns.distplot(y_test-pred)\n",
    "plt.title(\"Histogram of Residuals\")\n",
    "plt.xlabel(\"Residuals\")\n",
    "plt.ylabel(\"Frequency\")\n",
    "plt.show()"
   ]
  },
  {
   "cell_type": "code",
   "execution_count": 107,
   "metadata": {},
   "outputs": [],
   "source": [
    "def predict_price(OverallCond,area,bhk,ageofbuilding,location):    \n",
    "    loc_index = np.where(x.columns==location)[0][0]\n",
    "\n",
    "    X = np.zeros(len(x.columns))\n",
    "    X[0] = OverallCond\n",
    "    X[1] = area\n",
    "    X[2] = bhk\n",
    "    X[3] = ageofbuilding\n",
    "    if loc_index >= 0:\n",
    "        X[loc_index] = 1\n",
    "\n",
    "    return bg.predict([X])[0]"
   ]
  },
  {
   "cell_type": "code",
   "execution_count": 108,
   "metadata": {},
   "outputs": [
    {
     "data": {
      "text/plain": [
       "23.55"
      ]
     },
     "execution_count": 108,
     "metadata": {},
     "output_type": "execute_result"
    }
   ],
   "source": [
    "predict_price(9,684,2,0,'arvind marg')"
   ]
  },
  {
   "cell_type": "code",
   "execution_count": 109,
   "metadata": {},
   "outputs": [
    {
     "data": {
      "text/plain": [
       "array([0.7649708 , 0.81388056, 0.76718494])"
      ]
     },
     "execution_count": 109,
     "metadata": {},
     "output_type": "execute_result"
    }
   ],
   "source": [
    "#  lets try =model is not overfit \n",
    "from sklearn.model_selection import ShuffleSplit\n",
    "from sklearn.model_selection import cross_val_score\n",
    "\n",
    "cv = ShuffleSplit(n_splits=3, test_size=0.2, random_state=0)\n",
    "\n",
    "cross_val_score(bg, x, y, cv=cv)"
   ]
  },
  {
   "cell_type": "code",
   "execution_count": 110,
   "metadata": {},
   "outputs": [
    {
     "data": {
      "text/html": [
       "<div>\n",
       "<style scoped>\n",
       "    .dataframe tbody tr th:only-of-type {\n",
       "        vertical-align: middle;\n",
       "    }\n",
       "\n",
       "    .dataframe tbody tr th {\n",
       "        vertical-align: top;\n",
       "    }\n",
       "\n",
       "    .dataframe thead th {\n",
       "        text-align: right;\n",
       "    }\n",
       "</style>\n",
       "<table border=\"1\" class=\"dataframe\">\n",
       "  <thead>\n",
       "    <tr style=\"text-align: right;\">\n",
       "      <th></th>\n",
       "      <th>Model</th>\n",
       "      <th>MAE</th>\n",
       "      <th>MSE</th>\n",
       "      <th>RMSE</th>\n",
       "      <th>R2 Square</th>\n",
       "    </tr>\n",
       "  </thead>\n",
       "  <tbody>\n",
       "    <tr>\n",
       "      <th>0</th>\n",
       "      <td>Linear Regression</td>\n",
       "      <td>2.782366</td>\n",
       "      <td>11.419699</td>\n",
       "      <td>3.379304</td>\n",
       "      <td>0.845577</td>\n",
       "    </tr>\n",
       "    <tr>\n",
       "      <th>1</th>\n",
       "      <td>Support Vector Machine</td>\n",
       "      <td>2.871226</td>\n",
       "      <td>12.949228</td>\n",
       "      <td>3.598504</td>\n",
       "      <td>0.824894</td>\n",
       "    </tr>\n",
       "    <tr>\n",
       "      <th>2</th>\n",
       "      <td>Lasso</td>\n",
       "      <td>2.962098</td>\n",
       "      <td>12.856577</td>\n",
       "      <td>3.585607</td>\n",
       "      <td>0.826146</td>\n",
       "    </tr>\n",
       "    <tr>\n",
       "      <th>3</th>\n",
       "      <td>Ridge Regression</td>\n",
       "      <td>2.914232</td>\n",
       "      <td>12.698144</td>\n",
       "      <td>3.563445</td>\n",
       "      <td>0.828289</td>\n",
       "    </tr>\n",
       "    <tr>\n",
       "      <th>4</th>\n",
       "      <td>Bagging</td>\n",
       "      <td>2.747222</td>\n",
       "      <td>11.229172</td>\n",
       "      <td>3.350996</td>\n",
       "      <td>0.848153</td>\n",
       "    </tr>\n",
       "  </tbody>\n",
       "</table>\n",
       "</div>"
      ],
      "text/plain": [
       "                    Model       MAE        MSE      RMSE  R2 Square\n",
       "0       Linear Regression  2.782366  11.419699  3.379304   0.845577\n",
       "1  Support Vector Machine  2.871226  12.949228  3.598504   0.824894\n",
       "2                   Lasso  2.962098  12.856577  3.585607   0.826146\n",
       "3        Ridge Regression  2.914232  12.698144  3.563445   0.828289\n",
       "4                 Bagging  2.747222  11.229172  3.350996   0.848153"
      ]
     },
     "execution_count": 110,
     "metadata": {},
     "output_type": "execute_result"
    }
   ],
   "source": [
    "results_df_2 = pd.DataFrame(data=[[\"Bagging\", *evaluate(y_test, test_pred) ]], \n",
    "                            columns=['Model', 'MAE', 'MSE', 'RMSE', 'R2 Square'])\n",
    "results_df = results_df.append(results_df_2, ignore_index=True)\n",
    "results_df"
   ]
  },
  {
   "cell_type": "markdown",
   "metadata": {},
   "source": [
    "### 6.Random forest"
   ]
  },
  {
   "cell_type": "code",
   "execution_count": 111,
   "metadata": {},
   "outputs": [],
   "source": [
    "# 6.Random forest\n",
    "from sklearn.ensemble import RandomForestRegressor\n",
    "rfr=RandomForestRegressor(n_estimators=100,min_samples_split=2,min_samples_leaf=2,max_depth=780,max_features='auto',random_state=1)"
   ]
  },
  {
   "cell_type": "code",
   "execution_count": 112,
   "metadata": {},
   "outputs": [
    {
     "data": {
      "text/plain": [
       "RandomForestRegressor(bootstrap=True, ccp_alpha=0.0, criterion='mse',\n",
       "                      max_depth=780, max_features='auto', max_leaf_nodes=None,\n",
       "                      max_samples=None, min_impurity_decrease=0.0,\n",
       "                      min_impurity_split=None, min_samples_leaf=2,\n",
       "                      min_samples_split=2, min_weight_fraction_leaf=0.0,\n",
       "                      n_estimators=100, n_jobs=None, oob_score=False,\n",
       "                      random_state=1, verbose=0, warm_start=False)"
      ]
     },
     "execution_count": 112,
     "metadata": {},
     "output_type": "execute_result"
    }
   ],
   "source": [
    "rfr.fit(x_train,y_train)"
   ]
  },
  {
   "cell_type": "code",
   "execution_count": 113,
   "metadata": {},
   "outputs": [
    {
     "name": "stdout",
     "output_type": "stream",
     "text": [
      "Random Forest: 0.8514510702238111\n"
     ]
    }
   ],
   "source": [
    "print('Random Forest:',rfr.score(x_test,y_test))"
   ]
  },
  {
   "cell_type": "code",
   "execution_count": 114,
   "metadata": {},
   "outputs": [],
   "source": [
    "pred=rfr.predict(x_test)"
   ]
  },
  {
   "cell_type": "code",
   "execution_count": 115,
   "metadata": {},
   "outputs": [
    {
     "name": "stdout",
     "output_type": "stream",
     "text": [
      "Test set evaluation:\n",
      "_____________________________________\n",
      "MAE: 2.7005042283950633\n",
      "MSE: 10.985285053819402\n",
      "RMSE: 3.3144056863666225\n",
      "R2 Square 0.8514510702238112\n",
      "====================================\n",
      "Train set evaluation:\n",
      "_____________________________________\n",
      "MAE: 1.9300817907647894\n",
      "MSE: 7.388568718974037\n",
      "RMSE: 2.7181921784476604\n",
      "R2 Square 0.9015589245714011\n"
     ]
    }
   ],
   "source": [
    "test_pred = rfr.predict(x_test)\n",
    "train_pred = rfr.predict(x_train)\n",
    "\n",
    "print('Test set evaluation:\\n_____________________________________')\n",
    "print_evaluate(y_test, test_pred)\n",
    "print('====================================')\n",
    "print('Train set evaluation:\\n_____________________________________')\n",
    "print_evaluate(y_train, train_pred)"
   ]
  },
  {
   "cell_type": "code",
   "execution_count": 116,
   "metadata": {},
   "outputs": [
    {
     "data": {
      "image/png": "[encoded data removed]",
      "text/plain": [
       "<Figure size 432x288 with 1 Axes>"
      ]
     },
     "metadata": {
      "needs_background": "light"
     },
     "output_type": "display_data"
    }
   ],
   "source": [
    "# Visualizing the differences between actual prices and predicted values\n",
    "plt.scatter(y_test, pred)\n",
    "plt.xlabel(\"Prices\")\n",
    "plt.ylabel(\"Predicted prices\")\n",
    "plt.title(\"Prices vs Predicted prices\")\n",
    "plt.show()"
   ]
  },
  {
   "cell_type": "code",
   "execution_count": 117,
   "metadata": {},
   "outputs": [
    {
     "data": {
      "image/png": "[encoded data removed]",
      "text/plain": [
       "<Figure size 432x288 with 1 Axes>"
      ]
     },
     "metadata": {
      "needs_background": "light"
     },
     "output_type": "display_data"
    }
   ],
   "source": [
    "# Checking residuals\n",
    "plt.scatter(pred,y_test-pred)\n",
    "plt.title(\"Predicted vs residuals\")\n",
    "plt.xlabel(\"Predicted\")\n",
    "plt.ylabel(\"Residuals\")\n",
    "plt.show()"
   ]
  },
  {
   "cell_type": "code",
   "execution_count": 118,
   "metadata": {},
   "outputs": [
    {
     "data": {
      "image/png": "[encoded data removed]",
      "text/plain": [
       "<Figure size 432x288 with 1 Axes>"
      ]
     },
     "metadata": {
      "needs_background": "light"
     },
     "output_type": "display_data"
    }
   ],
   "source": [
    "# Checking Normality of errors\n",
    "sns.distplot(y_test-pred)\n",
    "plt.title(\"Histogram of Residuals\")\n",
    "plt.xlabel(\"Residuals\")\n",
    "plt.ylabel(\"Frequency\")\n",
    "plt.show()"
   ]
  },
  {
   "cell_type": "markdown",
   "metadata": {},
   "source": [
    "####  Hyperparameter tunning "
   ]
  },
  {
   "cell_type": "code",
   "execution_count": 119,
   "metadata": {},
   "outputs": [],
   "source": [
    "from sklearn.ensemble import RandomForestRegressor"
   ]
  },
  {
   "cell_type": "code",
   "execution_count": 120,
   "metadata": {},
   "outputs": [],
   "source": [
    "rfr=RandomForestRegressor()"
   ]
  },
  {
   "cell_type": "code",
   "execution_count": 121,
   "metadata": {},
   "outputs": [],
   "source": [
    "import warnings\n",
    "warnings.filterwarnings('ignore')# we want to ignore warning"
   ]
  },
  {
   "cell_type": "code",
   "execution_count": 122,
   "metadata": {},
   "outputs": [
    {
     "name": "stdout",
     "output_type": "stream",
     "text": [
      "{'n_estimators': [100, 200, 300, 400, 500, 600, 700, 800, 900, 1000], 'max_features': ['auto'], 'max_depth': [10, 120, 230, 340, 450, 560, 670, 780, 890, 1000], 'min_samples_split': [2, 5, 10, 14], 'min_samples_leaf': [1, 2, 4, 6, 8]}\n"
     ]
    }
   ],
   "source": [
    "\n",
    "from sklearn.ensemble import RandomForestRegressor\n",
    "import numpy as np\n",
    "from sklearn.model_selection import RandomizedSearchCV\n",
    "# Number of trees in random forest\n",
    "n_estimators = [int(x) for x in np.linspace(start = 100, stop = 1000, num = 10)]\n",
    "# Number of features to consider at every split\n",
    "max_features = ['auto']\n",
    "# Maximum number of levels in tree\n",
    "max_depth = [int(x) for x in np.linspace(10, 1000,10)]\n",
    "# Minimum number of samples required to split a node\n",
    "min_samples_split = [2, 5, 10,14]\n",
    "# Minimum number of samples required at each leaf node\n",
    "min_samples_leaf = [1, 2, 4,6,8]\n",
    "# Create the random grid\n",
    "random_grid = {'n_estimators': n_estimators,\n",
    "               'max_features': max_features,\n",
    "               'max_depth': max_depth,\n",
    "               'min_samples_split': min_samples_split,\n",
    "               'min_samples_leaf': min_samples_leaf}\n",
    "print(random_grid)"
   ]
  },
  {
   "cell_type": "code",
   "execution_count": 123,
   "metadata": {},
   "outputs": [],
   "source": [
    "rf=RandomForestRegressor()\n",
    "rf_randomcv=RandomizedSearchCV(estimator=rf,param_distributions=random_grid,n_iter=10,cv=3,verbose=2,\n",
    "                               random_state=100,n_jobs=-1)"
   ]
  },
  {
   "cell_type": "code",
   "execution_count": 124,
   "metadata": {},
   "outputs": [
    {
     "name": "stdout",
     "output_type": "stream",
     "text": [
      "Fitting 3 folds for each of 10 candidates, totalling 30 fits\n"
     ]
    },
    {
     "name": "stderr",
     "output_type": "stream",
     "text": [
      "[Parallel(n_jobs=-1)]: Using backend LokyBackend with 4 concurrent workers.\n",
      "[Parallel(n_jobs=-1)]: Done  30 out of  30 | elapsed:   21.6s finished\n"
     ]
    },
    {
     "data": {
      "text/plain": [
       "RandomizedSearchCV(cv=3, error_score=nan,\n",
       "                   estimator=RandomForestRegressor(bootstrap=True,\n",
       "                                                   ccp_alpha=0.0,\n",
       "                                                   criterion='mse',\n",
       "                                                   max_depth=None,\n",
       "                                                   max_features='auto',\n",
       "                                                   max_leaf_nodes=None,\n",
       "                                                   max_samples=None,\n",
       "                                                   min_impurity_decrease=0.0,\n",
       "                                                   min_impurity_split=None,\n",
       "                                                   min_samples_leaf=1,\n",
       "                                                   min_samples_split=2,\n",
       "                                                   min_weight_fraction_leaf=0.0,\n",
       "                                                   n_estimators=100,\n",
       "                                                   n_jobs=None, oob_score=Fals...\n",
       "                   iid='deprecated', n_iter=10, n_jobs=-1,\n",
       "                   param_distributions={'max_depth': [10, 120, 230, 340, 450,\n",
       "                                                      560, 670, 780, 890,\n",
       "                                                      1000],\n",
       "                                        'max_features': ['auto'],\n",
       "                                        'min_samples_leaf': [1, 2, 4, 6, 8],\n",
       "                                        'min_samples_split': [2, 5, 10, 14],\n",
       "                                        'n_estimators': [100, 200, 300, 400,\n",
       "                                                         500, 600, 700, 800,\n",
       "                                                         900, 1000]},\n",
       "                   pre_dispatch='2*n_jobs', random_state=100, refit=True,\n",
       "                   return_train_score=False, scoring=None, verbose=2)"
      ]
     },
     "execution_count": 124,
     "metadata": {},
     "output_type": "execute_result"
    }
   ],
   "source": [
    "### fit the randomized model\n",
    "rf_randomcv.fit(x_train,y_train)"
   ]
  },
  {
   "cell_type": "code",
   "execution_count": 125,
   "metadata": {},
   "outputs": [
    {
     "data": {
      "text/plain": [
       "{'n_estimators': 1000,\n",
       " 'min_samples_split': 5,\n",
       " 'min_samples_leaf': 2,\n",
       " 'max_features': 'auto',\n",
       " 'max_depth': 1000}"
      ]
     },
     "execution_count": 125,
     "metadata": {},
     "output_type": "execute_result"
    }
   ],
   "source": [
    "rf_randomcv.best_params_"
   ]
  },
  {
   "cell_type": "code",
   "execution_count": 126,
   "metadata": {},
   "outputs": [
    {
     "data": {
      "text/plain": [
       "RandomForestRegressor(bootstrap=True, ccp_alpha=0.0, criterion='mse',\n",
       "                      max_depth=1000, max_features='auto', max_leaf_nodes=None,\n",
       "                      max_samples=None, min_impurity_decrease=0.0,\n",
       "                      min_impurity_split=None, min_samples_leaf=2,\n",
       "                      min_samples_split=5, min_weight_fraction_leaf=0.0,\n",
       "                      n_estimators=1000, n_jobs=None, oob_score=False,\n",
       "                      random_state=None, verbose=0, warm_start=False)"
      ]
     },
     "execution_count": 126,
     "metadata": {},
     "output_type": "execute_result"
    }
   ],
   "source": [
    "best_random_grid=rf_randomcv.best_estimator_\n",
    "best_random_grid"
   ]
  },
  {
   "cell_type": "code",
   "execution_count": 127,
   "metadata": {},
   "outputs": [
    {
     "name": "stdout",
     "output_type": "stream",
     "text": [
      "Test set evaluation:\n",
      "_____________________________________\n",
      "MAE: 2.882783834616019\n",
      "MSE: 12.039249893332519\n",
      "RMSE: 3.4697622243220816\n",
      "R2 Square 0.8371987910918307\n",
      "====================================\n",
      "Train set evaluation:\n",
      "_____________________________________\n",
      "MAE: 2.0650270307153216\n",
      "MSE: 8.389809125020802\n",
      "RMSE: 2.896516722724176\n",
      "R2 Square 0.8882189684739912\n"
     ]
    }
   ],
   "source": [
    "test_pred = best_random_grid.predict(x_test)\n",
    "train_pred = best_random_grid.predict(x_train)\n",
    "\n",
    "print('Test set evaluation:\\n_____________________________________')\n",
    "print_evaluate(y_test, test_pred)\n",
    "print('====================================')\n",
    "print('Train set evaluation:\\n_____________________________________')\n",
    "print_evaluate(y_train, train_pred)"
   ]
  },
  {
   "cell_type": "code",
   "execution_count": 128,
   "metadata": {},
   "outputs": [
    {
     "data": {
      "image/png": "[encoded data removed]",
      "text/plain": [
       "<Figure size 432x288 with 1 Axes>"
      ]
     },
     "metadata": {
      "needs_background": "light"
     },
     "output_type": "display_data"
    }
   ],
   "source": [
    "# Visualizing the differences between actual prices and predicted values\n",
    "plt.scatter(y_test, pred)\n",
    "plt.xlabel(\"Prices\")\n",
    "plt.ylabel(\"Predicted prices\")\n",
    "plt.title(\"Prices vs Predicted prices\")\n",
    "plt.show()"
   ]
  },
  {
   "cell_type": "code",
   "execution_count": 129,
   "metadata": {},
   "outputs": [
    {
     "data": {
      "image/png": "[encoded data removed]",
      "text/plain": [
       "<Figure size 432x288 with 1 Axes>"
      ]
     },
     "metadata": {
      "needs_background": "light"
     },
     "output_type": "display_data"
    }
   ],
   "source": [
    "# Checking residuals\n",
    "plt.scatter(pred,y_test-pred)\n",
    "plt.title(\"Predicted vs residuals\")\n",
    "plt.xlabel(\"Predicted\")\n",
    "plt.ylabel(\"Residuals\")\n",
    "plt.show()"
   ]
  },
  {
   "cell_type": "code",
   "execution_count": 130,
   "metadata": {},
   "outputs": [
    {
     "data": {
      "image/png": "[encoded data removed]",
      "text/plain": [
       "<Figure size 432x288 with 1 Axes>"
      ]
     },
     "metadata": {
      "needs_background": "light"
     },
     "output_type": "display_data"
    }
   ],
   "source": [
    "# Checking Normality of errors\n",
    "sns.distplot(y_test-pred)\n",
    "plt.title(\"Histogram of Residuals\")\n",
    "plt.xlabel(\"Residuals\")\n",
    "plt.ylabel(\"Frequency\")\n",
    "plt.show()"
   ]
  },
  {
   "cell_type": "code",
   "execution_count": 131,
   "metadata": {},
   "outputs": [],
   "source": [
    "def predict_price(OverallCond,area,bhk,ageofbuilding,location):    \n",
    "    loc_index = np.where(x.columns==location)[0][0]\n",
    "\n",
    "    X = np.zeros(len(x.columns))\n",
    "    X[0] = OverallCond\n",
    "    X[1] = area\n",
    "    X[2] = bhk\n",
    "    X[3] = ageofbuilding\n",
    "    if loc_index >= 0:\n",
    "        X[loc_index] = 1\n",
    "\n",
    "    return best_random_grid.predict([X])[0]"
   ]
  },
  {
   "cell_type": "code",
   "execution_count": 132,
   "metadata": {},
   "outputs": [
    {
     "data": {
      "text/plain": [
       "21.534304768758986"
      ]
     },
     "execution_count": 132,
     "metadata": {},
     "output_type": "execute_result"
    }
   ],
   "source": [
    "predict_price(9,684,2,0,'arvind marg')"
   ]
  },
  {
   "cell_type": "code",
   "execution_count": 133,
   "metadata": {},
   "outputs": [
    {
     "data": {
      "text/html": [
       "<div>\n",
       "<style scoped>\n",
       "    .dataframe tbody tr th:only-of-type {\n",
       "        vertical-align: middle;\n",
       "    }\n",
       "\n",
       "    .dataframe tbody tr th {\n",
       "        vertical-align: top;\n",
       "    }\n",
       "\n",
       "    .dataframe thead th {\n",
       "        text-align: right;\n",
       "    }\n",
       "</style>\n",
       "<table border=\"1\" class=\"dataframe\">\n",
       "  <thead>\n",
       "    <tr style=\"text-align: right;\">\n",
       "      <th></th>\n",
       "      <th>Model</th>\n",
       "      <th>MAE</th>\n",
       "      <th>MSE</th>\n",
       "      <th>RMSE</th>\n",
       "      <th>R2 Square</th>\n",
       "    </tr>\n",
       "  </thead>\n",
       "  <tbody>\n",
       "    <tr>\n",
       "      <th>0</th>\n",
       "      <td>Linear Regression</td>\n",
       "      <td>2.782366</td>\n",
       "      <td>11.419699</td>\n",
       "      <td>3.379304</td>\n",
       "      <td>0.845577</td>\n",
       "    </tr>\n",
       "    <tr>\n",
       "      <th>1</th>\n",
       "      <td>Support Vector Machine</td>\n",
       "      <td>2.871226</td>\n",
       "      <td>12.949228</td>\n",
       "      <td>3.598504</td>\n",
       "      <td>0.824894</td>\n",
       "    </tr>\n",
       "    <tr>\n",
       "      <th>2</th>\n",
       "      <td>Lasso</td>\n",
       "      <td>2.962098</td>\n",
       "      <td>12.856577</td>\n",
       "      <td>3.585607</td>\n",
       "      <td>0.826146</td>\n",
       "    </tr>\n",
       "    <tr>\n",
       "      <th>3</th>\n",
       "      <td>Ridge Regression</td>\n",
       "      <td>2.914232</td>\n",
       "      <td>12.698144</td>\n",
       "      <td>3.563445</td>\n",
       "      <td>0.828289</td>\n",
       "    </tr>\n",
       "    <tr>\n",
       "      <th>4</th>\n",
       "      <td>Bagging</td>\n",
       "      <td>2.747222</td>\n",
       "      <td>11.229172</td>\n",
       "      <td>3.350996</td>\n",
       "      <td>0.848153</td>\n",
       "    </tr>\n",
       "    <tr>\n",
       "      <th>5</th>\n",
       "      <td>Random Forest</td>\n",
       "      <td>2.882784</td>\n",
       "      <td>12.039250</td>\n",
       "      <td>3.469762</td>\n",
       "      <td>0.837199</td>\n",
       "    </tr>\n",
       "  </tbody>\n",
       "</table>\n",
       "</div>"
      ],
      "text/plain": [
       "                    Model       MAE        MSE      RMSE  R2 Square\n",
       "0       Linear Regression  2.782366  11.419699  3.379304   0.845577\n",
       "1  Support Vector Machine  2.871226  12.949228  3.598504   0.824894\n",
       "2                   Lasso  2.962098  12.856577  3.585607   0.826146\n",
       "3        Ridge Regression  2.914232  12.698144  3.563445   0.828289\n",
       "4                 Bagging  2.747222  11.229172  3.350996   0.848153\n",
       "5           Random Forest  2.882784  12.039250  3.469762   0.837199"
      ]
     },
     "execution_count": 133,
     "metadata": {},
     "output_type": "execute_result"
    }
   ],
   "source": [
    "results_df_2 = pd.DataFrame(data=[[\"Random Forest\", *evaluate(y_test, test_pred) ]], \n",
    "                            columns=['Model', 'MAE', 'MSE', 'RMSE', 'R2 Square'])\n",
    "results_df = results_df.append(results_df_2, ignore_index=True)\n",
    "results_df"
   ]
  },
  {
   "cell_type": "markdown",
   "metadata": {},
   "source": [
    "## Boosting"
   ]
  },
  {
   "cell_type": "markdown",
   "metadata": {},
   "source": [
    "### 7. AdaBoost"
   ]
  },
  {
   "cell_type": "code",
   "execution_count": 134,
   "metadata": {},
   "outputs": [],
   "source": [
    "\n",
    "from sklearn.ensemble import AdaBoostRegressor\n",
    "adab=AdaBoostRegressor()"
   ]
  },
  {
   "cell_type": "code",
   "execution_count": 135,
   "metadata": {},
   "outputs": [
    {
     "data": {
      "text/plain": [
       "AdaBoostRegressor(base_estimator=None, learning_rate=1.0, loss='linear',\n",
       "                  n_estimators=50, random_state=None)"
      ]
     },
     "execution_count": 135,
     "metadata": {},
     "output_type": "execute_result"
    }
   ],
   "source": [
    "adab.fit(x_train,y_train)"
   ]
  },
  {
   "cell_type": "code",
   "execution_count": 136,
   "metadata": {},
   "outputs": [
    {
     "data": {
      "text/plain": [
       "array([23.25      , 35.6       , 30.68181818, 27.25      , 27.14055556,\n",
       "       14.671875  , 25.255     , 25.255     , 45.        ])"
      ]
     },
     "execution_count": 136,
     "metadata": {},
     "output_type": "execute_result"
    }
   ],
   "source": [
    "pred=adab.predict(x_test)\n",
    "pred"
   ]
  },
  {
   "cell_type": "code",
   "execution_count": 137,
   "metadata": {},
   "outputs": [
    {
     "name": "stdout",
     "output_type": "stream",
     "text": [
      "Test set evaluation:\n",
      "_____________________________________\n",
      "MAE: 3.210472081930415\n",
      "MSE: 15.192704762486152\n",
      "RMSE: 3.897782031166719\n",
      "R2 Square 0.7945560791717231\n",
      "====================================\n",
      "Train set evaluation:\n",
      "_____________________________________\n",
      "MAE: 1.3670514172335597\n",
      "MSE: 2.597539117523418\n",
      "RMSE: 1.611688281747875\n",
      "R2 Square 0.9653918703442247\n"
     ]
    }
   ],
   "source": [
    "test_pred = adab.predict(x_test)\n",
    "train_pred = adab.predict(x_train)\n",
    "\n",
    "print('Test set evaluation:\\n_____________________________________')\n",
    "print_evaluate(y_test, test_pred)\n",
    "print('====================================')\n",
    "print('Train set evaluation:\\n_____________________________________')\n",
    "print_evaluate(y_train, train_pred)"
   ]
  },
  {
   "cell_type": "code",
   "execution_count": 138,
   "metadata": {},
   "outputs": [
    {
     "data": {
      "image/png": "[encoded data removed]",
      "text/plain": [
       "<Figure size 432x288 with 1 Axes>"
      ]
     },
     "metadata": {
      "needs_background": "light"
     },
     "output_type": "display_data"
    }
   ],
   "source": [
    "# Visualizing the differences between actual prices and predicted values\n",
    "plt.scatter(y_test, pred)\n",
    "plt.xlabel(\"Prices\")\n",
    "plt.ylabel(\"Predicted prices\")\n",
    "plt.title(\"Prices vs Predicted prices\")\n",
    "plt.show()"
   ]
  },
  {
   "cell_type": "code",
   "execution_count": 139,
   "metadata": {},
   "outputs": [
    {
     "data": {
      "image/png": "[encoded data removed]",
      "text/plain": [
       "<Figure size 432x288 with 1 Axes>"
      ]
     },
     "metadata": {
      "needs_background": "light"
     },
     "output_type": "display_data"
    }
   ],
   "source": [
    "# Checking residuals\n",
    "plt.scatter(pred,y_test-pred)\n",
    "plt.title(\"Predicted vs residuals\")\n",
    "plt.xlabel(\"Predicted\")\n",
    "plt.ylabel(\"Residuals\")\n",
    "plt.show()"
   ]
  },
  {
   "cell_type": "code",
   "execution_count": 140,
   "metadata": {},
   "outputs": [
    {
     "data": {
      "image/png": "[encoded data removed]",
      "text/plain": [
       "<Figure size 432x288 with 1 Axes>"
      ]
     },
     "metadata": {
      "needs_background": "light"
     },
     "output_type": "display_data"
    }
   ],
   "source": [
    "# Checking Normality of errors\n",
    "sns.distplot(y_test-pred)\n",
    "plt.title(\"Histogram of Residuals\")\n",
    "plt.xlabel(\"Residuals\")\n",
    "plt.ylabel(\"Frequency\")\n",
    "plt.show()"
   ]
  },
  {
   "cell_type": "code",
   "execution_count": 141,
   "metadata": {},
   "outputs": [],
   "source": [
    "def predict_price(OverallCond,area,bhk,ageofbuilding,location):    \n",
    "    loc_index = np.where(x.columns==location)[0][0]\n",
    "\n",
    "    X = np.zeros(len(x.columns))\n",
    "    X[0] = OverallCond\n",
    "    X[1] = area\n",
    "    X[2] = bhk\n",
    "    X[3] = ageofbuilding\n",
    "    if loc_index >= 0:\n",
    "        X[loc_index] = 1\n",
    "\n",
    "    return adab.predict([X])[0]"
   ]
  },
  {
   "cell_type": "code",
   "execution_count": 142,
   "metadata": {},
   "outputs": [
    {
     "data": {
      "text/plain": [
       "23.982142857142858"
      ]
     },
     "execution_count": 142,
     "metadata": {},
     "output_type": "execute_result"
    }
   ],
   "source": [
    "predict_price(9,684,2,0,'arvind marg')"
   ]
  },
  {
   "cell_type": "code",
   "execution_count": 143,
   "metadata": {},
   "outputs": [
    {
     "data": {
      "text/html": [
       "<div>\n",
       "<style scoped>\n",
       "    .dataframe tbody tr th:only-of-type {\n",
       "        vertical-align: middle;\n",
       "    }\n",
       "\n",
       "    .dataframe tbody tr th {\n",
       "        vertical-align: top;\n",
       "    }\n",
       "\n",
       "    .dataframe thead th {\n",
       "        text-align: right;\n",
       "    }\n",
       "</style>\n",
       "<table border=\"1\" class=\"dataframe\">\n",
       "  <thead>\n",
       "    <tr style=\"text-align: right;\">\n",
       "      <th></th>\n",
       "      <th>Model</th>\n",
       "      <th>MAE</th>\n",
       "      <th>MSE</th>\n",
       "      <th>RMSE</th>\n",
       "      <th>R2 Square</th>\n",
       "    </tr>\n",
       "  </thead>\n",
       "  <tbody>\n",
       "    <tr>\n",
       "      <th>0</th>\n",
       "      <td>Linear Regression</td>\n",
       "      <td>2.782366</td>\n",
       "      <td>11.419699</td>\n",
       "      <td>3.379304</td>\n",
       "      <td>0.845577</td>\n",
       "    </tr>\n",
       "    <tr>\n",
       "      <th>1</th>\n",
       "      <td>Support Vector Machine</td>\n",
       "      <td>2.871226</td>\n",
       "      <td>12.949228</td>\n",
       "      <td>3.598504</td>\n",
       "      <td>0.824894</td>\n",
       "    </tr>\n",
       "    <tr>\n",
       "      <th>2</th>\n",
       "      <td>Lasso</td>\n",
       "      <td>2.962098</td>\n",
       "      <td>12.856577</td>\n",
       "      <td>3.585607</td>\n",
       "      <td>0.826146</td>\n",
       "    </tr>\n",
       "    <tr>\n",
       "      <th>3</th>\n",
       "      <td>Ridge Regression</td>\n",
       "      <td>2.914232</td>\n",
       "      <td>12.698144</td>\n",
       "      <td>3.563445</td>\n",
       "      <td>0.828289</td>\n",
       "    </tr>\n",
       "    <tr>\n",
       "      <th>4</th>\n",
       "      <td>Bagging</td>\n",
       "      <td>2.747222</td>\n",
       "      <td>11.229172</td>\n",
       "      <td>3.350996</td>\n",
       "      <td>0.848153</td>\n",
       "    </tr>\n",
       "    <tr>\n",
       "      <th>5</th>\n",
       "      <td>Random Forest</td>\n",
       "      <td>2.882784</td>\n",
       "      <td>12.039250</td>\n",
       "      <td>3.469762</td>\n",
       "      <td>0.837199</td>\n",
       "    </tr>\n",
       "    <tr>\n",
       "      <th>6</th>\n",
       "      <td>Adaboost</td>\n",
       "      <td>3.210472</td>\n",
       "      <td>15.192705</td>\n",
       "      <td>3.897782</td>\n",
       "      <td>0.794556</td>\n",
       "    </tr>\n",
       "  </tbody>\n",
       "</table>\n",
       "</div>"
      ],
      "text/plain": [
       "                    Model       MAE        MSE      RMSE  R2 Square\n",
       "0       Linear Regression  2.782366  11.419699  3.379304   0.845577\n",
       "1  Support Vector Machine  2.871226  12.949228  3.598504   0.824894\n",
       "2                   Lasso  2.962098  12.856577  3.585607   0.826146\n",
       "3        Ridge Regression  2.914232  12.698144  3.563445   0.828289\n",
       "4                 Bagging  2.747222  11.229172  3.350996   0.848153\n",
       "5           Random Forest  2.882784  12.039250  3.469762   0.837199\n",
       "6                Adaboost  3.210472  15.192705  3.897782   0.794556"
      ]
     },
     "execution_count": 143,
     "metadata": {},
     "output_type": "execute_result"
    }
   ],
   "source": [
    "results_df_2 = pd.DataFrame(data=[[\"Adaboost\", *evaluate(y_test, test_pred) ]], \n",
    "                            columns=['Model', 'MAE', 'MSE', 'RMSE', 'R2 Square'])\n",
    "results_df = results_df.append(results_df_2, ignore_index=True)\n",
    "results_df"
   ]
  },
  {
   "cell_type": "markdown",
   "metadata": {},
   "source": [
    "### 8.GradientBoosting"
   ]
  },
  {
   "cell_type": "code",
   "execution_count": 144,
   "metadata": {},
   "outputs": [
    {
     "data": {
      "text/plain": [
       "GradientBoostingRegressor(alpha=0.9, ccp_alpha=0.0, criterion='friedman_mse',\n",
       "                          init=None, learning_rate=0.1, loss='ls', max_depth=3,\n",
       "                          max_features=None, max_leaf_nodes=None,\n",
       "                          min_impurity_decrease=0.0, min_impurity_split=None,\n",
       "                          min_samples_leaf=1, min_samples_split=2,\n",
       "                          min_weight_fraction_leaf=0.0, n_estimators=100,\n",
       "                          n_iter_no_change=None, presort='deprecated',\n",
       "                          random_state=None, subsample=1.0, tol=0.0001,\n",
       "                          validation_fraction=0.1, verbose=0, warm_start=False)"
      ]
     },
     "execution_count": 144,
     "metadata": {},
     "output_type": "execute_result"
    }
   ],
   "source": [
    "\n",
    "from sklearn.ensemble import GradientBoostingRegressor\n",
    "gbr=GradientBoostingRegressor()\n",
    "gbr.fit(x_train,y_train)\n"
   ]
  },
  {
   "cell_type": "code",
   "execution_count": 145,
   "metadata": {},
   "outputs": [
    {
     "data": {
      "text/plain": [
       "array([18.1513634 , 37.35688315, 30.76372438, 28.38539182, 29.54777362,\n",
       "       14.2098971 , 24.07263301, 24.9220838 , 43.35434339])"
      ]
     },
     "execution_count": 145,
     "metadata": {},
     "output_type": "execute_result"
    }
   ],
   "source": [
    "pred=gbr.predict(x_test)\n",
    "pred"
   ]
  },
  {
   "cell_type": "code",
   "execution_count": 146,
   "metadata": {},
   "outputs": [
    {
     "name": "stdout",
     "output_type": "stream",
     "text": [
      "Test set evaluation:\n",
      "_____________________________________\n",
      "MAE: 3.210472081930415\n",
      "MSE: 15.192704762486152\n",
      "RMSE: 3.897782031166719\n",
      "R2 Square 0.7945560791717231\n",
      "====================================\n",
      "Train set evaluation:\n",
      "_____________________________________\n",
      "MAE: 0.22039402856122678\n",
      "MSE: 0.08054660193475044\n",
      "RMSE: 0.28380733241893247\n",
      "R2 Square 0.9989268430168059\n"
     ]
    }
   ],
   "source": [
    "est_pred = gbr.predict(x_test)\n",
    "train_pred = gbr.predict(x_train)\n",
    "\n",
    "print('Test set evaluation:\\n_____________________________________')\n",
    "print_evaluate(y_test, test_pred)\n",
    "print('====================================')\n",
    "print('Train set evaluation:\\n_____________________________________')\n",
    "print_evaluate(y_train, train_pred)"
   ]
  },
  {
   "cell_type": "code",
   "execution_count": 147,
   "metadata": {},
   "outputs": [
    {
     "data": {
      "image/png": "[encoded data removed]",
      "text/plain": [
       "<Figure size 432x288 with 1 Axes>"
      ]
     },
     "metadata": {
      "needs_background": "light"
     },
     "output_type": "display_data"
    }
   ],
   "source": [
    "# Visualizing the differences between actual prices and predicted values\n",
    "plt.scatter(y_test, pred)\n",
    "plt.xlabel(\"Prices\")\n",
    "plt.ylabel(\"Predicted prices\")\n",
    "plt.title(\"Prices vs Predicted prices\")\n",
    "plt.show()"
   ]
  },
  {
   "cell_type": "code",
   "execution_count": 148,
   "metadata": {},
   "outputs": [
    {
     "data": {
      "image/png": "[encoded data removed]",
      "text/plain": [
       "<Figure size 432x288 with 1 Axes>"
      ]
     },
     "metadata": {
      "needs_background": "light"
     },
     "output_type": "display_data"
    }
   ],
   "source": [
    "# Checking residuals\n",
    "plt.scatter(pred,y_test-pred)\n",
    "plt.title(\"Predicted vs residuals\")\n",
    "plt.xlabel(\"Predicted\")\n",
    "plt.ylabel(\"Residuals\")\n",
    "plt.show()"
   ]
  },
  {
   "cell_type": "code",
   "execution_count": 149,
   "metadata": {},
   "outputs": [
    {
     "data": {
      "image/png": "[encoded data removed]",
      "text/plain": [
       "<Figure size 432x288 with 1 Axes>"
      ]
     },
     "metadata": {
      "needs_background": "light"
     },
     "output_type": "display_data"
    }
   ],
   "source": [
    "# Checking Normality of errors\n",
    "sns.distplot(y_test-pred)\n",
    "plt.title(\"Histogram of Residuals\")\n",
    "plt.xlabel(\"Residuals\")\n",
    "plt.ylabel(\"Frequency\")\n",
    "plt.show()"
   ]
  },
  {
   "cell_type": "code",
   "execution_count": 150,
   "metadata": {},
   "outputs": [],
   "source": [
    "def predict_price(OverallCond,area,bhk,ageofbuilding,location):    \n",
    "    loc_index = np.where(x.columns==location)[0][0]\n",
    "\n",
    "    X = np.zeros(len(x.columns))\n",
    "    X[0] = OverallCond\n",
    "    X[1] = area\n",
    "    X[2] = bhk\n",
    "    X[3] = ageofbuilding\n",
    "    if loc_index >= 0:\n",
    "        X[loc_index] = 1\n",
    "\n",
    "    return gbr.predict([X])[0]"
   ]
  },
  {
   "cell_type": "code",
   "execution_count": 151,
   "metadata": {},
   "outputs": [
    {
     "data": {
      "text/plain": [
       "25.23584490465953"
      ]
     },
     "execution_count": 151,
     "metadata": {},
     "output_type": "execute_result"
    }
   ],
   "source": [
    "predict_price(9,684,2,0,'arvind marg')"
   ]
  },
  {
   "cell_type": "code",
   "execution_count": 152,
   "metadata": {},
   "outputs": [
    {
     "data": {
      "text/html": [
       "<div>\n",
       "<style scoped>\n",
       "    .dataframe tbody tr th:only-of-type {\n",
       "        vertical-align: middle;\n",
       "    }\n",
       "\n",
       "    .dataframe tbody tr th {\n",
       "        vertical-align: top;\n",
       "    }\n",
       "\n",
       "    .dataframe thead th {\n",
       "        text-align: right;\n",
       "    }\n",
       "</style>\n",
       "<table border=\"1\" class=\"dataframe\">\n",
       "  <thead>\n",
       "    <tr style=\"text-align: right;\">\n",
       "      <th></th>\n",
       "      <th>Model</th>\n",
       "      <th>MAE</th>\n",
       "      <th>MSE</th>\n",
       "      <th>RMSE</th>\n",
       "      <th>R2 Square</th>\n",
       "    </tr>\n",
       "  </thead>\n",
       "  <tbody>\n",
       "    <tr>\n",
       "      <th>0</th>\n",
       "      <td>Linear Regression</td>\n",
       "      <td>2.782366</td>\n",
       "      <td>11.419699</td>\n",
       "      <td>3.379304</td>\n",
       "      <td>0.845577</td>\n",
       "    </tr>\n",
       "    <tr>\n",
       "      <th>1</th>\n",
       "      <td>Support Vector Machine</td>\n",
       "      <td>2.871226</td>\n",
       "      <td>12.949228</td>\n",
       "      <td>3.598504</td>\n",
       "      <td>0.824894</td>\n",
       "    </tr>\n",
       "    <tr>\n",
       "      <th>2</th>\n",
       "      <td>Lasso</td>\n",
       "      <td>2.962098</td>\n",
       "      <td>12.856577</td>\n",
       "      <td>3.585607</td>\n",
       "      <td>0.826146</td>\n",
       "    </tr>\n",
       "    <tr>\n",
       "      <th>3</th>\n",
       "      <td>Ridge Regression</td>\n",
       "      <td>2.914232</td>\n",
       "      <td>12.698144</td>\n",
       "      <td>3.563445</td>\n",
       "      <td>0.828289</td>\n",
       "    </tr>\n",
       "    <tr>\n",
       "      <th>4</th>\n",
       "      <td>Bagging</td>\n",
       "      <td>2.747222</td>\n",
       "      <td>11.229172</td>\n",
       "      <td>3.350996</td>\n",
       "      <td>0.848153</td>\n",
       "    </tr>\n",
       "    <tr>\n",
       "      <th>5</th>\n",
       "      <td>Random Forest</td>\n",
       "      <td>2.882784</td>\n",
       "      <td>12.039250</td>\n",
       "      <td>3.469762</td>\n",
       "      <td>0.837199</td>\n",
       "    </tr>\n",
       "    <tr>\n",
       "      <th>6</th>\n",
       "      <td>Adaboost</td>\n",
       "      <td>3.210472</td>\n",
       "      <td>15.192705</td>\n",
       "      <td>3.897782</td>\n",
       "      <td>0.794556</td>\n",
       "    </tr>\n",
       "    <tr>\n",
       "      <th>7</th>\n",
       "      <td>GradientBoosting</td>\n",
       "      <td>3.210472</td>\n",
       "      <td>15.192705</td>\n",
       "      <td>3.897782</td>\n",
       "      <td>0.794556</td>\n",
       "    </tr>\n",
       "  </tbody>\n",
       "</table>\n",
       "</div>"
      ],
      "text/plain": [
       "                    Model       MAE        MSE      RMSE  R2 Square\n",
       "0       Linear Regression  2.782366  11.419699  3.379304   0.845577\n",
       "1  Support Vector Machine  2.871226  12.949228  3.598504   0.824894\n",
       "2                   Lasso  2.962098  12.856577  3.585607   0.826146\n",
       "3        Ridge Regression  2.914232  12.698144  3.563445   0.828289\n",
       "4                 Bagging  2.747222  11.229172  3.350996   0.848153\n",
       "5           Random Forest  2.882784  12.039250  3.469762   0.837199\n",
       "6                Adaboost  3.210472  15.192705  3.897782   0.794556\n",
       "7        GradientBoosting  3.210472  15.192705  3.897782   0.794556"
      ]
     },
     "execution_count": 152,
     "metadata": {},
     "output_type": "execute_result"
    }
   ],
   "source": [
    "results_df_2 = pd.DataFrame(data=[[\"GradientBoosting\", *evaluate(y_test, test_pred) ]], \n",
    "                            columns=['Model', 'MAE', 'MSE', 'RMSE', 'R2 Square'])\n",
    "results_df = results_df.append(results_df_2, ignore_index=True)\n",
    "results_df"
   ]
  },
  {
   "cell_type": "markdown",
   "metadata": {},
   "source": [
    "### Models Comparison"
   ]
  },
  {
   "cell_type": "code",
   "execution_count": 153,
   "metadata": {},
   "outputs": [
    {
     "data": {
      "text/plain": [
       "<matplotlib.axes._subplots.AxesSubplot at 0x10265cf0>"
      ]
     },
     "execution_count": 153,
     "metadata": {},
     "output_type": "execute_result"
    },
    {
     "data": {
      "image/png": "[encoded data removed]",
      "text/plain": [
       "<Figure size 864x576 with 1 Axes>"
      ]
     },
     "metadata": {
      "needs_background": "light"
     },
     "output_type": "display_data"
    }
   ],
   "source": [
    "results_df.set_index('Model', inplace=True)\n",
    "results_df['R2 Square'].plot(kind='barh', figsize=(12, 8))"
   ]
  },
  {
   "cell_type": "markdown",
   "metadata": {},
   "source": [
    "### Conclusion"
   ]
  },
  {
   "cell_type": "markdown",
   "metadata": {},
   "source": [
    "\n",
    "when we look at the model accurcy table Bagging,Linear model,Random forest is working very well.In which Bagging is \n",
    "working very well if we compare with all other models.Bagging have 0.871260 accuracy,it means almost \n",
    "87% values are predicted well.\n",
    "We have built our model on very small dataset,if we increase this dataset accuracy will be increase.\n"
   ]
  },
  {
   "cell_type": "markdown",
   "metadata": {},
   "source": [
    "### References:"
   ]
  },
  {
   "cell_type": "markdown",
   "metadata": {},
   "source": [
    "###### https://scikit-learn.org/stable/supervised_learning.html#supervised-learning"
   ]
  },
  {
   "cell_type": "code",
   "execution_count": null,
   "metadata": {},
   "outputs": [],
   "source": []
  }
 ],
 "metadata": {
  "kernelspec": {
   "display_name": "Python 3",
   "language": "python",
   "name": "python3"
  },
  "language_info": {
   "codemirror_mode": {
    "name": "ipython",
    "version": 3
   },
   "file_extension": ".py",
   "mimetype": "text/x-python",
   "name": "python",
   "nbconvert_exporter": "python",
   "pygments_lexer": "ipython3",
   "version": "3.7.1"
  }
 },
 "nbformat": 4,
 "nbformat_minor": 2
}
